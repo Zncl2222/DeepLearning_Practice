{
 "cells": [
  {
   "cell_type": "code",
   "execution_count": 1,
   "id": "9e8ff857",
   "metadata": {
    "_cell_guid": "b1076dfc-b9ad-4769-8c92-a6c4dae69d19",
    "_uuid": "8f2839f25d086af736a60e9eeb907d3b93b6e0e5",
    "execution": {
     "iopub.execute_input": "2022-02-05T02:52:48.969978Z",
     "iopub.status.busy": "2022-02-05T02:52:48.968752Z",
     "iopub.status.idle": "2022-02-05T02:52:48.985042Z",
     "shell.execute_reply": "2022-02-05T02:52:48.984381Z",
     "shell.execute_reply.started": "2022-02-04T14:50:20.408804Z"
    },
    "papermill": {
     "duration": 0.039805,
     "end_time": "2022-02-05T02:52:48.985207",
     "exception": false,
     "start_time": "2022-02-05T02:52:48.945402",
     "status": "completed"
    },
    "tags": []
   },
   "outputs": [
    {
     "name": "stdout",
     "output_type": "stream",
     "text": [
      "/kaggle/input/c/titanic/train.csv\n",
      "/kaggle/input/c/titanic/test.csv\n",
      "/kaggle/input/c/titanic/gender_submission.csv\n"
     ]
    }
   ],
   "source": [
    "# This Python 3 environment comes with many helpful analytics libraries installed\n",
    "# It is defined by the kaggle/python Docker image: https://github.com/kaggle/docker-python\n",
    "# For example, here's several helpful packages to load\n",
    "\n",
    "import numpy as np # linear algebra\n",
    "import pandas as pd # data processing, CSV file I/O (e.g. pd.read_csv)\n",
    "\n",
    "# Input data files are available in the read-only \"../input/\" directory\n",
    "# For example, running this (by clicking run or pressing Shift+Enter) will list all files under the input directory\n",
    "\n",
    "import os\n",
    "for dirname, _, filenames in os.walk('/kaggle/input'):\n",
    "    for filename in filenames:\n",
    "        print(os.path.join(dirname, filename))\n",
    "\n",
    "# You can write up to 20GB to the current directory (/kaggle/working/) that gets preserved as output when you create a version using \"Save & Run All\" \n",
    "# You can also write temporary files to /kaggle/temp/, but they won't be saved outside of the current session"
   ]
  },
  {
   "cell_type": "code",
   "execution_count": 2,
   "id": "8d3f7a8d",
   "metadata": {
    "execution": {
     "iopub.execute_input": "2022-02-05T02:52:49.027004Z",
     "iopub.status.busy": "2022-02-05T02:52:49.026032Z",
     "iopub.status.idle": "2022-02-05T02:52:54.351915Z",
     "shell.execute_reply": "2022-02-05T02:52:54.351279Z",
     "shell.execute_reply.started": "2022-02-04T14:50:21.387475Z"
    },
    "papermill": {
     "duration": 5.347789,
     "end_time": "2022-02-05T02:52:54.352064",
     "exception": false,
     "start_time": "2022-02-05T02:52:49.004275",
     "status": "completed"
    },
    "tags": []
   },
   "outputs": [
    {
     "name": "stderr",
     "output_type": "stream",
     "text": [
      "2022-02-05 02:52:49.621425: W tensorflow/stream_executor/platform/default/dso_loader.cc:60] Could not load dynamic library 'libcudart.so.11.0'; dlerror: libcudart.so.11.0: cannot open shared object file: No such file or directory; LD_LIBRARY_PATH: /opt/conda/lib\n",
      "2022-02-05 02:52:49.621554: I tensorflow/stream_executor/cuda/cudart_stub.cc:29] Ignore above cudart dlerror if you do not have a GPU set up on your machine.\n"
     ]
    }
   ],
   "source": [
    "from tensorflow.keras.layers import Dense,Dropout,BatchNormalization\n",
    "from tensorflow.keras.models import Sequential\n",
    "from tensorflow.keras.optimizers import Adam\n",
    "import numpy as np \n",
    "import pandas as pd\n",
    "import matplotlib.pyplot as plt"
   ]
  },
  {
   "cell_type": "code",
   "execution_count": 3,
   "id": "89cad0df",
   "metadata": {
    "execution": {
     "iopub.execute_input": "2022-02-05T02:52:54.394813Z",
     "iopub.status.busy": "2022-02-05T02:52:54.393837Z",
     "iopub.status.idle": "2022-02-05T02:52:54.432500Z",
     "shell.execute_reply": "2022-02-05T02:52:54.433078Z",
     "shell.execute_reply.started": "2022-02-04T15:18:24.347611Z"
    },
    "papermill": {
     "duration": 0.061763,
     "end_time": "2022-02-05T02:52:54.433272",
     "exception": false,
     "start_time": "2022-02-05T02:52:54.371509",
     "status": "completed"
    },
    "tags": []
   },
   "outputs": [],
   "source": [
    "gender_submission = pd.read_csv(r\"../input/c/titanic/gender_submission.csv\")\n",
    "train_data = pd.read_csv(r\"../input/c/titanic/train.csv\")\n",
    "test_data = pd.read_csv(r\"../input/c/titanic/test.csv\")"
   ]
  },
  {
   "cell_type": "code",
   "execution_count": 4,
   "id": "3e917642",
   "metadata": {
    "execution": {
     "iopub.execute_input": "2022-02-05T02:52:54.475721Z",
     "iopub.status.busy": "2022-02-05T02:52:54.474768Z",
     "iopub.status.idle": "2022-02-05T02:52:54.494579Z",
     "shell.execute_reply": "2022-02-05T02:52:54.494076Z",
     "shell.execute_reply.started": "2022-02-04T14:37:42.688264Z"
    },
    "papermill": {
     "duration": 0.042145,
     "end_time": "2022-02-05T02:52:54.494724",
     "exception": false,
     "start_time": "2022-02-05T02:52:54.452579",
     "status": "completed"
    },
    "tags": []
   },
   "outputs": [
    {
     "data": {
      "text/html": [
       "<div>\n",
       "<style scoped>\n",
       "    .dataframe tbody tr th:only-of-type {\n",
       "        vertical-align: middle;\n",
       "    }\n",
       "\n",
       "    .dataframe tbody tr th {\n",
       "        vertical-align: top;\n",
       "    }\n",
       "\n",
       "    .dataframe thead th {\n",
       "        text-align: right;\n",
       "    }\n",
       "</style>\n",
       "<table border=\"1\" class=\"dataframe\">\n",
       "  <thead>\n",
       "    <tr style=\"text-align: right;\">\n",
       "      <th></th>\n",
       "      <th>PassengerId</th>\n",
       "      <th>Survived</th>\n",
       "    </tr>\n",
       "  </thead>\n",
       "  <tbody>\n",
       "    <tr>\n",
       "      <th>0</th>\n",
       "      <td>892</td>\n",
       "      <td>0</td>\n",
       "    </tr>\n",
       "    <tr>\n",
       "      <th>1</th>\n",
       "      <td>893</td>\n",
       "      <td>1</td>\n",
       "    </tr>\n",
       "    <tr>\n",
       "      <th>2</th>\n",
       "      <td>894</td>\n",
       "      <td>0</td>\n",
       "    </tr>\n",
       "    <tr>\n",
       "      <th>3</th>\n",
       "      <td>895</td>\n",
       "      <td>0</td>\n",
       "    </tr>\n",
       "    <tr>\n",
       "      <th>4</th>\n",
       "      <td>896</td>\n",
       "      <td>1</td>\n",
       "    </tr>\n",
       "    <tr>\n",
       "      <th>...</th>\n",
       "      <td>...</td>\n",
       "      <td>...</td>\n",
       "    </tr>\n",
       "    <tr>\n",
       "      <th>413</th>\n",
       "      <td>1305</td>\n",
       "      <td>0</td>\n",
       "    </tr>\n",
       "    <tr>\n",
       "      <th>414</th>\n",
       "      <td>1306</td>\n",
       "      <td>1</td>\n",
       "    </tr>\n",
       "    <tr>\n",
       "      <th>415</th>\n",
       "      <td>1307</td>\n",
       "      <td>0</td>\n",
       "    </tr>\n",
       "    <tr>\n",
       "      <th>416</th>\n",
       "      <td>1308</td>\n",
       "      <td>0</td>\n",
       "    </tr>\n",
       "    <tr>\n",
       "      <th>417</th>\n",
       "      <td>1309</td>\n",
       "      <td>0</td>\n",
       "    </tr>\n",
       "  </tbody>\n",
       "</table>\n",
       "<p>418 rows × 2 columns</p>\n",
       "</div>"
      ],
      "text/plain": [
       "     PassengerId  Survived\n",
       "0            892         0\n",
       "1            893         1\n",
       "2            894         0\n",
       "3            895         0\n",
       "4            896         1\n",
       "..           ...       ...\n",
       "413         1305         0\n",
       "414         1306         1\n",
       "415         1307         0\n",
       "416         1308         0\n",
       "417         1309         0\n",
       "\n",
       "[418 rows x 2 columns]"
      ]
     },
     "execution_count": 4,
     "metadata": {},
     "output_type": "execute_result"
    }
   ],
   "source": [
    "gender_submission"
   ]
  },
  {
   "cell_type": "code",
   "execution_count": 5,
   "id": "601c3fe2",
   "metadata": {
    "execution": {
     "iopub.execute_input": "2022-02-05T02:52:54.538666Z",
     "iopub.status.busy": "2022-02-05T02:52:54.537706Z",
     "iopub.status.idle": "2022-02-05T02:52:54.565072Z",
     "shell.execute_reply": "2022-02-05T02:52:54.565527Z",
     "shell.execute_reply.started": "2022-02-04T14:50:27.392583Z"
    },
    "papermill": {
     "duration": 0.050911,
     "end_time": "2022-02-05T02:52:54.565702",
     "exception": false,
     "start_time": "2022-02-05T02:52:54.514791",
     "status": "completed"
    },
    "tags": []
   },
   "outputs": [
    {
     "data": {
      "text/html": [
       "<div>\n",
       "<style scoped>\n",
       "    .dataframe tbody tr th:only-of-type {\n",
       "        vertical-align: middle;\n",
       "    }\n",
       "\n",
       "    .dataframe tbody tr th {\n",
       "        vertical-align: top;\n",
       "    }\n",
       "\n",
       "    .dataframe thead th {\n",
       "        text-align: right;\n",
       "    }\n",
       "</style>\n",
       "<table border=\"1\" class=\"dataframe\">\n",
       "  <thead>\n",
       "    <tr style=\"text-align: right;\">\n",
       "      <th></th>\n",
       "      <th>PassengerId</th>\n",
       "      <th>Survived</th>\n",
       "      <th>Pclass</th>\n",
       "      <th>Name</th>\n",
       "      <th>Sex</th>\n",
       "      <th>Age</th>\n",
       "      <th>SibSp</th>\n",
       "      <th>Parch</th>\n",
       "      <th>Ticket</th>\n",
       "      <th>Fare</th>\n",
       "      <th>Cabin</th>\n",
       "      <th>Embarked</th>\n",
       "    </tr>\n",
       "  </thead>\n",
       "  <tbody>\n",
       "    <tr>\n",
       "      <th>0</th>\n",
       "      <td>1</td>\n",
       "      <td>0</td>\n",
       "      <td>3</td>\n",
       "      <td>Braund, Mr. Owen Harris</td>\n",
       "      <td>male</td>\n",
       "      <td>22.0</td>\n",
       "      <td>1</td>\n",
       "      <td>0</td>\n",
       "      <td>A/5 21171</td>\n",
       "      <td>7.2500</td>\n",
       "      <td>NaN</td>\n",
       "      <td>S</td>\n",
       "    </tr>\n",
       "    <tr>\n",
       "      <th>1</th>\n",
       "      <td>2</td>\n",
       "      <td>1</td>\n",
       "      <td>1</td>\n",
       "      <td>Cumings, Mrs. John Bradley (Florence Briggs Th...</td>\n",
       "      <td>female</td>\n",
       "      <td>38.0</td>\n",
       "      <td>1</td>\n",
       "      <td>0</td>\n",
       "      <td>PC 17599</td>\n",
       "      <td>71.2833</td>\n",
       "      <td>C85</td>\n",
       "      <td>C</td>\n",
       "    </tr>\n",
       "    <tr>\n",
       "      <th>2</th>\n",
       "      <td>3</td>\n",
       "      <td>1</td>\n",
       "      <td>3</td>\n",
       "      <td>Heikkinen, Miss. Laina</td>\n",
       "      <td>female</td>\n",
       "      <td>26.0</td>\n",
       "      <td>0</td>\n",
       "      <td>0</td>\n",
       "      <td>STON/O2. 3101282</td>\n",
       "      <td>7.9250</td>\n",
       "      <td>NaN</td>\n",
       "      <td>S</td>\n",
       "    </tr>\n",
       "    <tr>\n",
       "      <th>3</th>\n",
       "      <td>4</td>\n",
       "      <td>1</td>\n",
       "      <td>1</td>\n",
       "      <td>Futrelle, Mrs. Jacques Heath (Lily May Peel)</td>\n",
       "      <td>female</td>\n",
       "      <td>35.0</td>\n",
       "      <td>1</td>\n",
       "      <td>0</td>\n",
       "      <td>113803</td>\n",
       "      <td>53.1000</td>\n",
       "      <td>C123</td>\n",
       "      <td>S</td>\n",
       "    </tr>\n",
       "    <tr>\n",
       "      <th>4</th>\n",
       "      <td>5</td>\n",
       "      <td>0</td>\n",
       "      <td>3</td>\n",
       "      <td>Allen, Mr. William Henry</td>\n",
       "      <td>male</td>\n",
       "      <td>35.0</td>\n",
       "      <td>0</td>\n",
       "      <td>0</td>\n",
       "      <td>373450</td>\n",
       "      <td>8.0500</td>\n",
       "      <td>NaN</td>\n",
       "      <td>S</td>\n",
       "    </tr>\n",
       "    <tr>\n",
       "      <th>...</th>\n",
       "      <td>...</td>\n",
       "      <td>...</td>\n",
       "      <td>...</td>\n",
       "      <td>...</td>\n",
       "      <td>...</td>\n",
       "      <td>...</td>\n",
       "      <td>...</td>\n",
       "      <td>...</td>\n",
       "      <td>...</td>\n",
       "      <td>...</td>\n",
       "      <td>...</td>\n",
       "      <td>...</td>\n",
       "    </tr>\n",
       "    <tr>\n",
       "      <th>886</th>\n",
       "      <td>887</td>\n",
       "      <td>0</td>\n",
       "      <td>2</td>\n",
       "      <td>Montvila, Rev. Juozas</td>\n",
       "      <td>male</td>\n",
       "      <td>27.0</td>\n",
       "      <td>0</td>\n",
       "      <td>0</td>\n",
       "      <td>211536</td>\n",
       "      <td>13.0000</td>\n",
       "      <td>NaN</td>\n",
       "      <td>S</td>\n",
       "    </tr>\n",
       "    <tr>\n",
       "      <th>887</th>\n",
       "      <td>888</td>\n",
       "      <td>1</td>\n",
       "      <td>1</td>\n",
       "      <td>Graham, Miss. Margaret Edith</td>\n",
       "      <td>female</td>\n",
       "      <td>19.0</td>\n",
       "      <td>0</td>\n",
       "      <td>0</td>\n",
       "      <td>112053</td>\n",
       "      <td>30.0000</td>\n",
       "      <td>B42</td>\n",
       "      <td>S</td>\n",
       "    </tr>\n",
       "    <tr>\n",
       "      <th>888</th>\n",
       "      <td>889</td>\n",
       "      <td>0</td>\n",
       "      <td>3</td>\n",
       "      <td>Johnston, Miss. Catherine Helen \"Carrie\"</td>\n",
       "      <td>female</td>\n",
       "      <td>NaN</td>\n",
       "      <td>1</td>\n",
       "      <td>2</td>\n",
       "      <td>W./C. 6607</td>\n",
       "      <td>23.4500</td>\n",
       "      <td>NaN</td>\n",
       "      <td>S</td>\n",
       "    </tr>\n",
       "    <tr>\n",
       "      <th>889</th>\n",
       "      <td>890</td>\n",
       "      <td>1</td>\n",
       "      <td>1</td>\n",
       "      <td>Behr, Mr. Karl Howell</td>\n",
       "      <td>male</td>\n",
       "      <td>26.0</td>\n",
       "      <td>0</td>\n",
       "      <td>0</td>\n",
       "      <td>111369</td>\n",
       "      <td>30.0000</td>\n",
       "      <td>C148</td>\n",
       "      <td>C</td>\n",
       "    </tr>\n",
       "    <tr>\n",
       "      <th>890</th>\n",
       "      <td>891</td>\n",
       "      <td>0</td>\n",
       "      <td>3</td>\n",
       "      <td>Dooley, Mr. Patrick</td>\n",
       "      <td>male</td>\n",
       "      <td>32.0</td>\n",
       "      <td>0</td>\n",
       "      <td>0</td>\n",
       "      <td>370376</td>\n",
       "      <td>7.7500</td>\n",
       "      <td>NaN</td>\n",
       "      <td>Q</td>\n",
       "    </tr>\n",
       "  </tbody>\n",
       "</table>\n",
       "<p>891 rows × 12 columns</p>\n",
       "</div>"
      ],
      "text/plain": [
       "     PassengerId  Survived  Pclass  \\\n",
       "0              1         0       3   \n",
       "1              2         1       1   \n",
       "2              3         1       3   \n",
       "3              4         1       1   \n",
       "4              5         0       3   \n",
       "..           ...       ...     ...   \n",
       "886          887         0       2   \n",
       "887          888         1       1   \n",
       "888          889         0       3   \n",
       "889          890         1       1   \n",
       "890          891         0       3   \n",
       "\n",
       "                                                  Name     Sex   Age  SibSp  \\\n",
       "0                              Braund, Mr. Owen Harris    male  22.0      1   \n",
       "1    Cumings, Mrs. John Bradley (Florence Briggs Th...  female  38.0      1   \n",
       "2                               Heikkinen, Miss. Laina  female  26.0      0   \n",
       "3         Futrelle, Mrs. Jacques Heath (Lily May Peel)  female  35.0      1   \n",
       "4                             Allen, Mr. William Henry    male  35.0      0   \n",
       "..                                                 ...     ...   ...    ...   \n",
       "886                              Montvila, Rev. Juozas    male  27.0      0   \n",
       "887                       Graham, Miss. Margaret Edith  female  19.0      0   \n",
       "888           Johnston, Miss. Catherine Helen \"Carrie\"  female   NaN      1   \n",
       "889                              Behr, Mr. Karl Howell    male  26.0      0   \n",
       "890                                Dooley, Mr. Patrick    male  32.0      0   \n",
       "\n",
       "     Parch            Ticket     Fare Cabin Embarked  \n",
       "0        0         A/5 21171   7.2500   NaN        S  \n",
       "1        0          PC 17599  71.2833   C85        C  \n",
       "2        0  STON/O2. 3101282   7.9250   NaN        S  \n",
       "3        0            113803  53.1000  C123        S  \n",
       "4        0            373450   8.0500   NaN        S  \n",
       "..     ...               ...      ...   ...      ...  \n",
       "886      0            211536  13.0000   NaN        S  \n",
       "887      0            112053  30.0000   B42        S  \n",
       "888      2        W./C. 6607  23.4500   NaN        S  \n",
       "889      0            111369  30.0000  C148        C  \n",
       "890      0            370376   7.7500   NaN        Q  \n",
       "\n",
       "[891 rows x 12 columns]"
      ]
     },
     "execution_count": 5,
     "metadata": {},
     "output_type": "execute_result"
    }
   ],
   "source": [
    "train_data"
   ]
  },
  {
   "cell_type": "code",
   "execution_count": 6,
   "id": "1820e4cf",
   "metadata": {
    "execution": {
     "iopub.execute_input": "2022-02-05T02:52:54.629230Z",
     "iopub.status.busy": "2022-02-05T02:52:54.628436Z",
     "iopub.status.idle": "2022-02-05T02:52:54.631517Z",
     "shell.execute_reply": "2022-02-05T02:52:54.632033Z",
     "shell.execute_reply.started": "2022-02-04T14:50:27.431272Z"
    },
    "papermill": {
     "duration": 0.045954,
     "end_time": "2022-02-05T02:52:54.632218",
     "exception": false,
     "start_time": "2022-02-05T02:52:54.586264",
     "status": "completed"
    },
    "tags": []
   },
   "outputs": [
    {
     "data": {
      "text/html": [
       "<div>\n",
       "<style scoped>\n",
       "    .dataframe tbody tr th:only-of-type {\n",
       "        vertical-align: middle;\n",
       "    }\n",
       "\n",
       "    .dataframe tbody tr th {\n",
       "        vertical-align: top;\n",
       "    }\n",
       "\n",
       "    .dataframe thead th {\n",
       "        text-align: right;\n",
       "    }\n",
       "</style>\n",
       "<table border=\"1\" class=\"dataframe\">\n",
       "  <thead>\n",
       "    <tr style=\"text-align: right;\">\n",
       "      <th></th>\n",
       "      <th>PassengerId</th>\n",
       "      <th>Pclass</th>\n",
       "      <th>Name</th>\n",
       "      <th>Sex</th>\n",
       "      <th>Age</th>\n",
       "      <th>SibSp</th>\n",
       "      <th>Parch</th>\n",
       "      <th>Ticket</th>\n",
       "      <th>Fare</th>\n",
       "      <th>Cabin</th>\n",
       "      <th>Embarked</th>\n",
       "    </tr>\n",
       "  </thead>\n",
       "  <tbody>\n",
       "    <tr>\n",
       "      <th>0</th>\n",
       "      <td>892</td>\n",
       "      <td>3</td>\n",
       "      <td>Kelly, Mr. James</td>\n",
       "      <td>male</td>\n",
       "      <td>34.5</td>\n",
       "      <td>0</td>\n",
       "      <td>0</td>\n",
       "      <td>330911</td>\n",
       "      <td>7.8292</td>\n",
       "      <td>NaN</td>\n",
       "      <td>Q</td>\n",
       "    </tr>\n",
       "    <tr>\n",
       "      <th>1</th>\n",
       "      <td>893</td>\n",
       "      <td>3</td>\n",
       "      <td>Wilkes, Mrs. James (Ellen Needs)</td>\n",
       "      <td>female</td>\n",
       "      <td>47.0</td>\n",
       "      <td>1</td>\n",
       "      <td>0</td>\n",
       "      <td>363272</td>\n",
       "      <td>7.0000</td>\n",
       "      <td>NaN</td>\n",
       "      <td>S</td>\n",
       "    </tr>\n",
       "    <tr>\n",
       "      <th>2</th>\n",
       "      <td>894</td>\n",
       "      <td>2</td>\n",
       "      <td>Myles, Mr. Thomas Francis</td>\n",
       "      <td>male</td>\n",
       "      <td>62.0</td>\n",
       "      <td>0</td>\n",
       "      <td>0</td>\n",
       "      <td>240276</td>\n",
       "      <td>9.6875</td>\n",
       "      <td>NaN</td>\n",
       "      <td>Q</td>\n",
       "    </tr>\n",
       "    <tr>\n",
       "      <th>3</th>\n",
       "      <td>895</td>\n",
       "      <td>3</td>\n",
       "      <td>Wirz, Mr. Albert</td>\n",
       "      <td>male</td>\n",
       "      <td>27.0</td>\n",
       "      <td>0</td>\n",
       "      <td>0</td>\n",
       "      <td>315154</td>\n",
       "      <td>8.6625</td>\n",
       "      <td>NaN</td>\n",
       "      <td>S</td>\n",
       "    </tr>\n",
       "    <tr>\n",
       "      <th>4</th>\n",
       "      <td>896</td>\n",
       "      <td>3</td>\n",
       "      <td>Hirvonen, Mrs. Alexander (Helga E Lindqvist)</td>\n",
       "      <td>female</td>\n",
       "      <td>22.0</td>\n",
       "      <td>1</td>\n",
       "      <td>1</td>\n",
       "      <td>3101298</td>\n",
       "      <td>12.2875</td>\n",
       "      <td>NaN</td>\n",
       "      <td>S</td>\n",
       "    </tr>\n",
       "    <tr>\n",
       "      <th>...</th>\n",
       "      <td>...</td>\n",
       "      <td>...</td>\n",
       "      <td>...</td>\n",
       "      <td>...</td>\n",
       "      <td>...</td>\n",
       "      <td>...</td>\n",
       "      <td>...</td>\n",
       "      <td>...</td>\n",
       "      <td>...</td>\n",
       "      <td>...</td>\n",
       "      <td>...</td>\n",
       "    </tr>\n",
       "    <tr>\n",
       "      <th>413</th>\n",
       "      <td>1305</td>\n",
       "      <td>3</td>\n",
       "      <td>Spector, Mr. Woolf</td>\n",
       "      <td>male</td>\n",
       "      <td>NaN</td>\n",
       "      <td>0</td>\n",
       "      <td>0</td>\n",
       "      <td>A.5. 3236</td>\n",
       "      <td>8.0500</td>\n",
       "      <td>NaN</td>\n",
       "      <td>S</td>\n",
       "    </tr>\n",
       "    <tr>\n",
       "      <th>414</th>\n",
       "      <td>1306</td>\n",
       "      <td>1</td>\n",
       "      <td>Oliva y Ocana, Dona. Fermina</td>\n",
       "      <td>female</td>\n",
       "      <td>39.0</td>\n",
       "      <td>0</td>\n",
       "      <td>0</td>\n",
       "      <td>PC 17758</td>\n",
       "      <td>108.9000</td>\n",
       "      <td>C105</td>\n",
       "      <td>C</td>\n",
       "    </tr>\n",
       "    <tr>\n",
       "      <th>415</th>\n",
       "      <td>1307</td>\n",
       "      <td>3</td>\n",
       "      <td>Saether, Mr. Simon Sivertsen</td>\n",
       "      <td>male</td>\n",
       "      <td>38.5</td>\n",
       "      <td>0</td>\n",
       "      <td>0</td>\n",
       "      <td>SOTON/O.Q. 3101262</td>\n",
       "      <td>7.2500</td>\n",
       "      <td>NaN</td>\n",
       "      <td>S</td>\n",
       "    </tr>\n",
       "    <tr>\n",
       "      <th>416</th>\n",
       "      <td>1308</td>\n",
       "      <td>3</td>\n",
       "      <td>Ware, Mr. Frederick</td>\n",
       "      <td>male</td>\n",
       "      <td>NaN</td>\n",
       "      <td>0</td>\n",
       "      <td>0</td>\n",
       "      <td>359309</td>\n",
       "      <td>8.0500</td>\n",
       "      <td>NaN</td>\n",
       "      <td>S</td>\n",
       "    </tr>\n",
       "    <tr>\n",
       "      <th>417</th>\n",
       "      <td>1309</td>\n",
       "      <td>3</td>\n",
       "      <td>Peter, Master. Michael J</td>\n",
       "      <td>male</td>\n",
       "      <td>NaN</td>\n",
       "      <td>1</td>\n",
       "      <td>1</td>\n",
       "      <td>2668</td>\n",
       "      <td>22.3583</td>\n",
       "      <td>NaN</td>\n",
       "      <td>C</td>\n",
       "    </tr>\n",
       "  </tbody>\n",
       "</table>\n",
       "<p>418 rows × 11 columns</p>\n",
       "</div>"
      ],
      "text/plain": [
       "     PassengerId  Pclass                                          Name  \\\n",
       "0            892       3                              Kelly, Mr. James   \n",
       "1            893       3              Wilkes, Mrs. James (Ellen Needs)   \n",
       "2            894       2                     Myles, Mr. Thomas Francis   \n",
       "3            895       3                              Wirz, Mr. Albert   \n",
       "4            896       3  Hirvonen, Mrs. Alexander (Helga E Lindqvist)   \n",
       "..           ...     ...                                           ...   \n",
       "413         1305       3                            Spector, Mr. Woolf   \n",
       "414         1306       1                  Oliva y Ocana, Dona. Fermina   \n",
       "415         1307       3                  Saether, Mr. Simon Sivertsen   \n",
       "416         1308       3                           Ware, Mr. Frederick   \n",
       "417         1309       3                      Peter, Master. Michael J   \n",
       "\n",
       "        Sex   Age  SibSp  Parch              Ticket      Fare Cabin Embarked  \n",
       "0      male  34.5      0      0              330911    7.8292   NaN        Q  \n",
       "1    female  47.0      1      0              363272    7.0000   NaN        S  \n",
       "2      male  62.0      0      0              240276    9.6875   NaN        Q  \n",
       "3      male  27.0      0      0              315154    8.6625   NaN        S  \n",
       "4    female  22.0      1      1             3101298   12.2875   NaN        S  \n",
       "..      ...   ...    ...    ...                 ...       ...   ...      ...  \n",
       "413    male   NaN      0      0           A.5. 3236    8.0500   NaN        S  \n",
       "414  female  39.0      0      0            PC 17758  108.9000  C105        C  \n",
       "415    male  38.5      0      0  SOTON/O.Q. 3101262    7.2500   NaN        S  \n",
       "416    male   NaN      0      0              359309    8.0500   NaN        S  \n",
       "417    male   NaN      1      1                2668   22.3583   NaN        C  \n",
       "\n",
       "[418 rows x 11 columns]"
      ]
     },
     "execution_count": 6,
     "metadata": {},
     "output_type": "execute_result"
    }
   ],
   "source": [
    "test_data"
   ]
  },
  {
   "cell_type": "code",
   "execution_count": 7,
   "id": "3479900b",
   "metadata": {
    "execution": {
     "iopub.execute_input": "2022-02-05T02:52:54.679661Z",
     "iopub.status.busy": "2022-02-05T02:52:54.678700Z",
     "iopub.status.idle": "2022-02-05T02:52:54.682402Z",
     "shell.execute_reply": "2022-02-05T02:52:54.682877Z",
     "shell.execute_reply.started": "2022-02-04T14:37:46.722117Z"
    },
    "papermill": {
     "duration": 0.029951,
     "end_time": "2022-02-05T02:52:54.683060",
     "exception": false,
     "start_time": "2022-02-05T02:52:54.653109",
     "status": "completed"
    },
    "tags": []
   },
   "outputs": [
    {
     "name": "stdout",
     "output_type": "stream",
     "text": [
      "The shape of train_data =  (891, 12)\n",
      "The shape of test_data =  (418, 11)\n"
     ]
    }
   ],
   "source": [
    "print(\"The shape of train_data = \",train_data.shape)\n",
    "print(\"The shape of test_data = \",test_data.shape)"
   ]
  },
  {
   "cell_type": "code",
   "execution_count": 8,
   "id": "965e1982",
   "metadata": {
    "execution": {
     "iopub.execute_input": "2022-02-05T02:52:54.739983Z",
     "iopub.status.busy": "2022-02-05T02:52:54.735910Z",
     "iopub.status.idle": "2022-02-05T02:52:54.743000Z",
     "shell.execute_reply": "2022-02-05T02:52:54.742412Z",
     "shell.execute_reply.started": "2022-02-04T15:18:26.916752Z"
    },
    "papermill": {
     "duration": 0.037723,
     "end_time": "2022-02-05T02:52:54.743138",
     "exception": false,
     "start_time": "2022-02-05T02:52:54.705415",
     "status": "completed"
    },
    "tags": []
   },
   "outputs": [],
   "source": [
    "X_train=train_data.drop(['PassengerId','Name','Ticket','Survived','Fare'],axis=1)\n",
    "y_train=train_data['Survived']\n",
    "\n",
    "X_test=test_data.drop(['PassengerId','Name','Ticket','Fare'],axis=1)\n",
    "y_test=gender_submission['Survived']"
   ]
  },
  {
   "cell_type": "code",
   "execution_count": 9,
   "id": "5e7ede62",
   "metadata": {
    "execution": {
     "iopub.execute_input": "2022-02-05T02:52:54.791146Z",
     "iopub.status.busy": "2022-02-05T02:52:54.788563Z",
     "iopub.status.idle": "2022-02-05T02:52:54.801445Z",
     "shell.execute_reply": "2022-02-05T02:52:54.800825Z",
     "shell.execute_reply.started": "2022-02-04T14:51:36.804464Z"
    },
    "papermill": {
     "duration": 0.037381,
     "end_time": "2022-02-05T02:52:54.801581",
     "exception": false,
     "start_time": "2022-02-05T02:52:54.764200",
     "status": "completed"
    },
    "tags": []
   },
   "outputs": [
    {
     "name": "stdout",
     "output_type": "stream",
     "text": [
      "Train_data:\n",
      "Pclass      False\n",
      "Sex         False\n",
      "Age          True\n",
      "SibSp       False\n",
      "Parch       False\n",
      "Cabin        True\n",
      "Embarked     True\n",
      "dtype: bool\n",
      "--------------------\n",
      "Test_data:\n",
      "Pclass      False\n",
      "Sex         False\n",
      "Age          True\n",
      "SibSp       False\n",
      "Parch       False\n",
      "Cabin        True\n",
      "Embarked    False\n",
      "dtype: bool\n"
     ]
    }
   ],
   "source": [
    "print(\"Train_data:\")\n",
    "print(X_train.isnull().any())\n",
    "print(\"--------------------\")\n",
    "print(\"Test_data:\")\n",
    "print(X_test.isnull().any())"
   ]
  },
  {
   "cell_type": "code",
   "execution_count": 10,
   "id": "9de3263d",
   "metadata": {
    "execution": {
     "iopub.execute_input": "2022-02-05T02:52:54.851396Z",
     "iopub.status.busy": "2022-02-05T02:52:54.850651Z",
     "iopub.status.idle": "2022-02-05T02:52:54.854978Z",
     "shell.execute_reply": "2022-02-05T02:52:54.854388Z",
     "shell.execute_reply.started": "2022-02-04T14:51:38.256716Z"
    },
    "papermill": {
     "duration": 0.031834,
     "end_time": "2022-02-05T02:52:54.855125",
     "exception": false,
     "start_time": "2022-02-05T02:52:54.823291",
     "status": "completed"
    },
    "tags": []
   },
   "outputs": [
    {
     "name": "stdout",
     "output_type": "stream",
     "text": [
      "204\n",
      "91\n"
     ]
    }
   ],
   "source": [
    "print(X_train['Cabin'].count(None))\n",
    "print(X_test['Cabin'].count(None))"
   ]
  },
  {
   "cell_type": "code",
   "execution_count": 11,
   "id": "98a9eec6",
   "metadata": {
    "execution": {
     "iopub.execute_input": "2022-02-05T02:52:54.908448Z",
     "iopub.status.busy": "2022-02-05T02:52:54.907431Z",
     "iopub.status.idle": "2022-02-05T02:52:54.910435Z",
     "shell.execute_reply": "2022-02-05T02:52:54.909855Z",
     "shell.execute_reply.started": "2022-02-04T15:18:29.050668Z"
    },
    "papermill": {
     "duration": 0.033298,
     "end_time": "2022-02-05T02:52:54.910582",
     "exception": false,
     "start_time": "2022-02-05T02:52:54.877284",
     "status": "completed"
    },
    "tags": []
   },
   "outputs": [],
   "source": [
    "X_train['Age']=X_train['Age'].fillna(X_train['Age'].dropna().median())\n",
    "X_test['Age']=X_test['Age'].fillna(X_test['Age'].dropna().median())"
   ]
  },
  {
   "cell_type": "code",
   "execution_count": 12,
   "id": "92929ce6",
   "metadata": {
    "execution": {
     "iopub.execute_input": "2022-02-05T02:52:54.964395Z",
     "iopub.status.busy": "2022-02-05T02:52:54.963679Z",
     "iopub.status.idle": "2022-02-05T02:52:54.967221Z",
     "shell.execute_reply": "2022-02-05T02:52:54.966654Z",
     "shell.execute_reply.started": "2022-02-04T15:18:30.207341Z"
    },
    "papermill": {
     "duration": 0.035057,
     "end_time": "2022-02-05T02:52:54.967376",
     "exception": false,
     "start_time": "2022-02-05T02:52:54.932319",
     "status": "completed"
    },
    "tags": []
   },
   "outputs": [],
   "source": [
    "def Sex_transform(df):\n",
    "    df['Sex']=pd.Categorical(df['Sex'])\n",
    "    df['Sex']=df['Sex'].cat.codes\n",
    "    return df\n",
    "def Embark_transform(df):\n",
    "    df['Embarked']=pd.Categorical(df['Embarked'])\n",
    "    df['Embarked']=df['Embarked'].cat.codes\n",
    "    return df\n",
    "def Cabins_transform(df):\n",
    "    df['Cabin'] = df['Cabin'].fillna('S')\n",
    "    df['Cabin'] = df['Cabin'].apply(lambda x: x[0])\n",
    "    df['Cabin'] =  pd.Categorical(df['Cabin'])\n",
    "    df['Cabin'] = df['Cabin'].cat.codes \n",
    "    return df\n",
    "def Fare_standard(df):\n",
    "    df['Fare']=(df['Fare']-df['Fare'].mean())/df['Fare'].std()\n",
    "    return df\n",
    "def Age_standard(df):\n",
    "    df['Age']=(df['Age']-df['Age'].mean())/df['Age'].std()"
   ]
  },
  {
   "cell_type": "code",
   "execution_count": 13,
   "id": "964f8b98",
   "metadata": {
    "execution": {
     "iopub.execute_input": "2022-02-05T02:52:55.015578Z",
     "iopub.status.busy": "2022-02-05T02:52:55.014563Z",
     "iopub.status.idle": "2022-02-05T02:52:55.035079Z",
     "shell.execute_reply": "2022-02-05T02:52:55.035569Z",
     "shell.execute_reply.started": "2022-02-04T15:18:32.571069Z"
    },
    "papermill": {
     "duration": 0.046454,
     "end_time": "2022-02-05T02:52:55.035762",
     "exception": false,
     "start_time": "2022-02-05T02:52:54.989308",
     "status": "completed"
    },
    "tags": []
   },
   "outputs": [],
   "source": [
    "def transform(df):\n",
    "    Sex_transform(df)\n",
    "    Embark_transform(df)\n",
    "    Cabins_transform(df)\n",
    "    #Fare_standard(df)\n",
    "    Age_standard(df)\n",
    "\n",
    "transform(X_train)\n",
    "transform(X_test)"
   ]
  },
  {
   "cell_type": "code",
   "execution_count": 14,
   "id": "3109ded7",
   "metadata": {
    "execution": {
     "iopub.execute_input": "2022-02-05T02:52:55.083421Z",
     "iopub.status.busy": "2022-02-05T02:52:55.082431Z",
     "iopub.status.idle": "2022-02-05T02:52:55.089444Z",
     "shell.execute_reply": "2022-02-05T02:52:55.089890Z",
     "shell.execute_reply.started": "2022-02-04T15:18:33.804718Z"
    },
    "papermill": {
     "duration": 0.032465,
     "end_time": "2022-02-05T02:52:55.090063",
     "exception": false,
     "start_time": "2022-02-05T02:52:55.057598",
     "status": "completed"
    },
    "tags": []
   },
   "outputs": [
    {
     "data": {
      "text/plain": [
       "(891, 7)"
      ]
     },
     "execution_count": 14,
     "metadata": {},
     "output_type": "execute_result"
    }
   ],
   "source": [
    "X_train=np.array(X_train)\n",
    "X_test=np.array(X_test)\n",
    "X_train.shape"
   ]
  },
  {
   "cell_type": "code",
   "execution_count": 15,
   "id": "e2f185d9",
   "metadata": {
    "execution": {
     "iopub.execute_input": "2022-02-05T02:52:55.138330Z",
     "iopub.status.busy": "2022-02-05T02:52:55.137376Z",
     "iopub.status.idle": "2022-02-05T02:52:55.250786Z",
     "shell.execute_reply": "2022-02-05T02:52:55.251303Z",
     "shell.execute_reply.started": "2022-02-04T15:23:52.626972Z"
    },
    "papermill": {
     "duration": 0.139266,
     "end_time": "2022-02-05T02:52:55.251475",
     "exception": false,
     "start_time": "2022-02-05T02:52:55.112209",
     "status": "completed"
    },
    "tags": []
   },
   "outputs": [
    {
     "name": "stderr",
     "output_type": "stream",
     "text": [
      "2022-02-05 02:52:55.152990: I tensorflow/compiler/jit/xla_cpu_device.cc:41] Not creating XLA devices, tf_xla_enable_xla_devices not set\n",
      "2022-02-05 02:52:55.156175: W tensorflow/stream_executor/platform/default/dso_loader.cc:60] Could not load dynamic library 'libcuda.so.1'; dlerror: libcuda.so.1: cannot open shared object file: No such file or directory; LD_LIBRARY_PATH: /opt/conda/lib\n",
      "2022-02-05 02:52:55.156206: W tensorflow/stream_executor/cuda/cuda_driver.cc:326] failed call to cuInit: UNKNOWN ERROR (303)\n",
      "2022-02-05 02:52:55.156235: I tensorflow/stream_executor/cuda/cuda_diagnostics.cc:156] kernel driver does not appear to be running on this host (ea056f76d870): /proc/driver/nvidia/version does not exist\n",
      "2022-02-05 02:52:55.157342: I tensorflow/core/platform/cpu_feature_guard.cc:142] This TensorFlow binary is optimized with oneAPI Deep Neural Network Library (oneDNN) to use the following CPU instructions in performance-critical operations:  AVX2 FMA\n",
      "To enable them in other operations, rebuild TensorFlow with the appropriate compiler flags.\n",
      "2022-02-05 02:52:55.157717: I tensorflow/compiler/jit/xla_gpu_device.cc:99] Not creating XLA devices, tf_xla_enable_xla_devices not set\n"
     ]
    }
   ],
   "source": [
    "model=Sequential()\n",
    "\n",
    "model.add(Dense(units=64,activation='relu',input_shape=(7,)))\n",
    "model.add(Dropout(0.25))\n",
    "#model.add(BatchNormalization())\n",
    "model.add(Dense(units=32,activation='relu'))\n",
    "\n",
    "#model.add(BatchNormalization())\n",
    "model.add(Dropout(0.25))\n",
    "model.add(Dense(units=16,activation='relu'))\n",
    "\n",
    "\n",
    "model.add(Dense(units=1,activation='sigmoid'))"
   ]
  },
  {
   "cell_type": "code",
   "execution_count": 16,
   "id": "8287d636",
   "metadata": {
    "execution": {
     "iopub.execute_input": "2022-02-05T02:52:55.304228Z",
     "iopub.status.busy": "2022-02-05T02:52:55.303193Z",
     "iopub.status.idle": "2022-02-05T02:52:55.318710Z",
     "shell.execute_reply": "2022-02-05T02:52:55.318102Z",
     "shell.execute_reply.started": "2022-02-04T15:23:53.728529Z"
    },
    "papermill": {
     "duration": 0.044657,
     "end_time": "2022-02-05T02:52:55.318942",
     "exception": false,
     "start_time": "2022-02-05T02:52:55.274285",
     "status": "completed"
    },
    "tags": []
   },
   "outputs": [],
   "source": [
    "model.compile(loss='binary_crossentropy',optimizer=Adam(learning_rate=0.001),metrics=['binary_accuracy'])"
   ]
  },
  {
   "cell_type": "code",
   "execution_count": 17,
   "id": "382ff0aa",
   "metadata": {
    "execution": {
     "iopub.execute_input": "2022-02-05T02:52:55.372843Z",
     "iopub.status.busy": "2022-02-05T02:52:55.372185Z",
     "iopub.status.idle": "2022-02-05T02:53:05.588309Z",
     "shell.execute_reply": "2022-02-05T02:53:05.587704Z",
     "shell.execute_reply.started": "2022-02-04T15:23:54.808322Z"
    },
    "papermill": {
     "duration": 10.246136,
     "end_time": "2022-02-05T02:53:05.588454",
     "exception": false,
     "start_time": "2022-02-05T02:52:55.342318",
     "status": "completed"
    },
    "tags": []
   },
   "outputs": [
    {
     "name": "stderr",
     "output_type": "stream",
     "text": [
      "2022-02-05 02:52:55.447206: I tensorflow/compiler/mlir/mlir_graph_optimization_pass.cc:116] None of the MLIR optimization passes are enabled (registered 2)\n",
      "2022-02-05 02:52:55.460128: I tensorflow/core/platform/profile_utils/cpu_utils.cc:112] CPU Frequency: 2199995000 Hz\n"
     ]
    },
    {
     "name": "stdout",
     "output_type": "stream",
     "text": [
      "Epoch 1/100\n",
      "14/14 [==============================] - 1s 48ms/step - loss: 0.6661 - binary_accuracy: 0.6344 - val_loss: 0.6536 - val_binary_accuracy: 0.6570\n",
      "Epoch 2/100\n",
      "14/14 [==============================] - 0s 6ms/step - loss: 0.6365 - binary_accuracy: 0.6200 - val_loss: 0.6303 - val_binary_accuracy: 0.6435\n",
      "Epoch 3/100\n",
      "14/14 [==============================] - 0s 6ms/step - loss: 0.6407 - binary_accuracy: 0.6343 - val_loss: 0.6419 - val_binary_accuracy: 0.7332\n",
      "Epoch 4/100\n",
      "14/14 [==============================] - 0s 6ms/step - loss: 0.6662 - binary_accuracy: 0.5775 - val_loss: 0.6141 - val_binary_accuracy: 0.6906\n",
      "Epoch 5/100\n",
      "14/14 [==============================] - 0s 6ms/step - loss: 0.6303 - binary_accuracy: 0.6027 - val_loss: 0.6103 - val_binary_accuracy: 0.7354\n",
      "Epoch 6/100\n",
      "14/14 [==============================] - 0s 6ms/step - loss: 0.6512 - binary_accuracy: 0.6001 - val_loss: 0.5938 - val_binary_accuracy: 0.7108\n",
      "Epoch 7/100\n",
      "14/14 [==============================] - 0s 6ms/step - loss: 0.6249 - binary_accuracy: 0.6371 - val_loss: 0.5796 - val_binary_accuracy: 0.7152\n",
      "Epoch 8/100\n",
      "14/14 [==============================] - 0s 7ms/step - loss: 0.6444 - binary_accuracy: 0.5926 - val_loss: 0.5707 - val_binary_accuracy: 0.7534\n",
      "Epoch 9/100\n",
      "14/14 [==============================] - 0s 6ms/step - loss: 0.5835 - binary_accuracy: 0.6621 - val_loss: 0.5468 - val_binary_accuracy: 0.7444\n",
      "Epoch 10/100\n",
      "14/14 [==============================] - 0s 6ms/step - loss: 0.5939 - binary_accuracy: 0.6735 - val_loss: 0.5403 - val_binary_accuracy: 0.7668\n",
      "Epoch 11/100\n",
      "14/14 [==============================] - 0s 6ms/step - loss: 0.5677 - binary_accuracy: 0.6854 - val_loss: 0.5285 - val_binary_accuracy: 0.7691\n",
      "Epoch 12/100\n",
      "14/14 [==============================] - 0s 6ms/step - loss: 0.5334 - binary_accuracy: 0.7196 - val_loss: 0.5238 - val_binary_accuracy: 0.7713\n",
      "Epoch 13/100\n",
      "14/14 [==============================] - 0s 6ms/step - loss: 0.5433 - binary_accuracy: 0.7683 - val_loss: 0.5115 - val_binary_accuracy: 0.7780\n",
      "Epoch 14/100\n",
      "14/14 [==============================] - 0s 6ms/step - loss: 0.5750 - binary_accuracy: 0.7044 - val_loss: 0.5001 - val_binary_accuracy: 0.7803\n",
      "Epoch 15/100\n",
      "14/14 [==============================] - 0s 7ms/step - loss: 0.5329 - binary_accuracy: 0.7756 - val_loss: 0.5024 - val_binary_accuracy: 0.7825\n",
      "Epoch 16/100\n",
      "14/14 [==============================] - 0s 6ms/step - loss: 0.5391 - binary_accuracy: 0.7243 - val_loss: 0.4946 - val_binary_accuracy: 0.7803\n",
      "Epoch 17/100\n",
      "14/14 [==============================] - 0s 6ms/step - loss: 0.5356 - binary_accuracy: 0.7536 - val_loss: 0.4931 - val_binary_accuracy: 0.7803\n",
      "Epoch 18/100\n",
      "14/14 [==============================] - 0s 6ms/step - loss: 0.5249 - binary_accuracy: 0.7772 - val_loss: 0.4934 - val_binary_accuracy: 0.7803\n",
      "Epoch 19/100\n",
      "14/14 [==============================] - 0s 6ms/step - loss: 0.5662 - binary_accuracy: 0.7181 - val_loss: 0.4903 - val_binary_accuracy: 0.7803\n",
      "Epoch 20/100\n",
      "14/14 [==============================] - 0s 6ms/step - loss: 0.5110 - binary_accuracy: 0.7882 - val_loss: 0.4907 - val_binary_accuracy: 0.7825\n",
      "Epoch 21/100\n",
      "14/14 [==============================] - 0s 6ms/step - loss: 0.5060 - binary_accuracy: 0.7868 - val_loss: 0.4870 - val_binary_accuracy: 0.7825\n",
      "Epoch 22/100\n",
      "14/14 [==============================] - 0s 6ms/step - loss: 0.4779 - binary_accuracy: 0.8004 - val_loss: 0.4818 - val_binary_accuracy: 0.7848\n",
      "Epoch 23/100\n",
      "14/14 [==============================] - 0s 6ms/step - loss: 0.5313 - binary_accuracy: 0.7594 - val_loss: 0.4824 - val_binary_accuracy: 0.7870\n",
      "Epoch 24/100\n",
      "14/14 [==============================] - 0s 6ms/step - loss: 0.4806 - binary_accuracy: 0.8002 - val_loss: 0.4795 - val_binary_accuracy: 0.7870\n",
      "Epoch 25/100\n",
      "14/14 [==============================] - 0s 6ms/step - loss: 0.4894 - binary_accuracy: 0.8079 - val_loss: 0.4808 - val_binary_accuracy: 0.7870\n",
      "Epoch 26/100\n",
      "14/14 [==============================] - 0s 6ms/step - loss: 0.4905 - binary_accuracy: 0.7984 - val_loss: 0.4764 - val_binary_accuracy: 0.7870\n",
      "Epoch 27/100\n",
      "14/14 [==============================] - 0s 6ms/step - loss: 0.5259 - binary_accuracy: 0.8130 - val_loss: 0.4761 - val_binary_accuracy: 0.7915\n",
      "Epoch 28/100\n",
      "14/14 [==============================] - 0s 6ms/step - loss: 0.4907 - binary_accuracy: 0.8039 - val_loss: 0.4750 - val_binary_accuracy: 0.7892\n",
      "Epoch 29/100\n",
      "14/14 [==============================] - 0s 6ms/step - loss: 0.4997 - binary_accuracy: 0.7872 - val_loss: 0.4770 - val_binary_accuracy: 0.7848\n",
      "Epoch 30/100\n",
      "14/14 [==============================] - 0s 6ms/step - loss: 0.4803 - binary_accuracy: 0.8289 - val_loss: 0.4729 - val_binary_accuracy: 0.7892\n",
      "Epoch 31/100\n",
      "14/14 [==============================] - 0s 6ms/step - loss: 0.4965 - binary_accuracy: 0.8068 - val_loss: 0.4730 - val_binary_accuracy: 0.7892\n",
      "Epoch 32/100\n",
      "14/14 [==============================] - 0s 7ms/step - loss: 0.4806 - binary_accuracy: 0.8019 - val_loss: 0.4700 - val_binary_accuracy: 0.7915\n",
      "Epoch 33/100\n",
      "14/14 [==============================] - 0s 6ms/step - loss: 0.4687 - binary_accuracy: 0.8170 - val_loss: 0.4723 - val_binary_accuracy: 0.7870\n",
      "Epoch 34/100\n",
      "14/14 [==============================] - 0s 6ms/step - loss: 0.4540 - binary_accuracy: 0.8050 - val_loss: 0.4703 - val_binary_accuracy: 0.7915\n",
      "Epoch 35/100\n",
      "14/14 [==============================] - 0s 6ms/step - loss: 0.4741 - binary_accuracy: 0.8144 - val_loss: 0.4713 - val_binary_accuracy: 0.7960\n",
      "Epoch 36/100\n",
      "14/14 [==============================] - 0s 7ms/step - loss: 0.4287 - binary_accuracy: 0.8287 - val_loss: 0.4672 - val_binary_accuracy: 0.7937\n",
      "Epoch 37/100\n",
      "14/14 [==============================] - 0s 6ms/step - loss: 0.4556 - binary_accuracy: 0.8025 - val_loss: 0.4669 - val_binary_accuracy: 0.7915\n",
      "Epoch 38/100\n",
      "14/14 [==============================] - 0s 6ms/step - loss: 0.4286 - binary_accuracy: 0.8213 - val_loss: 0.4640 - val_binary_accuracy: 0.7937\n",
      "Epoch 39/100\n",
      "14/14 [==============================] - 0s 7ms/step - loss: 0.4045 - binary_accuracy: 0.8473 - val_loss: 0.4654 - val_binary_accuracy: 0.7982\n",
      "Epoch 40/100\n",
      "14/14 [==============================] - 0s 8ms/step - loss: 0.4617 - binary_accuracy: 0.8140 - val_loss: 0.4642 - val_binary_accuracy: 0.7960\n",
      "Epoch 41/100\n",
      "14/14 [==============================] - 0s 7ms/step - loss: 0.4372 - binary_accuracy: 0.8335 - val_loss: 0.4642 - val_binary_accuracy: 0.7982\n",
      "Epoch 42/100\n",
      "14/14 [==============================] - 0s 7ms/step - loss: 0.4404 - binary_accuracy: 0.8162 - val_loss: 0.4631 - val_binary_accuracy: 0.7982\n",
      "Epoch 43/100\n",
      "14/14 [==============================] - 0s 6ms/step - loss: 0.4394 - binary_accuracy: 0.8255 - val_loss: 0.4633 - val_binary_accuracy: 0.8004\n",
      "Epoch 44/100\n",
      "14/14 [==============================] - 0s 6ms/step - loss: 0.4105 - binary_accuracy: 0.8304 - val_loss: 0.4665 - val_binary_accuracy: 0.8027\n",
      "Epoch 45/100\n",
      "14/14 [==============================] - 0s 9ms/step - loss: 0.4393 - binary_accuracy: 0.8222 - val_loss: 0.4653 - val_binary_accuracy: 0.8027\n",
      "Epoch 46/100\n",
      "14/14 [==============================] - 0s 6ms/step - loss: 0.4845 - binary_accuracy: 0.7837 - val_loss: 0.4633 - val_binary_accuracy: 0.8049\n",
      "Epoch 47/100\n",
      "14/14 [==============================] - 0s 7ms/step - loss: 0.4075 - binary_accuracy: 0.8200 - val_loss: 0.4642 - val_binary_accuracy: 0.8049\n",
      "Epoch 48/100\n",
      "14/14 [==============================] - 0s 7ms/step - loss: 0.4250 - binary_accuracy: 0.8284 - val_loss: 0.4639 - val_binary_accuracy: 0.8049\n",
      "Epoch 49/100\n",
      "14/14 [==============================] - 0s 7ms/step - loss: 0.4659 - binary_accuracy: 0.8177 - val_loss: 0.4593 - val_binary_accuracy: 0.8072\n",
      "Epoch 50/100\n",
      "14/14 [==============================] - 0s 6ms/step - loss: 0.4706 - binary_accuracy: 0.7737 - val_loss: 0.4610 - val_binary_accuracy: 0.8027\n",
      "Epoch 51/100\n",
      "14/14 [==============================] - 0s 6ms/step - loss: 0.4667 - binary_accuracy: 0.7897 - val_loss: 0.4612 - val_binary_accuracy: 0.8072\n",
      "Epoch 52/100\n",
      "14/14 [==============================] - 0s 7ms/step - loss: 0.4277 - binary_accuracy: 0.8169 - val_loss: 0.4647 - val_binary_accuracy: 0.8049\n",
      "Epoch 53/100\n",
      "14/14 [==============================] - 0s 7ms/step - loss: 0.4630 - binary_accuracy: 0.8279 - val_loss: 0.4546 - val_binary_accuracy: 0.8117\n",
      "Epoch 54/100\n",
      "14/14 [==============================] - 0s 7ms/step - loss: 0.4540 - binary_accuracy: 0.8026 - val_loss: 0.4579 - val_binary_accuracy: 0.8117\n",
      "Epoch 55/100\n",
      "14/14 [==============================] - 0s 6ms/step - loss: 0.4176 - binary_accuracy: 0.8177 - val_loss: 0.4643 - val_binary_accuracy: 0.8027\n",
      "Epoch 56/100\n",
      "14/14 [==============================] - 0s 6ms/step - loss: 0.4158 - binary_accuracy: 0.8340 - val_loss: 0.4683 - val_binary_accuracy: 0.8072\n",
      "Epoch 57/100\n",
      "14/14 [==============================] - 0s 7ms/step - loss: 0.4660 - binary_accuracy: 0.8104 - val_loss: 0.4655 - val_binary_accuracy: 0.7982\n",
      "Epoch 58/100\n",
      "14/14 [==============================] - 0s 6ms/step - loss: 0.4061 - binary_accuracy: 0.8148 - val_loss: 0.4654 - val_binary_accuracy: 0.8004\n",
      "Epoch 59/100\n",
      "14/14 [==============================] - 0s 6ms/step - loss: 0.4439 - binary_accuracy: 0.8132 - val_loss: 0.4674 - val_binary_accuracy: 0.8004\n",
      "Epoch 60/100\n",
      "14/14 [==============================] - 0s 7ms/step - loss: 0.4635 - binary_accuracy: 0.8006 - val_loss: 0.4620 - val_binary_accuracy: 0.8117\n",
      "Epoch 61/100\n",
      "14/14 [==============================] - 0s 6ms/step - loss: 0.4246 - binary_accuracy: 0.8337 - val_loss: 0.4665 - val_binary_accuracy: 0.8139\n",
      "Epoch 62/100\n",
      "14/14 [==============================] - 0s 6ms/step - loss: 0.4337 - binary_accuracy: 0.8285 - val_loss: 0.4671 - val_binary_accuracy: 0.8139\n",
      "Epoch 63/100\n",
      "14/14 [==============================] - 0s 6ms/step - loss: 0.4355 - binary_accuracy: 0.8054 - val_loss: 0.4604 - val_binary_accuracy: 0.8139\n",
      "Epoch 64/100\n",
      "14/14 [==============================] - 0s 6ms/step - loss: 0.4029 - binary_accuracy: 0.8540 - val_loss: 0.4618 - val_binary_accuracy: 0.8072\n",
      "Epoch 65/100\n",
      "14/14 [==============================] - 0s 7ms/step - loss: 0.4669 - binary_accuracy: 0.8073 - val_loss: 0.4606 - val_binary_accuracy: 0.8094\n",
      "Epoch 66/100\n",
      "14/14 [==============================] - 0s 7ms/step - loss: 0.4086 - binary_accuracy: 0.8300 - val_loss: 0.4605 - val_binary_accuracy: 0.8094\n",
      "Epoch 67/100\n",
      "14/14 [==============================] - 0s 6ms/step - loss: 0.4278 - binary_accuracy: 0.8420 - val_loss: 0.4576 - val_binary_accuracy: 0.8049\n",
      "Epoch 68/100\n",
      "14/14 [==============================] - 0s 6ms/step - loss: 0.4233 - binary_accuracy: 0.8485 - val_loss: 0.4585 - val_binary_accuracy: 0.8094\n",
      "Epoch 69/100\n",
      "14/14 [==============================] - 0s 7ms/step - loss: 0.4303 - binary_accuracy: 0.8216 - val_loss: 0.4605 - val_binary_accuracy: 0.8072\n",
      "Epoch 70/100\n",
      "14/14 [==============================] - 0s 6ms/step - loss: 0.4410 - binary_accuracy: 0.8231 - val_loss: 0.4574 - val_binary_accuracy: 0.8027\n",
      "Epoch 71/100\n",
      "14/14 [==============================] - 0s 7ms/step - loss: 0.4126 - binary_accuracy: 0.8244 - val_loss: 0.4600 - val_binary_accuracy: 0.8094\n",
      "Epoch 72/100\n",
      "14/14 [==============================] - 0s 6ms/step - loss: 0.4300 - binary_accuracy: 0.8271 - val_loss: 0.4631 - val_binary_accuracy: 0.8072\n",
      "Epoch 73/100\n",
      "14/14 [==============================] - 0s 6ms/step - loss: 0.4164 - binary_accuracy: 0.8323 - val_loss: 0.4591 - val_binary_accuracy: 0.8161\n",
      "Epoch 74/100\n",
      "14/14 [==============================] - 0s 6ms/step - loss: 0.4197 - binary_accuracy: 0.8388 - val_loss: 0.4653 - val_binary_accuracy: 0.8139\n",
      "Epoch 75/100\n",
      "14/14 [==============================] - 0s 6ms/step - loss: 0.4291 - binary_accuracy: 0.8211 - val_loss: 0.4606 - val_binary_accuracy: 0.8161\n",
      "Epoch 76/100\n",
      "14/14 [==============================] - 0s 7ms/step - loss: 0.4789 - binary_accuracy: 0.8018 - val_loss: 0.4598 - val_binary_accuracy: 0.8139\n",
      "Epoch 77/100\n",
      "14/14 [==============================] - 0s 6ms/step - loss: 0.4379 - binary_accuracy: 0.8170 - val_loss: 0.4593 - val_binary_accuracy: 0.8139\n",
      "Epoch 78/100\n",
      "14/14 [==============================] - 0s 6ms/step - loss: 0.3937 - binary_accuracy: 0.8418 - val_loss: 0.4574 - val_binary_accuracy: 0.8139\n",
      "Epoch 79/100\n",
      "14/14 [==============================] - 0s 6ms/step - loss: 0.4257 - binary_accuracy: 0.8265 - val_loss: 0.4637 - val_binary_accuracy: 0.8072\n",
      "Epoch 80/100\n",
      "14/14 [==============================] - 0s 6ms/step - loss: 0.4131 - binary_accuracy: 0.8288 - val_loss: 0.4608 - val_binary_accuracy: 0.8094\n",
      "Epoch 81/100\n",
      "14/14 [==============================] - 0s 6ms/step - loss: 0.3744 - binary_accuracy: 0.8569 - val_loss: 0.4659 - val_binary_accuracy: 0.8139\n",
      "Epoch 82/100\n",
      "14/14 [==============================] - 0s 6ms/step - loss: 0.4390 - binary_accuracy: 0.7934 - val_loss: 0.4619 - val_binary_accuracy: 0.8184\n",
      "Epoch 83/100\n",
      "14/14 [==============================] - 0s 6ms/step - loss: 0.4227 - binary_accuracy: 0.8257 - val_loss: 0.4584 - val_binary_accuracy: 0.8117\n",
      "Epoch 84/100\n",
      "14/14 [==============================] - 0s 6ms/step - loss: 0.4001 - binary_accuracy: 0.8344 - val_loss: 0.4588 - val_binary_accuracy: 0.8139\n",
      "Epoch 85/100\n",
      "14/14 [==============================] - 0s 6ms/step - loss: 0.4375 - binary_accuracy: 0.8207 - val_loss: 0.4557 - val_binary_accuracy: 0.8117\n",
      "Epoch 86/100\n",
      "14/14 [==============================] - 0s 7ms/step - loss: 0.4105 - binary_accuracy: 0.8570 - val_loss: 0.4546 - val_binary_accuracy: 0.8184\n",
      "Epoch 87/100\n",
      "14/14 [==============================] - 0s 6ms/step - loss: 0.3828 - binary_accuracy: 0.8471 - val_loss: 0.4588 - val_binary_accuracy: 0.8139\n",
      "Epoch 88/100\n",
      "14/14 [==============================] - 0s 6ms/step - loss: 0.4229 - binary_accuracy: 0.8387 - val_loss: 0.4569 - val_binary_accuracy: 0.8117\n",
      "Epoch 89/100\n",
      "14/14 [==============================] - 0s 6ms/step - loss: 0.4486 - binary_accuracy: 0.8273 - val_loss: 0.4567 - val_binary_accuracy: 0.8117\n",
      "Epoch 90/100\n",
      "14/14 [==============================] - 0s 7ms/step - loss: 0.4185 - binary_accuracy: 0.8306 - val_loss: 0.4610 - val_binary_accuracy: 0.8161\n",
      "Epoch 91/100\n",
      "14/14 [==============================] - 0s 6ms/step - loss: 0.3897 - binary_accuracy: 0.8388 - val_loss: 0.4642 - val_binary_accuracy: 0.8161\n",
      "Epoch 92/100\n",
      "14/14 [==============================] - 0s 6ms/step - loss: 0.4407 - binary_accuracy: 0.8245 - val_loss: 0.4628 - val_binary_accuracy: 0.8139\n",
      "Epoch 93/100\n",
      "14/14 [==============================] - 0s 7ms/step - loss: 0.4107 - binary_accuracy: 0.8293 - val_loss: 0.4639 - val_binary_accuracy: 0.8117\n",
      "Epoch 94/100\n",
      "14/14 [==============================] - 0s 6ms/step - loss: 0.4083 - binary_accuracy: 0.8389 - val_loss: 0.4636 - val_binary_accuracy: 0.8139\n",
      "Epoch 95/100\n",
      "14/14 [==============================] - 0s 6ms/step - loss: 0.3920 - binary_accuracy: 0.8489 - val_loss: 0.4671 - val_binary_accuracy: 0.8094\n",
      "Epoch 96/100\n",
      "14/14 [==============================] - 0s 6ms/step - loss: 0.3871 - binary_accuracy: 0.8545 - val_loss: 0.4653 - val_binary_accuracy: 0.8094\n",
      "Epoch 97/100\n",
      "14/14 [==============================] - 0s 6ms/step - loss: 0.4315 - binary_accuracy: 0.8062 - val_loss: 0.4680 - val_binary_accuracy: 0.8027\n",
      "Epoch 98/100\n",
      "14/14 [==============================] - 0s 6ms/step - loss: 0.4319 - binary_accuracy: 0.8104 - val_loss: 0.4624 - val_binary_accuracy: 0.8139\n",
      "Epoch 99/100\n",
      "14/14 [==============================] - 0s 6ms/step - loss: 0.3963 - binary_accuracy: 0.8471 - val_loss: 0.4736 - val_binary_accuracy: 0.8004\n",
      "Epoch 100/100\n",
      "14/14 [==============================] - 0s 6ms/step - loss: 0.4625 - binary_accuracy: 0.8011 - val_loss: 0.4615 - val_binary_accuracy: 0.8094\n"
     ]
    }
   ],
   "source": [
    "history=model.fit(X_train,y_train,batch_size=32,epochs=100,validation_split=0.5)"
   ]
  },
  {
   "cell_type": "code",
   "execution_count": 18,
   "id": "683bad4a",
   "metadata": {
    "execution": {
     "iopub.execute_input": "2022-02-05T02:53:05.779816Z",
     "iopub.status.busy": "2022-02-05T02:53:05.764704Z",
     "iopub.status.idle": "2022-02-05T02:53:06.070238Z",
     "shell.execute_reply": "2022-02-05T02:53:06.070674Z",
     "shell.execute_reply.started": "2022-02-04T15:24:12.76349Z"
    },
    "papermill": {
     "duration": 0.397523,
     "end_time": "2022-02-05T02:53:06.070859",
     "exception": false,
     "start_time": "2022-02-05T02:53:05.673336",
     "status": "completed"
    },
    "tags": []
   },
   "outputs": [
    {
     "data": {
      "text/plain": [
       "(array([0.55, 0.6 , 0.65, 0.7 , 0.75, 0.8 , 0.85, 0.9 ]),\n",
       " [Text(0, 0, ''),\n",
       "  Text(0, 0, ''),\n",
       "  Text(0, 0, ''),\n",
       "  Text(0, 0, ''),\n",
       "  Text(0, 0, ''),\n",
       "  Text(0, 0, ''),\n",
       "  Text(0, 0, ''),\n",
       "  Text(0, 0, '')])"
      ]
     },
     "execution_count": 18,
     "metadata": {},
     "output_type": "execute_result"
    },
    {
     "data": {
      "image/png": "[encoded data removed]",
      "text/plain": [
       "<Figure size 720x576 with 1 Axes>"
      ]
     },
     "metadata": {
      "needs_background": "light"
     },
     "output_type": "display_data"
    }
   ],
   "source": [
    "plt.figure(figsize=(10,8))\n",
    "plt.plot(history.history['binary_accuracy'],label='train_acc')\n",
    "plt.plot(history.history['val_binary_accuracy'],label='val_acc')\n",
    "plt.legend(fontsize=18)\n",
    "plt.xlabel('Epochs',fontsize=18)\n",
    "plt.ylabel('Accuracy',fontsize=18)\n",
    "plt.xticks(fontsize=16)\n",
    "plt.yticks(fontsize=16)"
   ]
  },
  {
   "cell_type": "code",
   "execution_count": 19,
   "id": "fe67baf2",
   "metadata": {
    "execution": {
     "iopub.execute_input": "2022-02-05T02:53:06.439108Z",
     "iopub.status.busy": "2022-02-05T02:53:06.438375Z",
     "iopub.status.idle": "2022-02-05T02:53:06.698087Z",
     "shell.execute_reply": "2022-02-05T02:53:06.697490Z",
     "shell.execute_reply.started": "2022-02-04T15:24:18.941259Z"
    },
    "papermill": {
     "duration": 0.541694,
     "end_time": "2022-02-05T02:53:06.698234",
     "exception": false,
     "start_time": "2022-02-05T02:53:06.156540",
     "status": "completed"
    },
    "tags": []
   },
   "outputs": [
    {
     "data": {
      "text/plain": [
       "(array([0.35, 0.4 , 0.45, 0.5 , 0.55, 0.6 , 0.65, 0.7 ]),\n",
       " [Text(0, 0, ''),\n",
       "  Text(0, 0, ''),\n",
       "  Text(0, 0, ''),\n",
       "  Text(0, 0, ''),\n",
       "  Text(0, 0, ''),\n",
       "  Text(0, 0, ''),\n",
       "  Text(0, 0, ''),\n",
       "  Text(0, 0, '')])"
      ]
     },
     "execution_count": 19,
     "metadata": {},
     "output_type": "execute_result"
    },
    {
     "data": {
      "image/png": "[encoded data removed]",
      "text/plain": [
       "<Figure size 720x576 with 1 Axes>"
      ]
     },
     "metadata": {
      "needs_background": "light"
     },
     "output_type": "display_data"
    }
   ],
   "source": [
    "plt.figure(figsize=(10,8))\n",
    "plt.plot(history.history['loss'],label='train_loss')\n",
    "plt.plot(history.history['val_loss'],label='val_loss')\n",
    "plt.legend(fontsize=18)\n",
    "plt.xlabel('Epochs',fontsize=18)\n",
    "plt.ylabel('Loss',fontsize=18)\n",
    "plt.xticks(fontsize=16)\n",
    "plt.yticks(fontsize=16)"
   ]
  },
  {
   "cell_type": "code",
   "execution_count": 20,
   "id": "5035f0e1",
   "metadata": {
    "execution": {
     "iopub.execute_input": "2022-02-05T02:53:06.884121Z",
     "iopub.status.busy": "2022-02-05T02:53:06.883439Z",
     "iopub.status.idle": "2022-02-05T02:53:07.037329Z",
     "shell.execute_reply": "2022-02-05T02:53:07.037834Z",
     "shell.execute_reply.started": "2022-02-04T15:24:22.784669Z"
    },
    "papermill": {
     "duration": 0.250287,
     "end_time": "2022-02-05T02:53:07.038010",
     "exception": false,
     "start_time": "2022-02-05T02:53:06.787723",
     "status": "completed"
    },
    "tags": []
   },
   "outputs": [
    {
     "name": "stderr",
     "output_type": "stream",
     "text": [
      "/opt/conda/lib/python3.7/site-packages/tensorflow/python/keras/engine/sequential.py:450: UserWarning: `model.predict_classes()` is deprecated and will be removed after 2021-01-01. Please use instead:* `np.argmax(model.predict(x), axis=-1)`,   if your model does multi-class classification   (e.g. if it uses a `softmax` last-layer activation).* `(model.predict(x) > 0.5).astype(\"int32\")`,   if your model does binary classification   (e.g. if it uses a `sigmoid` last-layer activation).\n",
      "  warnings.warn('`model.predict_classes()` is deprecated and '\n"
     ]
    },
    {
     "data": {
      "text/html": [
       "<div>\n",
       "<style scoped>\n",
       "    .dataframe tbody tr th:only-of-type {\n",
       "        vertical-align: middle;\n",
       "    }\n",
       "\n",
       "    .dataframe tbody tr th {\n",
       "        vertical-align: top;\n",
       "    }\n",
       "\n",
       "    .dataframe thead th {\n",
       "        text-align: right;\n",
       "    }\n",
       "</style>\n",
       "<table border=\"1\" class=\"dataframe\">\n",
       "  <thead>\n",
       "    <tr style=\"text-align: right;\">\n",
       "      <th></th>\n",
       "      <th>PassengerId</th>\n",
       "      <th>Survived</th>\n",
       "    </tr>\n",
       "  </thead>\n",
       "  <tbody>\n",
       "    <tr>\n",
       "      <th>0</th>\n",
       "      <td>892</td>\n",
       "      <td>0</td>\n",
       "    </tr>\n",
       "    <tr>\n",
       "      <th>1</th>\n",
       "      <td>893</td>\n",
       "      <td>0</td>\n",
       "    </tr>\n",
       "    <tr>\n",
       "      <th>2</th>\n",
       "      <td>894</td>\n",
       "      <td>0</td>\n",
       "    </tr>\n",
       "    <tr>\n",
       "      <th>3</th>\n",
       "      <td>895</td>\n",
       "      <td>0</td>\n",
       "    </tr>\n",
       "    <tr>\n",
       "      <th>4</th>\n",
       "      <td>896</td>\n",
       "      <td>0</td>\n",
       "    </tr>\n",
       "    <tr>\n",
       "      <th>5</th>\n",
       "      <td>897</td>\n",
       "      <td>0</td>\n",
       "    </tr>\n",
       "    <tr>\n",
       "      <th>6</th>\n",
       "      <td>898</td>\n",
       "      <td>1</td>\n",
       "    </tr>\n",
       "    <tr>\n",
       "      <th>7</th>\n",
       "      <td>899</td>\n",
       "      <td>0</td>\n",
       "    </tr>\n",
       "    <tr>\n",
       "      <th>8</th>\n",
       "      <td>900</td>\n",
       "      <td>1</td>\n",
       "    </tr>\n",
       "    <tr>\n",
       "      <th>9</th>\n",
       "      <td>901</td>\n",
       "      <td>0</td>\n",
       "    </tr>\n",
       "  </tbody>\n",
       "</table>\n",
       "</div>"
      ],
      "text/plain": [
       "   PassengerId  Survived\n",
       "0          892         0\n",
       "1          893         0\n",
       "2          894         0\n",
       "3          895         0\n",
       "4          896         0\n",
       "5          897         0\n",
       "6          898         1\n",
       "7          899         0\n",
       "8          900         1\n",
       "9          901         0"
      ]
     },
     "execution_count": 20,
     "metadata": {},
     "output_type": "execute_result"
    }
   ],
   "source": [
    "predictions = model.predict_classes(X_test)\n",
    "ids = test_data['PassengerId'].copy()\n",
    "output = ids.to_frame()\n",
    "output[\"Survived\"]=predictions\n",
    "output.head(10)"
   ]
  },
  {
   "cell_type": "code",
   "execution_count": 21,
   "id": "6e82ef58",
   "metadata": {
    "execution": {
     "iopub.execute_input": "2022-02-05T02:53:07.220886Z",
     "iopub.status.busy": "2022-02-05T02:53:07.220195Z",
     "iopub.status.idle": "2022-02-05T02:53:07.227074Z",
     "shell.execute_reply": "2022-02-05T02:53:07.227598Z",
     "shell.execute_reply.started": "2022-02-04T15:24:25.492298Z"
    },
    "papermill": {
     "duration": 0.100498,
     "end_time": "2022-02-05T02:53:07.227844",
     "exception": false,
     "start_time": "2022-02-05T02:53:07.127346",
     "status": "completed"
    },
    "tags": []
   },
   "outputs": [],
   "source": [
    "output.to_csv(\"submission.csv\",index=False)"
   ]
  },
  {
   "cell_type": "code",
   "execution_count": null,
   "id": "73be6d24",
   "metadata": {
    "papermill": {
     "duration": 0.090392,
     "end_time": "2022-02-05T02:53:07.408872",
     "exception": false,
     "start_time": "2022-02-05T02:53:07.318480",
     "status": "completed"
    },
    "tags": []
   },
   "outputs": [],
   "source": []
  }
 ],
 "metadata": {
  "kernelspec": {
   "display_name": "Python 3",
   "language": "python",
   "name": "python3"
  },
  "language_info": {
   "codemirror_mode": {
    "name": "ipython",
    "version": 3
   },
   "file_extension": ".py",
   "mimetype": "text/x-python",
   "name": "python",
   "nbconvert_exporter": "python",
   "pygments_lexer": "ipython3",
   "version": "3.7.10"
  },
  "papermill": {
   "default_parameters": {},
   "duration": 29.848801,
   "end_time": "2022-02-05T02:53:10.344974",
   "environment_variables": {},
   "exception": null,
   "input_path": "__notebook__.ipynb",
   "output_path": "__notebook__.ipynb",
   "parameters": {},
   "start_time": "2022-02-05T02:52:40.496173",
   "version": "2.3.3"
  }
 },
 "nbformat": 4,
 "nbformat_minor": 5
}
