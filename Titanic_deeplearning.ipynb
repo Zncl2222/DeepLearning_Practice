{
 "cells": [
  {
   "cell_type": "code",
   "execution_count": 1,
   "id": "c9bcd525",
   "metadata": {
    "_cell_guid": "b1076dfc-b9ad-4769-8c92-a6c4dae69d19",
    "_uuid": "8f2839f25d086af736a60e9eeb907d3b93b6e0e5",
    "execution": {
     "iopub.execute_input": "2022-02-05T03:08:17.918936Z",
     "iopub.status.busy": "2022-02-05T03:08:17.910011Z",
     "iopub.status.idle": "2022-02-05T03:08:17.925490Z",
     "shell.execute_reply": "2022-02-05T03:08:17.924712Z",
     "shell.execute_reply.started": "2022-02-04T14:50:20.408804Z"
    },
    "papermill": {
     "duration": 0.038984,
     "end_time": "2022-02-05T03:08:17.925658",
     "exception": false,
     "start_time": "2022-02-05T03:08:17.886674",
     "status": "completed"
    },
    "tags": []
   },
   "outputs": [
    {
     "name": "stdout",
     "output_type": "stream",
     "text": [
      "/kaggle/input/c/titanic/train.csv\n",
      "/kaggle/input/c/titanic/test.csv\n",
      "/kaggle/input/c/titanic/gender_submission.csv\n"
     ]
    }
   ],
   "source": [
    "# This Python 3 environment comes with many helpful analytics libraries installed\n",
    "# It is defined by the kaggle/python Docker image: https://github.com/kaggle/docker-python\n",
    "# For example, here's several helpful packages to load\n",
    "\n",
    "import numpy as np # linear algebra\n",
    "import pandas as pd # data processing, CSV file I/O (e.g. pd.read_csv)\n",
    "\n",
    "# Input data files are available in the read-only \"../input/\" directory\n",
    "# For example, running this (by clicking run or pressing Shift+Enter) will list all files under the input directory\n",
    "\n",
    "import os\n",
    "for dirname, _, filenames in os.walk('/kaggle/input'):\n",
    "    for filename in filenames:\n",
    "        print(os.path.join(dirname, filename))\n",
    "\n",
    "# You can write up to 20GB to the current directory (/kaggle/working/) that gets preserved as output when you create a version using \"Save & Run All\" \n",
    "# You can also write temporary files to /kaggle/temp/, but they won't be saved outside of the current session"
   ]
  },
  {
   "cell_type": "code",
   "execution_count": 2,
   "id": "6aed13eb",
   "metadata": {
    "execution": {
     "iopub.execute_input": "2022-02-05T03:08:17.967438Z",
     "iopub.status.busy": "2022-02-05T03:08:17.966462Z",
     "iopub.status.idle": "2022-02-05T03:08:23.562330Z",
     "shell.execute_reply": "2022-02-05T03:08:23.561777Z",
     "shell.execute_reply.started": "2022-02-05T02:55:54.941891Z"
    },
    "papermill": {
     "duration": 5.617451,
     "end_time": "2022-02-05T03:08:23.562495",
     "exception": false,
     "start_time": "2022-02-05T03:08:17.945044",
     "status": "completed"
    },
    "tags": []
   },
   "outputs": [
    {
     "name": "stderr",
     "output_type": "stream",
     "text": [
      "2022-02-05 03:08:18.592575: W tensorflow/stream_executor/platform/default/dso_loader.cc:60] Could not load dynamic library 'libcudart.so.11.0'; dlerror: libcudart.so.11.0: cannot open shared object file: No such file or directory; LD_LIBRARY_PATH: /opt/conda/lib\n",
      "2022-02-05 03:08:18.592690: I tensorflow/stream_executor/cuda/cudart_stub.cc:29] Ignore above cudart dlerror if you do not have a GPU set up on your machine.\n"
     ]
    }
   ],
   "source": [
    "from tensorflow.keras.layers import Dense,Dropout,BatchNormalization\n",
    "from tensorflow.keras.models import Sequential\n",
    "from tensorflow.keras.optimizers import Adam\n",
    "from tensorflow.keras.callbacks import EarlyStopping\n",
    "import numpy as np \n",
    "import pandas as pd\n",
    "import matplotlib.pyplot as plt"
   ]
  },
  {
   "cell_type": "code",
   "execution_count": 3,
   "id": "1a931430",
   "metadata": {
    "execution": {
     "iopub.execute_input": "2022-02-05T03:08:23.609477Z",
     "iopub.status.busy": "2022-02-05T03:08:23.608582Z",
     "iopub.status.idle": "2022-02-05T03:08:23.644765Z",
     "shell.execute_reply": "2022-02-05T03:08:23.644131Z",
     "shell.execute_reply.started": "2022-02-05T02:56:02.117574Z"
    },
    "papermill": {
     "duration": 0.062407,
     "end_time": "2022-02-05T03:08:23.644929",
     "exception": false,
     "start_time": "2022-02-05T03:08:23.582522",
     "status": "completed"
    },
    "tags": []
   },
   "outputs": [],
   "source": [
    "gender_submission = pd.read_csv(r\"../input/c/titanic/gender_submission.csv\")\n",
    "train_data = pd.read_csv(r\"../input/c/titanic/train.csv\")\n",
    "test_data = pd.read_csv(r\"../input/c/titanic/test.csv\")"
   ]
  },
  {
   "cell_type": "code",
   "execution_count": 4,
   "id": "f639b53b",
   "metadata": {
    "execution": {
     "iopub.execute_input": "2022-02-05T03:08:23.693270Z",
     "iopub.status.busy": "2022-02-05T03:08:23.692368Z",
     "iopub.status.idle": "2022-02-05T03:08:23.705269Z",
     "shell.execute_reply": "2022-02-05T03:08:23.705905Z",
     "shell.execute_reply.started": "2022-02-05T02:56:03.103365Z"
    },
    "papermill": {
     "duration": 0.041208,
     "end_time": "2022-02-05T03:08:23.706074",
     "exception": false,
     "start_time": "2022-02-05T03:08:23.664866",
     "status": "completed"
    },
    "tags": []
   },
   "outputs": [
    {
     "data": {
      "text/html": [
       "<div>\n",
       "<style scoped>\n",
       "    .dataframe tbody tr th:only-of-type {\n",
       "        vertical-align: middle;\n",
       "    }\n",
       "\n",
       "    .dataframe tbody tr th {\n",
       "        vertical-align: top;\n",
       "    }\n",
       "\n",
       "    .dataframe thead th {\n",
       "        text-align: right;\n",
       "    }\n",
       "</style>\n",
       "<table border=\"1\" class=\"dataframe\">\n",
       "  <thead>\n",
       "    <tr style=\"text-align: right;\">\n",
       "      <th></th>\n",
       "      <th>PassengerId</th>\n",
       "      <th>Survived</th>\n",
       "    </tr>\n",
       "  </thead>\n",
       "  <tbody>\n",
       "    <tr>\n",
       "      <th>0</th>\n",
       "      <td>892</td>\n",
       "      <td>0</td>\n",
       "    </tr>\n",
       "    <tr>\n",
       "      <th>1</th>\n",
       "      <td>893</td>\n",
       "      <td>1</td>\n",
       "    </tr>\n",
       "    <tr>\n",
       "      <th>2</th>\n",
       "      <td>894</td>\n",
       "      <td>0</td>\n",
       "    </tr>\n",
       "    <tr>\n",
       "      <th>3</th>\n",
       "      <td>895</td>\n",
       "      <td>0</td>\n",
       "    </tr>\n",
       "    <tr>\n",
       "      <th>4</th>\n",
       "      <td>896</td>\n",
       "      <td>1</td>\n",
       "    </tr>\n",
       "    <tr>\n",
       "      <th>...</th>\n",
       "      <td>...</td>\n",
       "      <td>...</td>\n",
       "    </tr>\n",
       "    <tr>\n",
       "      <th>413</th>\n",
       "      <td>1305</td>\n",
       "      <td>0</td>\n",
       "    </tr>\n",
       "    <tr>\n",
       "      <th>414</th>\n",
       "      <td>1306</td>\n",
       "      <td>1</td>\n",
       "    </tr>\n",
       "    <tr>\n",
       "      <th>415</th>\n",
       "      <td>1307</td>\n",
       "      <td>0</td>\n",
       "    </tr>\n",
       "    <tr>\n",
       "      <th>416</th>\n",
       "      <td>1308</td>\n",
       "      <td>0</td>\n",
       "    </tr>\n",
       "    <tr>\n",
       "      <th>417</th>\n",
       "      <td>1309</td>\n",
       "      <td>0</td>\n",
       "    </tr>\n",
       "  </tbody>\n",
       "</table>\n",
       "<p>418 rows × 2 columns</p>\n",
       "</div>"
      ],
      "text/plain": [
       "     PassengerId  Survived\n",
       "0            892         0\n",
       "1            893         1\n",
       "2            894         0\n",
       "3            895         0\n",
       "4            896         1\n",
       "..           ...       ...\n",
       "413         1305         0\n",
       "414         1306         1\n",
       "415         1307         0\n",
       "416         1308         0\n",
       "417         1309         0\n",
       "\n",
       "[418 rows x 2 columns]"
      ]
     },
     "execution_count": 4,
     "metadata": {},
     "output_type": "execute_result"
    }
   ],
   "source": [
    "gender_submission"
   ]
  },
  {
   "cell_type": "code",
   "execution_count": 5,
   "id": "1a5c67d5",
   "metadata": {
    "execution": {
     "iopub.execute_input": "2022-02-05T03:08:23.749387Z",
     "iopub.status.busy": "2022-02-05T03:08:23.748362Z",
     "iopub.status.idle": "2022-02-05T03:08:23.774371Z",
     "shell.execute_reply": "2022-02-05T03:08:23.774893Z",
     "shell.execute_reply.started": "2022-02-05T02:56:04.493704Z"
    },
    "papermill": {
     "duration": 0.049286,
     "end_time": "2022-02-05T03:08:23.775079",
     "exception": false,
     "start_time": "2022-02-05T03:08:23.725793",
     "status": "completed"
    },
    "tags": []
   },
   "outputs": [
    {
     "data": {
      "text/html": [
       "<div>\n",
       "<style scoped>\n",
       "    .dataframe tbody tr th:only-of-type {\n",
       "        vertical-align: middle;\n",
       "    }\n",
       "\n",
       "    .dataframe tbody tr th {\n",
       "        vertical-align: top;\n",
       "    }\n",
       "\n",
       "    .dataframe thead th {\n",
       "        text-align: right;\n",
       "    }\n",
       "</style>\n",
       "<table border=\"1\" class=\"dataframe\">\n",
       "  <thead>\n",
       "    <tr style=\"text-align: right;\">\n",
       "      <th></th>\n",
       "      <th>PassengerId</th>\n",
       "      <th>Survived</th>\n",
       "      <th>Pclass</th>\n",
       "      <th>Name</th>\n",
       "      <th>Sex</th>\n",
       "      <th>Age</th>\n",
       "      <th>SibSp</th>\n",
       "      <th>Parch</th>\n",
       "      <th>Ticket</th>\n",
       "      <th>Fare</th>\n",
       "      <th>Cabin</th>\n",
       "      <th>Embarked</th>\n",
       "    </tr>\n",
       "  </thead>\n",
       "  <tbody>\n",
       "    <tr>\n",
       "      <th>0</th>\n",
       "      <td>1</td>\n",
       "      <td>0</td>\n",
       "      <td>3</td>\n",
       "      <td>Braund, Mr. Owen Harris</td>\n",
       "      <td>male</td>\n",
       "      <td>22.0</td>\n",
       "      <td>1</td>\n",
       "      <td>0</td>\n",
       "      <td>A/5 21171</td>\n",
       "      <td>7.2500</td>\n",
       "      <td>NaN</td>\n",
       "      <td>S</td>\n",
       "    </tr>\n",
       "    <tr>\n",
       "      <th>1</th>\n",
       "      <td>2</td>\n",
       "      <td>1</td>\n",
       "      <td>1</td>\n",
       "      <td>Cumings, Mrs. John Bradley (Florence Briggs Th...</td>\n",
       "      <td>female</td>\n",
       "      <td>38.0</td>\n",
       "      <td>1</td>\n",
       "      <td>0</td>\n",
       "      <td>PC 17599</td>\n",
       "      <td>71.2833</td>\n",
       "      <td>C85</td>\n",
       "      <td>C</td>\n",
       "    </tr>\n",
       "    <tr>\n",
       "      <th>2</th>\n",
       "      <td>3</td>\n",
       "      <td>1</td>\n",
       "      <td>3</td>\n",
       "      <td>Heikkinen, Miss. Laina</td>\n",
       "      <td>female</td>\n",
       "      <td>26.0</td>\n",
       "      <td>0</td>\n",
       "      <td>0</td>\n",
       "      <td>STON/O2. 3101282</td>\n",
       "      <td>7.9250</td>\n",
       "      <td>NaN</td>\n",
       "      <td>S</td>\n",
       "    </tr>\n",
       "    <tr>\n",
       "      <th>3</th>\n",
       "      <td>4</td>\n",
       "      <td>1</td>\n",
       "      <td>1</td>\n",
       "      <td>Futrelle, Mrs. Jacques Heath (Lily May Peel)</td>\n",
       "      <td>female</td>\n",
       "      <td>35.0</td>\n",
       "      <td>1</td>\n",
       "      <td>0</td>\n",
       "      <td>113803</td>\n",
       "      <td>53.1000</td>\n",
       "      <td>C123</td>\n",
       "      <td>S</td>\n",
       "    </tr>\n",
       "    <tr>\n",
       "      <th>4</th>\n",
       "      <td>5</td>\n",
       "      <td>0</td>\n",
       "      <td>3</td>\n",
       "      <td>Allen, Mr. William Henry</td>\n",
       "      <td>male</td>\n",
       "      <td>35.0</td>\n",
       "      <td>0</td>\n",
       "      <td>0</td>\n",
       "      <td>373450</td>\n",
       "      <td>8.0500</td>\n",
       "      <td>NaN</td>\n",
       "      <td>S</td>\n",
       "    </tr>\n",
       "    <tr>\n",
       "      <th>...</th>\n",
       "      <td>...</td>\n",
       "      <td>...</td>\n",
       "      <td>...</td>\n",
       "      <td>...</td>\n",
       "      <td>...</td>\n",
       "      <td>...</td>\n",
       "      <td>...</td>\n",
       "      <td>...</td>\n",
       "      <td>...</td>\n",
       "      <td>...</td>\n",
       "      <td>...</td>\n",
       "      <td>...</td>\n",
       "    </tr>\n",
       "    <tr>\n",
       "      <th>886</th>\n",
       "      <td>887</td>\n",
       "      <td>0</td>\n",
       "      <td>2</td>\n",
       "      <td>Montvila, Rev. Juozas</td>\n",
       "      <td>male</td>\n",
       "      <td>27.0</td>\n",
       "      <td>0</td>\n",
       "      <td>0</td>\n",
       "      <td>211536</td>\n",
       "      <td>13.0000</td>\n",
       "      <td>NaN</td>\n",
       "      <td>S</td>\n",
       "    </tr>\n",
       "    <tr>\n",
       "      <th>887</th>\n",
       "      <td>888</td>\n",
       "      <td>1</td>\n",
       "      <td>1</td>\n",
       "      <td>Graham, Miss. Margaret Edith</td>\n",
       "      <td>female</td>\n",
       "      <td>19.0</td>\n",
       "      <td>0</td>\n",
       "      <td>0</td>\n",
       "      <td>112053</td>\n",
       "      <td>30.0000</td>\n",
       "      <td>B42</td>\n",
       "      <td>S</td>\n",
       "    </tr>\n",
       "    <tr>\n",
       "      <th>888</th>\n",
       "      <td>889</td>\n",
       "      <td>0</td>\n",
       "      <td>3</td>\n",
       "      <td>Johnston, Miss. Catherine Helen \"Carrie\"</td>\n",
       "      <td>female</td>\n",
       "      <td>NaN</td>\n",
       "      <td>1</td>\n",
       "      <td>2</td>\n",
       "      <td>W./C. 6607</td>\n",
       "      <td>23.4500</td>\n",
       "      <td>NaN</td>\n",
       "      <td>S</td>\n",
       "    </tr>\n",
       "    <tr>\n",
       "      <th>889</th>\n",
       "      <td>890</td>\n",
       "      <td>1</td>\n",
       "      <td>1</td>\n",
       "      <td>Behr, Mr. Karl Howell</td>\n",
       "      <td>male</td>\n",
       "      <td>26.0</td>\n",
       "      <td>0</td>\n",
       "      <td>0</td>\n",
       "      <td>111369</td>\n",
       "      <td>30.0000</td>\n",
       "      <td>C148</td>\n",
       "      <td>C</td>\n",
       "    </tr>\n",
       "    <tr>\n",
       "      <th>890</th>\n",
       "      <td>891</td>\n",
       "      <td>0</td>\n",
       "      <td>3</td>\n",
       "      <td>Dooley, Mr. Patrick</td>\n",
       "      <td>male</td>\n",
       "      <td>32.0</td>\n",
       "      <td>0</td>\n",
       "      <td>0</td>\n",
       "      <td>370376</td>\n",
       "      <td>7.7500</td>\n",
       "      <td>NaN</td>\n",
       "      <td>Q</td>\n",
       "    </tr>\n",
       "  </tbody>\n",
       "</table>\n",
       "<p>891 rows × 12 columns</p>\n",
       "</div>"
      ],
      "text/plain": [
       "     PassengerId  Survived  Pclass  \\\n",
       "0              1         0       3   \n",
       "1              2         1       1   \n",
       "2              3         1       3   \n",
       "3              4         1       1   \n",
       "4              5         0       3   \n",
       "..           ...       ...     ...   \n",
       "886          887         0       2   \n",
       "887          888         1       1   \n",
       "888          889         0       3   \n",
       "889          890         1       1   \n",
       "890          891         0       3   \n",
       "\n",
       "                                                  Name     Sex   Age  SibSp  \\\n",
       "0                              Braund, Mr. Owen Harris    male  22.0      1   \n",
       "1    Cumings, Mrs. John Bradley (Florence Briggs Th...  female  38.0      1   \n",
       "2                               Heikkinen, Miss. Laina  female  26.0      0   \n",
       "3         Futrelle, Mrs. Jacques Heath (Lily May Peel)  female  35.0      1   \n",
       "4                             Allen, Mr. William Henry    male  35.0      0   \n",
       "..                                                 ...     ...   ...    ...   \n",
       "886                              Montvila, Rev. Juozas    male  27.0      0   \n",
       "887                       Graham, Miss. Margaret Edith  female  19.0      0   \n",
       "888           Johnston, Miss. Catherine Helen \"Carrie\"  female   NaN      1   \n",
       "889                              Behr, Mr. Karl Howell    male  26.0      0   \n",
       "890                                Dooley, Mr. Patrick    male  32.0      0   \n",
       "\n",
       "     Parch            Ticket     Fare Cabin Embarked  \n",
       "0        0         A/5 21171   7.2500   NaN        S  \n",
       "1        0          PC 17599  71.2833   C85        C  \n",
       "2        0  STON/O2. 3101282   7.9250   NaN        S  \n",
       "3        0            113803  53.1000  C123        S  \n",
       "4        0            373450   8.0500   NaN        S  \n",
       "..     ...               ...      ...   ...      ...  \n",
       "886      0            211536  13.0000   NaN        S  \n",
       "887      0            112053  30.0000   B42        S  \n",
       "888      2        W./C. 6607  23.4500   NaN        S  \n",
       "889      0            111369  30.0000  C148        C  \n",
       "890      0            370376   7.7500   NaN        Q  \n",
       "\n",
       "[891 rows x 12 columns]"
      ]
     },
     "execution_count": 5,
     "metadata": {},
     "output_type": "execute_result"
    }
   ],
   "source": [
    "train_data"
   ]
  },
  {
   "cell_type": "code",
   "execution_count": 6,
   "id": "720420c8",
   "metadata": {
    "execution": {
     "iopub.execute_input": "2022-02-05T03:08:23.821654Z",
     "iopub.status.busy": "2022-02-05T03:08:23.820543Z",
     "iopub.status.idle": "2022-02-05T03:08:23.840732Z",
     "shell.execute_reply": "2022-02-05T03:08:23.841187Z",
     "shell.execute_reply.started": "2022-02-05T02:56:06.221925Z"
    },
    "papermill": {
     "duration": 0.045994,
     "end_time": "2022-02-05T03:08:23.841373",
     "exception": false,
     "start_time": "2022-02-05T03:08:23.795379",
     "status": "completed"
    },
    "tags": []
   },
   "outputs": [
    {
     "data": {
      "text/html": [
       "<div>\n",
       "<style scoped>\n",
       "    .dataframe tbody tr th:only-of-type {\n",
       "        vertical-align: middle;\n",
       "    }\n",
       "\n",
       "    .dataframe tbody tr th {\n",
       "        vertical-align: top;\n",
       "    }\n",
       "\n",
       "    .dataframe thead th {\n",
       "        text-align: right;\n",
       "    }\n",
       "</style>\n",
       "<table border=\"1\" class=\"dataframe\">\n",
       "  <thead>\n",
       "    <tr style=\"text-align: right;\">\n",
       "      <th></th>\n",
       "      <th>PassengerId</th>\n",
       "      <th>Pclass</th>\n",
       "      <th>Name</th>\n",
       "      <th>Sex</th>\n",
       "      <th>Age</th>\n",
       "      <th>SibSp</th>\n",
       "      <th>Parch</th>\n",
       "      <th>Ticket</th>\n",
       "      <th>Fare</th>\n",
       "      <th>Cabin</th>\n",
       "      <th>Embarked</th>\n",
       "    </tr>\n",
       "  </thead>\n",
       "  <tbody>\n",
       "    <tr>\n",
       "      <th>0</th>\n",
       "      <td>892</td>\n",
       "      <td>3</td>\n",
       "      <td>Kelly, Mr. James</td>\n",
       "      <td>male</td>\n",
       "      <td>34.5</td>\n",
       "      <td>0</td>\n",
       "      <td>0</td>\n",
       "      <td>330911</td>\n",
       "      <td>7.8292</td>\n",
       "      <td>NaN</td>\n",
       "      <td>Q</td>\n",
       "    </tr>\n",
       "    <tr>\n",
       "      <th>1</th>\n",
       "      <td>893</td>\n",
       "      <td>3</td>\n",
       "      <td>Wilkes, Mrs. James (Ellen Needs)</td>\n",
       "      <td>female</td>\n",
       "      <td>47.0</td>\n",
       "      <td>1</td>\n",
       "      <td>0</td>\n",
       "      <td>363272</td>\n",
       "      <td>7.0000</td>\n",
       "      <td>NaN</td>\n",
       "      <td>S</td>\n",
       "    </tr>\n",
       "    <tr>\n",
       "      <th>2</th>\n",
       "      <td>894</td>\n",
       "      <td>2</td>\n",
       "      <td>Myles, Mr. Thomas Francis</td>\n",
       "      <td>male</td>\n",
       "      <td>62.0</td>\n",
       "      <td>0</td>\n",
       "      <td>0</td>\n",
       "      <td>240276</td>\n",
       "      <td>9.6875</td>\n",
       "      <td>NaN</td>\n",
       "      <td>Q</td>\n",
       "    </tr>\n",
       "    <tr>\n",
       "      <th>3</th>\n",
       "      <td>895</td>\n",
       "      <td>3</td>\n",
       "      <td>Wirz, Mr. Albert</td>\n",
       "      <td>male</td>\n",
       "      <td>27.0</td>\n",
       "      <td>0</td>\n",
       "      <td>0</td>\n",
       "      <td>315154</td>\n",
       "      <td>8.6625</td>\n",
       "      <td>NaN</td>\n",
       "      <td>S</td>\n",
       "    </tr>\n",
       "    <tr>\n",
       "      <th>4</th>\n",
       "      <td>896</td>\n",
       "      <td>3</td>\n",
       "      <td>Hirvonen, Mrs. Alexander (Helga E Lindqvist)</td>\n",
       "      <td>female</td>\n",
       "      <td>22.0</td>\n",
       "      <td>1</td>\n",
       "      <td>1</td>\n",
       "      <td>3101298</td>\n",
       "      <td>12.2875</td>\n",
       "      <td>NaN</td>\n",
       "      <td>S</td>\n",
       "    </tr>\n",
       "    <tr>\n",
       "      <th>...</th>\n",
       "      <td>...</td>\n",
       "      <td>...</td>\n",
       "      <td>...</td>\n",
       "      <td>...</td>\n",
       "      <td>...</td>\n",
       "      <td>...</td>\n",
       "      <td>...</td>\n",
       "      <td>...</td>\n",
       "      <td>...</td>\n",
       "      <td>...</td>\n",
       "      <td>...</td>\n",
       "    </tr>\n",
       "    <tr>\n",
       "      <th>413</th>\n",
       "      <td>1305</td>\n",
       "      <td>3</td>\n",
       "      <td>Spector, Mr. Woolf</td>\n",
       "      <td>male</td>\n",
       "      <td>NaN</td>\n",
       "      <td>0</td>\n",
       "      <td>0</td>\n",
       "      <td>A.5. 3236</td>\n",
       "      <td>8.0500</td>\n",
       "      <td>NaN</td>\n",
       "      <td>S</td>\n",
       "    </tr>\n",
       "    <tr>\n",
       "      <th>414</th>\n",
       "      <td>1306</td>\n",
       "      <td>1</td>\n",
       "      <td>Oliva y Ocana, Dona. Fermina</td>\n",
       "      <td>female</td>\n",
       "      <td>39.0</td>\n",
       "      <td>0</td>\n",
       "      <td>0</td>\n",
       "      <td>PC 17758</td>\n",
       "      <td>108.9000</td>\n",
       "      <td>C105</td>\n",
       "      <td>C</td>\n",
       "    </tr>\n",
       "    <tr>\n",
       "      <th>415</th>\n",
       "      <td>1307</td>\n",
       "      <td>3</td>\n",
       "      <td>Saether, Mr. Simon Sivertsen</td>\n",
       "      <td>male</td>\n",
       "      <td>38.5</td>\n",
       "      <td>0</td>\n",
       "      <td>0</td>\n",
       "      <td>SOTON/O.Q. 3101262</td>\n",
       "      <td>7.2500</td>\n",
       "      <td>NaN</td>\n",
       "      <td>S</td>\n",
       "    </tr>\n",
       "    <tr>\n",
       "      <th>416</th>\n",
       "      <td>1308</td>\n",
       "      <td>3</td>\n",
       "      <td>Ware, Mr. Frederick</td>\n",
       "      <td>male</td>\n",
       "      <td>NaN</td>\n",
       "      <td>0</td>\n",
       "      <td>0</td>\n",
       "      <td>359309</td>\n",
       "      <td>8.0500</td>\n",
       "      <td>NaN</td>\n",
       "      <td>S</td>\n",
       "    </tr>\n",
       "    <tr>\n",
       "      <th>417</th>\n",
       "      <td>1309</td>\n",
       "      <td>3</td>\n",
       "      <td>Peter, Master. Michael J</td>\n",
       "      <td>male</td>\n",
       "      <td>NaN</td>\n",
       "      <td>1</td>\n",
       "      <td>1</td>\n",
       "      <td>2668</td>\n",
       "      <td>22.3583</td>\n",
       "      <td>NaN</td>\n",
       "      <td>C</td>\n",
       "    </tr>\n",
       "  </tbody>\n",
       "</table>\n",
       "<p>418 rows × 11 columns</p>\n",
       "</div>"
      ],
      "text/plain": [
       "     PassengerId  Pclass                                          Name  \\\n",
       "0            892       3                              Kelly, Mr. James   \n",
       "1            893       3              Wilkes, Mrs. James (Ellen Needs)   \n",
       "2            894       2                     Myles, Mr. Thomas Francis   \n",
       "3            895       3                              Wirz, Mr. Albert   \n",
       "4            896       3  Hirvonen, Mrs. Alexander (Helga E Lindqvist)   \n",
       "..           ...     ...                                           ...   \n",
       "413         1305       3                            Spector, Mr. Woolf   \n",
       "414         1306       1                  Oliva y Ocana, Dona. Fermina   \n",
       "415         1307       3                  Saether, Mr. Simon Sivertsen   \n",
       "416         1308       3                           Ware, Mr. Frederick   \n",
       "417         1309       3                      Peter, Master. Michael J   \n",
       "\n",
       "        Sex   Age  SibSp  Parch              Ticket      Fare Cabin Embarked  \n",
       "0      male  34.5      0      0              330911    7.8292   NaN        Q  \n",
       "1    female  47.0      1      0              363272    7.0000   NaN        S  \n",
       "2      male  62.0      0      0              240276    9.6875   NaN        Q  \n",
       "3      male  27.0      0      0              315154    8.6625   NaN        S  \n",
       "4    female  22.0      1      1             3101298   12.2875   NaN        S  \n",
       "..      ...   ...    ...    ...                 ...       ...   ...      ...  \n",
       "413    male   NaN      0      0           A.5. 3236    8.0500   NaN        S  \n",
       "414  female  39.0      0      0            PC 17758  108.9000  C105        C  \n",
       "415    male  38.5      0      0  SOTON/O.Q. 3101262    7.2500   NaN        S  \n",
       "416    male   NaN      0      0              359309    8.0500   NaN        S  \n",
       "417    male   NaN      1      1                2668   22.3583   NaN        C  \n",
       "\n",
       "[418 rows x 11 columns]"
      ]
     },
     "execution_count": 6,
     "metadata": {},
     "output_type": "execute_result"
    }
   ],
   "source": [
    "test_data"
   ]
  },
  {
   "cell_type": "code",
   "execution_count": 7,
   "id": "68033e61",
   "metadata": {
    "execution": {
     "iopub.execute_input": "2022-02-05T03:08:23.886699Z",
     "iopub.status.busy": "2022-02-05T03:08:23.885662Z",
     "iopub.status.idle": "2022-02-05T03:08:23.891265Z",
     "shell.execute_reply": "2022-02-05T03:08:23.891817Z",
     "shell.execute_reply.started": "2022-02-05T02:56:07.262054Z"
    },
    "papermill": {
     "duration": 0.030025,
     "end_time": "2022-02-05T03:08:23.891995",
     "exception": false,
     "start_time": "2022-02-05T03:08:23.861970",
     "status": "completed"
    },
    "tags": []
   },
   "outputs": [
    {
     "name": "stdout",
     "output_type": "stream",
     "text": [
      "The shape of train_data =  (891, 12)\n",
      "The shape of test_data =  (418, 11)\n"
     ]
    }
   ],
   "source": [
    "print(\"The shape of train_data = \",train_data.shape)\n",
    "print(\"The shape of test_data = \",test_data.shape)"
   ]
  },
  {
   "cell_type": "code",
   "execution_count": 8,
   "id": "e0a04849",
   "metadata": {
    "execution": {
     "iopub.execute_input": "2022-02-05T03:08:23.944033Z",
     "iopub.status.busy": "2022-02-05T03:08:23.943337Z",
     "iopub.status.idle": "2022-02-05T03:08:23.949439Z",
     "shell.execute_reply": "2022-02-05T03:08:23.949929Z",
     "shell.execute_reply.started": "2022-02-05T02:56:08.173563Z"
    },
    "papermill": {
     "duration": 0.036186,
     "end_time": "2022-02-05T03:08:23.950121",
     "exception": false,
     "start_time": "2022-02-05T03:08:23.913935",
     "status": "completed"
    },
    "tags": []
   },
   "outputs": [],
   "source": [
    "X_train=train_data.drop(['PassengerId','Name','Ticket','Survived','Fare'],axis=1)\n",
    "y_train=train_data['Survived']\n",
    "\n",
    "X_test=test_data.drop(['PassengerId','Name','Ticket','Fare'],axis=1)\n",
    "y_test=gender_submission['Survived']"
   ]
  },
  {
   "cell_type": "code",
   "execution_count": 9,
   "id": "927c079d",
   "metadata": {
    "execution": {
     "iopub.execute_input": "2022-02-05T03:08:23.997503Z",
     "iopub.status.busy": "2022-02-05T03:08:23.996383Z",
     "iopub.status.idle": "2022-02-05T03:08:24.007885Z",
     "shell.execute_reply": "2022-02-05T03:08:24.008407Z",
     "shell.execute_reply.started": "2022-02-05T02:56:10.062355Z"
    },
    "papermill": {
     "duration": 0.036655,
     "end_time": "2022-02-05T03:08:24.008646",
     "exception": false,
     "start_time": "2022-02-05T03:08:23.971991",
     "status": "completed"
    },
    "tags": []
   },
   "outputs": [
    {
     "name": "stdout",
     "output_type": "stream",
     "text": [
      "Train_data:\n",
      "Pclass      False\n",
      "Sex         False\n",
      "Age          True\n",
      "SibSp       False\n",
      "Parch       False\n",
      "Cabin        True\n",
      "Embarked     True\n",
      "dtype: bool\n",
      "--------------------\n",
      "Test_data:\n",
      "Pclass      False\n",
      "Sex         False\n",
      "Age          True\n",
      "SibSp       False\n",
      "Parch       False\n",
      "Cabin        True\n",
      "Embarked    False\n",
      "dtype: bool\n"
     ]
    }
   ],
   "source": [
    "print(\"Train_data:\")\n",
    "print(X_train.isnull().any())\n",
    "print(\"--------------------\")\n",
    "print(\"Test_data:\")\n",
    "print(X_test.isnull().any())"
   ]
  },
  {
   "cell_type": "code",
   "execution_count": 10,
   "id": "dd204451",
   "metadata": {
    "execution": {
     "iopub.execute_input": "2022-02-05T03:08:24.056027Z",
     "iopub.status.busy": "2022-02-05T03:08:24.054975Z",
     "iopub.status.idle": "2022-02-05T03:08:24.061703Z",
     "shell.execute_reply": "2022-02-05T03:08:24.062315Z",
     "shell.execute_reply.started": "2022-02-05T02:56:11.398069Z"
    },
    "papermill": {
     "duration": 0.03224,
     "end_time": "2022-02-05T03:08:24.062502",
     "exception": false,
     "start_time": "2022-02-05T03:08:24.030262",
     "status": "completed"
    },
    "tags": []
   },
   "outputs": [
    {
     "name": "stdout",
     "output_type": "stream",
     "text": [
      "204\n",
      "91\n"
     ]
    }
   ],
   "source": [
    "print(X_train['Cabin'].count(None))\n",
    "print(X_test['Cabin'].count(None))"
   ]
  },
  {
   "cell_type": "code",
   "execution_count": 11,
   "id": "8111c0fa",
   "metadata": {
    "execution": {
     "iopub.execute_input": "2022-02-05T03:08:24.113147Z",
     "iopub.status.busy": "2022-02-05T03:08:24.112390Z",
     "iopub.status.idle": "2022-02-05T03:08:24.118458Z",
     "shell.execute_reply": "2022-02-05T03:08:24.117866Z",
     "shell.execute_reply.started": "2022-02-05T02:56:12.581832Z"
    },
    "papermill": {
     "duration": 0.033256,
     "end_time": "2022-02-05T03:08:24.118626",
     "exception": false,
     "start_time": "2022-02-05T03:08:24.085370",
     "status": "completed"
    },
    "tags": []
   },
   "outputs": [],
   "source": [
    "X_train['Age']=X_train['Age'].fillna(X_train['Age'].dropna().median())\n",
    "X_test['Age']=X_test['Age'].fillna(X_test['Age'].dropna().median())"
   ]
  },
  {
   "cell_type": "code",
   "execution_count": 12,
   "id": "d33a9571",
   "metadata": {
    "execution": {
     "iopub.execute_input": "2022-02-05T03:08:24.167613Z",
     "iopub.status.busy": "2022-02-05T03:08:24.166923Z",
     "iopub.status.idle": "2022-02-05T03:08:24.176953Z",
     "shell.execute_reply": "2022-02-05T03:08:24.176345Z",
     "shell.execute_reply.started": "2022-02-05T02:56:13.782193Z"
    },
    "papermill": {
     "duration": 0.035157,
     "end_time": "2022-02-05T03:08:24.177106",
     "exception": false,
     "start_time": "2022-02-05T03:08:24.141949",
     "status": "completed"
    },
    "tags": []
   },
   "outputs": [],
   "source": [
    "def Sex_transform(df):\n",
    "    df['Sex']=pd.Categorical(df['Sex'])\n",
    "    df['Sex']=df['Sex'].cat.codes\n",
    "    return df\n",
    "def Embark_transform(df):\n",
    "    df['Embarked']=pd.Categorical(df['Embarked'])\n",
    "    df['Embarked']=df['Embarked'].cat.codes\n",
    "    return df\n",
    "def Cabins_transform(df):\n",
    "    df['Cabin'] = df['Cabin'].fillna('S')\n",
    "    df['Cabin'] = df['Cabin'].apply(lambda x: x[0])\n",
    "    df['Cabin'] =  pd.Categorical(df['Cabin'])\n",
    "    df['Cabin'] = df['Cabin'].cat.codes \n",
    "    return df\n",
    "def Fare_standard(df):\n",
    "    df['Fare']=(df['Fare']-df['Fare'].mean())/df['Fare'].std()\n",
    "    return df\n",
    "def Age_standard(df):\n",
    "    df['Age']=(df['Age']-df['Age'].mean())/df['Age'].std()"
   ]
  },
  {
   "cell_type": "code",
   "execution_count": 13,
   "id": "40ef2f57",
   "metadata": {
    "execution": {
     "iopub.execute_input": "2022-02-05T03:08:24.224448Z",
     "iopub.status.busy": "2022-02-05T03:08:24.223795Z",
     "iopub.status.idle": "2022-02-05T03:08:24.244103Z",
     "shell.execute_reply": "2022-02-05T03:08:24.243497Z",
     "shell.execute_reply.started": "2022-02-05T02:56:15.245348Z"
    },
    "papermill": {
     "duration": 0.04457,
     "end_time": "2022-02-05T03:08:24.244249",
     "exception": false,
     "start_time": "2022-02-05T03:08:24.199679",
     "status": "completed"
    },
    "tags": []
   },
   "outputs": [],
   "source": [
    "def transform(df):\n",
    "    Sex_transform(df)\n",
    "    Embark_transform(df)\n",
    "    Cabins_transform(df)\n",
    "    #Fare_standard(df)\n",
    "    Age_standard(df)\n",
    "\n",
    "transform(X_train)\n",
    "transform(X_test)"
   ]
  },
  {
   "cell_type": "code",
   "execution_count": 14,
   "id": "40b04b80",
   "metadata": {
    "execution": {
     "iopub.execute_input": "2022-02-05T03:08:24.292497Z",
     "iopub.status.busy": "2022-02-05T03:08:24.291761Z",
     "iopub.status.idle": "2022-02-05T03:08:24.297858Z",
     "shell.execute_reply": "2022-02-05T03:08:24.298397Z",
     "shell.execute_reply.started": "2022-02-05T02:56:16.534207Z"
    },
    "papermill": {
     "duration": 0.031694,
     "end_time": "2022-02-05T03:08:24.298612",
     "exception": false,
     "start_time": "2022-02-05T03:08:24.266918",
     "status": "completed"
    },
    "tags": []
   },
   "outputs": [
    {
     "data": {
      "text/plain": [
       "(891, 7)"
      ]
     },
     "execution_count": 14,
     "metadata": {},
     "output_type": "execute_result"
    }
   ],
   "source": [
    "X_train=np.array(X_train)\n",
    "X_test=np.array(X_test)\n",
    "X_train.shape"
   ]
  },
  {
   "cell_type": "code",
   "execution_count": 15,
   "id": "f8c0f385",
   "metadata": {
    "execution": {
     "iopub.execute_input": "2022-02-05T03:08:24.346340Z",
     "iopub.status.busy": "2022-02-05T03:08:24.345700Z",
     "iopub.status.idle": "2022-02-05T03:08:24.463996Z",
     "shell.execute_reply": "2022-02-05T03:08:24.464645Z",
     "shell.execute_reply.started": "2022-02-05T02:56:19.541844Z"
    },
    "papermill": {
     "duration": 0.143921,
     "end_time": "2022-02-05T03:08:24.464820",
     "exception": false,
     "start_time": "2022-02-05T03:08:24.320899",
     "status": "completed"
    },
    "tags": []
   },
   "outputs": [
    {
     "name": "stderr",
     "output_type": "stream",
     "text": [
      "2022-02-05 03:08:24.362166: I tensorflow/compiler/jit/xla_cpu_device.cc:41] Not creating XLA devices, tf_xla_enable_xla_devices not set\n",
      "2022-02-05 03:08:24.365515: W tensorflow/stream_executor/platform/default/dso_loader.cc:60] Could not load dynamic library 'libcuda.so.1'; dlerror: libcuda.so.1: cannot open shared object file: No such file or directory; LD_LIBRARY_PATH: /opt/conda/lib\n",
      "2022-02-05 03:08:24.365561: W tensorflow/stream_executor/cuda/cuda_driver.cc:326] failed call to cuInit: UNKNOWN ERROR (303)\n",
      "2022-02-05 03:08:24.365591: I tensorflow/stream_executor/cuda/cuda_diagnostics.cc:156] kernel driver does not appear to be running on this host (53e8ae997c77): /proc/driver/nvidia/version does not exist\n",
      "2022-02-05 03:08:24.366952: I tensorflow/core/platform/cpu_feature_guard.cc:142] This TensorFlow binary is optimized with oneAPI Deep Neural Network Library (oneDNN) to use the following CPU instructions in performance-critical operations:  AVX2 FMA\n",
      "To enable them in other operations, rebuild TensorFlow with the appropriate compiler flags.\n",
      "2022-02-05 03:08:24.367393: I tensorflow/compiler/jit/xla_gpu_device.cc:99] Not creating XLA devices, tf_xla_enable_xla_devices not set\n"
     ]
    }
   ],
   "source": [
    "model=Sequential()\n",
    "\n",
    "model.add(Dense(units=64,activation='relu',input_shape=(7,)))\n",
    "model.add(Dropout(0.25))\n",
    "\n",
    "model.add(Dense(units=32,activation='relu'))\n",
    "model.add(Dropout(0.25))\n",
    "model.add(Dense(units=16,activation='relu'))\n",
    "\n",
    "\n",
    "model.add(Dense(units=1,activation='sigmoid'))"
   ]
  },
  {
   "cell_type": "code",
   "execution_count": 16,
   "id": "bbfdc3a6",
   "metadata": {
    "execution": {
     "iopub.execute_input": "2022-02-05T03:08:24.513664Z",
     "iopub.status.busy": "2022-02-05T03:08:24.512651Z",
     "iopub.status.idle": "2022-02-05T03:08:24.528859Z",
     "shell.execute_reply": "2022-02-05T03:08:24.529389Z",
     "shell.execute_reply.started": "2022-02-05T02:56:28.851727Z"
    },
    "papermill": {
     "duration": 0.042414,
     "end_time": "2022-02-05T03:08:24.529576",
     "exception": false,
     "start_time": "2022-02-05T03:08:24.487162",
     "status": "completed"
    },
    "tags": []
   },
   "outputs": [],
   "source": [
    "model.compile(loss='binary_crossentropy',optimizer=Adam(learning_rate=0.001),metrics=['binary_accuracy'])\n",
    "early_stop=EarlyStopping(monitor='val_loss',patience=20)"
   ]
  },
  {
   "cell_type": "code",
   "execution_count": 17,
   "id": "f6ef8b41",
   "metadata": {
    "execution": {
     "iopub.execute_input": "2022-02-05T03:08:24.577865Z",
     "iopub.status.busy": "2022-02-05T03:08:24.576903Z",
     "iopub.status.idle": "2022-02-05T03:08:33.937854Z",
     "shell.execute_reply": "2022-02-05T03:08:33.937106Z",
     "shell.execute_reply.started": "2022-02-05T02:56:38.901110Z"
    },
    "papermill": {
     "duration": 9.386218,
     "end_time": "2022-02-05T03:08:33.938049",
     "exception": false,
     "start_time": "2022-02-05T03:08:24.551831",
     "status": "completed"
    },
    "tags": []
   },
   "outputs": [
    {
     "name": "stderr",
     "output_type": "stream",
     "text": [
      "2022-02-05 03:08:24.655005: I tensorflow/compiler/mlir/mlir_graph_optimization_pass.cc:116] None of the MLIR optimization passes are enabled (registered 2)\n",
      "2022-02-05 03:08:24.668923: I tensorflow/core/platform/profile_utils/cpu_utils.cc:112] CPU Frequency: 2199995000 Hz\n"
     ]
    },
    {
     "name": "stdout",
     "output_type": "stream",
     "text": [
      "Epoch 1/100\n",
      "14/14 [==============================] - 1s 47ms/step - loss: 0.6672 - binary_accuracy: 0.5807 - val_loss: 0.6306 - val_binary_accuracy: 0.6480\n",
      "Epoch 2/100\n",
      "14/14 [==============================] - 0s 7ms/step - loss: 0.6509 - binary_accuracy: 0.5916 - val_loss: 0.6231 - val_binary_accuracy: 0.6771\n",
      "Epoch 3/100\n",
      "14/14 [==============================] - 0s 7ms/step - loss: 0.6328 - binary_accuracy: 0.6068 - val_loss: 0.6026 - val_binary_accuracy: 0.6816\n",
      "Epoch 4/100\n",
      "14/14 [==============================] - 0s 7ms/step - loss: 0.6524 - binary_accuracy: 0.6089 - val_loss: 0.6013 - val_binary_accuracy: 0.7085\n",
      "Epoch 5/100\n",
      "14/14 [==============================] - 0s 7ms/step - loss: 0.6469 - binary_accuracy: 0.6302 - val_loss: 0.5914 - val_binary_accuracy: 0.6682\n",
      "Epoch 6/100\n",
      "14/14 [==============================] - 0s 7ms/step - loss: 0.6276 - binary_accuracy: 0.6593 - val_loss: 0.5875 - val_binary_accuracy: 0.6816\n",
      "Epoch 7/100\n",
      "14/14 [==============================] - 0s 7ms/step - loss: 0.6109 - binary_accuracy: 0.6564 - val_loss: 0.5829 - val_binary_accuracy: 0.7220\n",
      "Epoch 8/100\n",
      "14/14 [==============================] - 0s 7ms/step - loss: 0.5836 - binary_accuracy: 0.7000 - val_loss: 0.5677 - val_binary_accuracy: 0.7354\n",
      "Epoch 9/100\n",
      "14/14 [==============================] - 0s 7ms/step - loss: 0.6098 - binary_accuracy: 0.6520 - val_loss: 0.5563 - val_binary_accuracy: 0.7377\n",
      "Epoch 10/100\n",
      "14/14 [==============================] - 0s 6ms/step - loss: 0.5654 - binary_accuracy: 0.7056 - val_loss: 0.5439 - val_binary_accuracy: 0.7646\n",
      "Epoch 11/100\n",
      "14/14 [==============================] - 0s 7ms/step - loss: 0.5903 - binary_accuracy: 0.6753 - val_loss: 0.5325 - val_binary_accuracy: 0.7556\n",
      "Epoch 12/100\n",
      "14/14 [==============================] - 0s 7ms/step - loss: 0.5779 - binary_accuracy: 0.6902 - val_loss: 0.5333 - val_binary_accuracy: 0.7713\n",
      "Epoch 13/100\n",
      "14/14 [==============================] - 0s 7ms/step - loss: 0.5595 - binary_accuracy: 0.7036 - val_loss: 0.5295 - val_binary_accuracy: 0.7735\n",
      "Epoch 14/100\n",
      "14/14 [==============================] - 0s 6ms/step - loss: 0.5898 - binary_accuracy: 0.7188 - val_loss: 0.5191 - val_binary_accuracy: 0.7892\n",
      "Epoch 15/100\n",
      "14/14 [==============================] - 0s 7ms/step - loss: 0.5476 - binary_accuracy: 0.7513 - val_loss: 0.5061 - val_binary_accuracy: 0.7982\n",
      "Epoch 16/100\n",
      "14/14 [==============================] - 0s 7ms/step - loss: 0.5518 - binary_accuracy: 0.7119 - val_loss: 0.5045 - val_binary_accuracy: 0.7937\n",
      "Epoch 17/100\n",
      "14/14 [==============================] - 0s 7ms/step - loss: 0.5194 - binary_accuracy: 0.7578 - val_loss: 0.5011 - val_binary_accuracy: 0.7892\n",
      "Epoch 18/100\n",
      "14/14 [==============================] - 0s 7ms/step - loss: 0.5328 - binary_accuracy: 0.7806 - val_loss: 0.4980 - val_binary_accuracy: 0.7892\n",
      "Epoch 19/100\n",
      "14/14 [==============================] - 0s 7ms/step - loss: 0.5055 - binary_accuracy: 0.8056 - val_loss: 0.4998 - val_binary_accuracy: 0.7915\n",
      "Epoch 20/100\n",
      "14/14 [==============================] - 0s 6ms/step - loss: 0.5284 - binary_accuracy: 0.7961 - val_loss: 0.4991 - val_binary_accuracy: 0.7937\n",
      "Epoch 21/100\n",
      "14/14 [==============================] - 0s 7ms/step - loss: 0.5158 - binary_accuracy: 0.7741 - val_loss: 0.4915 - val_binary_accuracy: 0.7915\n",
      "Epoch 22/100\n",
      "14/14 [==============================] - 0s 7ms/step - loss: 0.5007 - binary_accuracy: 0.7579 - val_loss: 0.4905 - val_binary_accuracy: 0.7915\n",
      "Epoch 23/100\n",
      "14/14 [==============================] - 0s 6ms/step - loss: 0.5308 - binary_accuracy: 0.7594 - val_loss: 0.4934 - val_binary_accuracy: 0.7892\n",
      "Epoch 24/100\n",
      "14/14 [==============================] - 0s 7ms/step - loss: 0.4736 - binary_accuracy: 0.8108 - val_loss: 0.4909 - val_binary_accuracy: 0.7892\n",
      "Epoch 25/100\n",
      "14/14 [==============================] - 0s 7ms/step - loss: 0.5438 - binary_accuracy: 0.7526 - val_loss: 0.4891 - val_binary_accuracy: 0.7870\n",
      "Epoch 26/100\n",
      "14/14 [==============================] - 0s 6ms/step - loss: 0.4854 - binary_accuracy: 0.7638 - val_loss: 0.4872 - val_binary_accuracy: 0.7892\n",
      "Epoch 27/100\n",
      "14/14 [==============================] - 0s 6ms/step - loss: 0.5044 - binary_accuracy: 0.7910 - val_loss: 0.4817 - val_binary_accuracy: 0.7892\n",
      "Epoch 28/100\n",
      "14/14 [==============================] - 0s 6ms/step - loss: 0.4888 - binary_accuracy: 0.7953 - val_loss: 0.4849 - val_binary_accuracy: 0.7892\n",
      "Epoch 29/100\n",
      "14/14 [==============================] - 0s 6ms/step - loss: 0.4624 - binary_accuracy: 0.8142 - val_loss: 0.4858 - val_binary_accuracy: 0.7892\n",
      "Epoch 30/100\n",
      "14/14 [==============================] - 0s 6ms/step - loss: 0.4710 - binary_accuracy: 0.7819 - val_loss: 0.4834 - val_binary_accuracy: 0.7937\n",
      "Epoch 31/100\n",
      "14/14 [==============================] - 0s 6ms/step - loss: 0.4886 - binary_accuracy: 0.8039 - val_loss: 0.4801 - val_binary_accuracy: 0.7892\n",
      "Epoch 32/100\n",
      "14/14 [==============================] - 0s 6ms/step - loss: 0.4280 - binary_accuracy: 0.8324 - val_loss: 0.4760 - val_binary_accuracy: 0.7870\n",
      "Epoch 33/100\n",
      "14/14 [==============================] - 0s 6ms/step - loss: 0.4898 - binary_accuracy: 0.7786 - val_loss: 0.4770 - val_binary_accuracy: 0.7915\n",
      "Epoch 34/100\n",
      "14/14 [==============================] - 0s 6ms/step - loss: 0.4688 - binary_accuracy: 0.7942 - val_loss: 0.4757 - val_binary_accuracy: 0.7937\n",
      "Epoch 35/100\n",
      "14/14 [==============================] - 0s 7ms/step - loss: 0.4494 - binary_accuracy: 0.8178 - val_loss: 0.4713 - val_binary_accuracy: 0.8027\n",
      "Epoch 36/100\n",
      "14/14 [==============================] - 0s 6ms/step - loss: 0.5212 - binary_accuracy: 0.7575 - val_loss: 0.4734 - val_binary_accuracy: 0.8004\n",
      "Epoch 37/100\n",
      "14/14 [==============================] - 0s 8ms/step - loss: 0.4177 - binary_accuracy: 0.8324 - val_loss: 0.4729 - val_binary_accuracy: 0.8004\n",
      "Epoch 38/100\n",
      "14/14 [==============================] - 0s 7ms/step - loss: 0.4185 - binary_accuracy: 0.8287 - val_loss: 0.4718 - val_binary_accuracy: 0.8004\n",
      "Epoch 39/100\n",
      "14/14 [==============================] - 0s 6ms/step - loss: 0.4721 - binary_accuracy: 0.8013 - val_loss: 0.4694 - val_binary_accuracy: 0.8027\n",
      "Epoch 40/100\n",
      "14/14 [==============================] - 0s 7ms/step - loss: 0.4375 - binary_accuracy: 0.8357 - val_loss: 0.4666 - val_binary_accuracy: 0.8049\n",
      "Epoch 41/100\n",
      "14/14 [==============================] - 0s 7ms/step - loss: 0.4484 - binary_accuracy: 0.8252 - val_loss: 0.4662 - val_binary_accuracy: 0.8049\n",
      "Epoch 42/100\n",
      "14/14 [==============================] - 0s 7ms/step - loss: 0.4456 - binary_accuracy: 0.8256 - val_loss: 0.4623 - val_binary_accuracy: 0.8004\n",
      "Epoch 43/100\n",
      "14/14 [==============================] - 0s 7ms/step - loss: 0.4781 - binary_accuracy: 0.8068 - val_loss: 0.4582 - val_binary_accuracy: 0.8027\n",
      "Epoch 44/100\n",
      "14/14 [==============================] - 0s 7ms/step - loss: 0.4802 - binary_accuracy: 0.7966 - val_loss: 0.4598 - val_binary_accuracy: 0.8027\n",
      "Epoch 45/100\n",
      "14/14 [==============================] - 0s 6ms/step - loss: 0.4591 - binary_accuracy: 0.7942 - val_loss: 0.4600 - val_binary_accuracy: 0.8049\n",
      "Epoch 46/100\n",
      "14/14 [==============================] - 0s 7ms/step - loss: 0.4208 - binary_accuracy: 0.8381 - val_loss: 0.4605 - val_binary_accuracy: 0.8072\n",
      "Epoch 47/100\n",
      "14/14 [==============================] - 0s 7ms/step - loss: 0.4535 - binary_accuracy: 0.8016 - val_loss: 0.4634 - val_binary_accuracy: 0.8027\n",
      "Epoch 48/100\n",
      "14/14 [==============================] - 0s 7ms/step - loss: 0.4689 - binary_accuracy: 0.7958 - val_loss: 0.4633 - val_binary_accuracy: 0.8004\n",
      "Epoch 49/100\n",
      "14/14 [==============================] - 0s 6ms/step - loss: 0.4556 - binary_accuracy: 0.7771 - val_loss: 0.4628 - val_binary_accuracy: 0.8004\n",
      "Epoch 50/100\n",
      "14/14 [==============================] - 0s 6ms/step - loss: 0.4251 - binary_accuracy: 0.8193 - val_loss: 0.4605 - val_binary_accuracy: 0.8049\n",
      "Epoch 51/100\n",
      "14/14 [==============================] - 0s 6ms/step - loss: 0.4164 - binary_accuracy: 0.8227 - val_loss: 0.4633 - val_binary_accuracy: 0.7982\n",
      "Epoch 52/100\n",
      "14/14 [==============================] - 0s 7ms/step - loss: 0.4461 - binary_accuracy: 0.8121 - val_loss: 0.4630 - val_binary_accuracy: 0.8004\n",
      "Epoch 53/100\n",
      "14/14 [==============================] - 0s 7ms/step - loss: 0.4504 - binary_accuracy: 0.8153 - val_loss: 0.4630 - val_binary_accuracy: 0.8027\n",
      "Epoch 54/100\n",
      "14/14 [==============================] - 0s 6ms/step - loss: 0.4409 - binary_accuracy: 0.8080 - val_loss: 0.4648 - val_binary_accuracy: 0.8049\n",
      "Epoch 55/100\n",
      "14/14 [==============================] - 0s 7ms/step - loss: 0.3948 - binary_accuracy: 0.8471 - val_loss: 0.4636 - val_binary_accuracy: 0.8072\n",
      "Epoch 56/100\n",
      "14/14 [==============================] - 0s 6ms/step - loss: 0.4273 - binary_accuracy: 0.8369 - val_loss: 0.4614 - val_binary_accuracy: 0.8094\n",
      "Epoch 57/100\n",
      "14/14 [==============================] - 0s 7ms/step - loss: 0.4355 - binary_accuracy: 0.8246 - val_loss: 0.4632 - val_binary_accuracy: 0.8049\n",
      "Epoch 58/100\n",
      "14/14 [==============================] - 0s 6ms/step - loss: 0.4160 - binary_accuracy: 0.8321 - val_loss: 0.4615 - val_binary_accuracy: 0.8049\n",
      "Epoch 59/100\n",
      "14/14 [==============================] - 0s 7ms/step - loss: 0.4162 - binary_accuracy: 0.8255 - val_loss: 0.4625 - val_binary_accuracy: 0.8049\n",
      "Epoch 60/100\n",
      "14/14 [==============================] - 0s 7ms/step - loss: 0.4352 - binary_accuracy: 0.8242 - val_loss: 0.4615 - val_binary_accuracy: 0.8049\n",
      "Epoch 61/100\n",
      "14/14 [==============================] - 0s 7ms/step - loss: 0.4379 - binary_accuracy: 0.8040 - val_loss: 0.4623 - val_binary_accuracy: 0.8027\n",
      "Epoch 62/100\n",
      "14/14 [==============================] - 0s 7ms/step - loss: 0.4071 - binary_accuracy: 0.8201 - val_loss: 0.4569 - val_binary_accuracy: 0.8094\n",
      "Epoch 63/100\n",
      "14/14 [==============================] - 0s 6ms/step - loss: 0.3918 - binary_accuracy: 0.8160 - val_loss: 0.4601 - val_binary_accuracy: 0.8049\n",
      "Epoch 64/100\n",
      "14/14 [==============================] - 0s 6ms/step - loss: 0.4210 - binary_accuracy: 0.8215 - val_loss: 0.4575 - val_binary_accuracy: 0.8184\n",
      "Epoch 65/100\n",
      "14/14 [==============================] - 0s 7ms/step - loss: 0.3941 - binary_accuracy: 0.8522 - val_loss: 0.4593 - val_binary_accuracy: 0.8117\n",
      "Epoch 66/100\n",
      "14/14 [==============================] - 0s 7ms/step - loss: 0.4633 - binary_accuracy: 0.8076 - val_loss: 0.4570 - val_binary_accuracy: 0.8184\n",
      "Epoch 67/100\n",
      "14/14 [==============================] - 0s 7ms/step - loss: 0.4396 - binary_accuracy: 0.8112 - val_loss: 0.4597 - val_binary_accuracy: 0.8206\n",
      "Epoch 68/100\n",
      "14/14 [==============================] - 0s 7ms/step - loss: 0.4235 - binary_accuracy: 0.8346 - val_loss: 0.4573 - val_binary_accuracy: 0.8117\n",
      "Epoch 69/100\n",
      "14/14 [==============================] - 0s 7ms/step - loss: 0.4784 - binary_accuracy: 0.7982 - val_loss: 0.4554 - val_binary_accuracy: 0.8139\n",
      "Epoch 70/100\n",
      "14/14 [==============================] - 0s 6ms/step - loss: 0.4856 - binary_accuracy: 0.7821 - val_loss: 0.4600 - val_binary_accuracy: 0.8049\n",
      "Epoch 71/100\n",
      "14/14 [==============================] - 0s 7ms/step - loss: 0.3931 - binary_accuracy: 0.8578 - val_loss: 0.4581 - val_binary_accuracy: 0.8161\n",
      "Epoch 72/100\n",
      "14/14 [==============================] - 0s 6ms/step - loss: 0.3922 - binary_accuracy: 0.8642 - val_loss: 0.4604 - val_binary_accuracy: 0.8004\n",
      "Epoch 73/100\n",
      "14/14 [==============================] - 0s 6ms/step - loss: 0.4062 - binary_accuracy: 0.8241 - val_loss: 0.4580 - val_binary_accuracy: 0.8004\n",
      "Epoch 74/100\n",
      "14/14 [==============================] - 0s 6ms/step - loss: 0.4087 - binary_accuracy: 0.8383 - val_loss: 0.4602 - val_binary_accuracy: 0.8049\n",
      "Epoch 75/100\n",
      "14/14 [==============================] - 0s 6ms/step - loss: 0.4812 - binary_accuracy: 0.7911 - val_loss: 0.4621 - val_binary_accuracy: 0.8094\n",
      "Epoch 76/100\n",
      "14/14 [==============================] - 0s 6ms/step - loss: 0.4189 - binary_accuracy: 0.8224 - val_loss: 0.4640 - val_binary_accuracy: 0.8027\n",
      "Epoch 77/100\n",
      "14/14 [==============================] - 0s 7ms/step - loss: 0.3650 - binary_accuracy: 0.8596 - val_loss: 0.4623 - val_binary_accuracy: 0.8049\n",
      "Epoch 78/100\n",
      "14/14 [==============================] - 0s 7ms/step - loss: 0.3971 - binary_accuracy: 0.8510 - val_loss: 0.4646 - val_binary_accuracy: 0.8072\n",
      "Epoch 79/100\n",
      "14/14 [==============================] - 0s 7ms/step - loss: 0.3956 - binary_accuracy: 0.8435 - val_loss: 0.4653 - val_binary_accuracy: 0.8094\n",
      "Epoch 80/100\n",
      "14/14 [==============================] - 0s 6ms/step - loss: 0.4372 - binary_accuracy: 0.8116 - val_loss: 0.4647 - val_binary_accuracy: 0.8072\n",
      "Epoch 81/100\n",
      "14/14 [==============================] - 0s 6ms/step - loss: 0.3948 - binary_accuracy: 0.8435 - val_loss: 0.4635 - val_binary_accuracy: 0.8072\n",
      "Epoch 82/100\n",
      "14/14 [==============================] - 0s 6ms/step - loss: 0.3863 - binary_accuracy: 0.8570 - val_loss: 0.4640 - val_binary_accuracy: 0.8072\n",
      "Epoch 83/100\n",
      "14/14 [==============================] - 0s 7ms/step - loss: 0.4295 - binary_accuracy: 0.8179 - val_loss: 0.4665 - val_binary_accuracy: 0.8094\n",
      "Epoch 84/100\n",
      "14/14 [==============================] - 0s 6ms/step - loss: 0.3992 - binary_accuracy: 0.8288 - val_loss: 0.4670 - val_binary_accuracy: 0.8072\n",
      "Epoch 85/100\n",
      "14/14 [==============================] - 0s 7ms/step - loss: 0.3626 - binary_accuracy: 0.8415 - val_loss: 0.4657 - val_binary_accuracy: 0.8027\n",
      "Epoch 86/100\n",
      "14/14 [==============================] - 0s 6ms/step - loss: 0.4116 - binary_accuracy: 0.8190 - val_loss: 0.4609 - val_binary_accuracy: 0.8094\n",
      "Epoch 87/100\n",
      "14/14 [==============================] - 0s 6ms/step - loss: 0.4029 - binary_accuracy: 0.8425 - val_loss: 0.4597 - val_binary_accuracy: 0.8229\n",
      "Epoch 88/100\n",
      "14/14 [==============================] - 0s 6ms/step - loss: 0.3985 - binary_accuracy: 0.8401 - val_loss: 0.4594 - val_binary_accuracy: 0.8161\n",
      "Epoch 89/100\n",
      "14/14 [==============================] - 0s 6ms/step - loss: 0.4406 - binary_accuracy: 0.8057 - val_loss: 0.4581 - val_binary_accuracy: 0.8094\n"
     ]
    }
   ],
   "source": [
    "history=model.fit(X_train,y_train,batch_size=32,epochs=100,validation_split=0.5,callbacks=[early_stop])"
   ]
  },
  {
   "cell_type": "code",
   "execution_count": 18,
   "id": "48736e73",
   "metadata": {
    "execution": {
     "iopub.execute_input": "2022-02-05T03:08:34.111509Z",
     "iopub.status.busy": "2022-02-05T03:08:34.110512Z",
     "iopub.status.idle": "2022-02-05T03:08:34.358898Z",
     "shell.execute_reply": "2022-02-05T03:08:34.359401Z",
     "shell.execute_reply.started": "2022-02-05T02:56:52.379337Z"
    },
    "papermill": {
     "duration": 0.336047,
     "end_time": "2022-02-05T03:08:34.359597",
     "exception": false,
     "start_time": "2022-02-05T03:08:34.023550",
     "status": "completed"
    },
    "tags": []
   },
   "outputs": [
    {
     "data": {
      "text/plain": [
       "(array([0.55, 0.6 , 0.65, 0.7 , 0.75, 0.8 , 0.85, 0.9 ]),\n",
       " [Text(0, 0, ''),\n",
       "  Text(0, 0, ''),\n",
       "  Text(0, 0, ''),\n",
       "  Text(0, 0, ''),\n",
       "  Text(0, 0, ''),\n",
       "  Text(0, 0, ''),\n",
       "  Text(0, 0, ''),\n",
       "  Text(0, 0, '')])"
      ]
     },
     "execution_count": 18,
     "metadata": {},
     "output_type": "execute_result"
    },
    {
     "data": {
      "image/png": "[encoded data removed]",
      "text/plain": [
       "<Figure size 720x576 with 1 Axes>"
      ]
     },
     "metadata": {
      "needs_background": "light"
     },
     "output_type": "display_data"
    }
   ],
   "source": [
    "plt.figure(figsize=(10,8))\n",
    "plt.plot(history.history['binary_accuracy'],label='train_acc')\n",
    "plt.plot(history.history['val_binary_accuracy'],label='val_acc')\n",
    "plt.legend(fontsize=18)\n",
    "plt.xlabel('Epochs',fontsize=18)\n",
    "plt.ylabel('Accuracy',fontsize=18)\n",
    "plt.xticks(fontsize=16)\n",
    "plt.yticks(fontsize=16)"
   ]
  },
  {
   "cell_type": "code",
   "execution_count": 19,
   "id": "57829788",
   "metadata": {
    "execution": {
     "iopub.execute_input": "2022-02-05T03:08:34.521365Z",
     "iopub.status.busy": "2022-02-05T03:08:34.520400Z",
     "iopub.status.idle": "2022-02-05T03:08:34.948247Z",
     "shell.execute_reply": "2022-02-05T03:08:34.947679Z",
     "shell.execute_reply.started": "2022-02-05T02:56:55.448571Z"
    },
    "papermill": {
     "duration": 0.509611,
     "end_time": "2022-02-05T03:08:34.948404",
     "exception": false,
     "start_time": "2022-02-05T03:08:34.438793",
     "status": "completed"
    },
    "tags": []
   },
   "outputs": [
    {
     "data": {
      "text/plain": [
       "(array([0.35, 0.4 , 0.45, 0.5 , 0.55, 0.6 , 0.65, 0.7 ]),\n",
       " [Text(0, 0, ''),\n",
       "  Text(0, 0, ''),\n",
       "  Text(0, 0, ''),\n",
       "  Text(0, 0, ''),\n",
       "  Text(0, 0, ''),\n",
       "  Text(0, 0, ''),\n",
       "  Text(0, 0, ''),\n",
       "  Text(0, 0, '')])"
      ]
     },
     "execution_count": 19,
     "metadata": {},
     "output_type": "execute_result"
    },
    {
     "data": {
      "image/png": "[encoded data removed]",
      "text/plain": [
       "<Figure size 720x576 with 1 Axes>"
      ]
     },
     "metadata": {
      "needs_background": "light"
     },
     "output_type": "display_data"
    }
   ],
   "source": [
    "plt.figure(figsize=(10,8))\n",
    "plt.plot(history.history['loss'],label='train_loss')\n",
    "plt.plot(history.history['val_loss'],label='val_loss')\n",
    "plt.legend(fontsize=18)\n",
    "plt.xlabel('Epochs',fontsize=18)\n",
    "plt.ylabel('Loss',fontsize=18)\n",
    "plt.xticks(fontsize=16)\n",
    "plt.yticks(fontsize=16)"
   ]
  },
  {
   "cell_type": "code",
   "execution_count": 20,
   "id": "3ae19c02",
   "metadata": {
    "execution": {
     "iopub.execute_input": "2022-02-05T03:08:35.117295Z",
     "iopub.status.busy": "2022-02-05T03:08:35.116295Z",
     "iopub.status.idle": "2022-02-05T03:08:35.257851Z",
     "shell.execute_reply": "2022-02-05T03:08:35.257111Z",
     "shell.execute_reply.started": "2022-02-05T02:57:34.781268Z"
    },
    "papermill": {
     "duration": 0.229062,
     "end_time": "2022-02-05T03:08:35.258019",
     "exception": false,
     "start_time": "2022-02-05T03:08:35.028957",
     "status": "completed"
    },
    "tags": []
   },
   "outputs": [
    {
     "name": "stderr",
     "output_type": "stream",
     "text": [
      "/opt/conda/lib/python3.7/site-packages/tensorflow/python/keras/engine/sequential.py:450: UserWarning: `model.predict_classes()` is deprecated and will be removed after 2021-01-01. Please use instead:* `np.argmax(model.predict(x), axis=-1)`,   if your model does multi-class classification   (e.g. if it uses a `softmax` last-layer activation).* `(model.predict(x) > 0.5).astype(\"int32\")`,   if your model does binary classification   (e.g. if it uses a `sigmoid` last-layer activation).\n",
      "  warnings.warn('`model.predict_classes()` is deprecated and '\n"
     ]
    },
    {
     "data": {
      "text/html": [
       "<div>\n",
       "<style scoped>\n",
       "    .dataframe tbody tr th:only-of-type {\n",
       "        vertical-align: middle;\n",
       "    }\n",
       "\n",
       "    .dataframe tbody tr th {\n",
       "        vertical-align: top;\n",
       "    }\n",
       "\n",
       "    .dataframe thead th {\n",
       "        text-align: right;\n",
       "    }\n",
       "</style>\n",
       "<table border=\"1\" class=\"dataframe\">\n",
       "  <thead>\n",
       "    <tr style=\"text-align: right;\">\n",
       "      <th></th>\n",
       "      <th>PassengerId</th>\n",
       "      <th>Survived</th>\n",
       "    </tr>\n",
       "  </thead>\n",
       "  <tbody>\n",
       "    <tr>\n",
       "      <th>0</th>\n",
       "      <td>892</td>\n",
       "      <td>0</td>\n",
       "    </tr>\n",
       "    <tr>\n",
       "      <th>1</th>\n",
       "      <td>893</td>\n",
       "      <td>1</td>\n",
       "    </tr>\n",
       "    <tr>\n",
       "      <th>2</th>\n",
       "      <td>894</td>\n",
       "      <td>0</td>\n",
       "    </tr>\n",
       "    <tr>\n",
       "      <th>3</th>\n",
       "      <td>895</td>\n",
       "      <td>0</td>\n",
       "    </tr>\n",
       "    <tr>\n",
       "      <th>4</th>\n",
       "      <td>896</td>\n",
       "      <td>1</td>\n",
       "    </tr>\n",
       "    <tr>\n",
       "      <th>5</th>\n",
       "      <td>897</td>\n",
       "      <td>0</td>\n",
       "    </tr>\n",
       "    <tr>\n",
       "      <th>6</th>\n",
       "      <td>898</td>\n",
       "      <td>1</td>\n",
       "    </tr>\n",
       "    <tr>\n",
       "      <th>7</th>\n",
       "      <td>899</td>\n",
       "      <td>0</td>\n",
       "    </tr>\n",
       "    <tr>\n",
       "      <th>8</th>\n",
       "      <td>900</td>\n",
       "      <td>1</td>\n",
       "    </tr>\n",
       "    <tr>\n",
       "      <th>9</th>\n",
       "      <td>901</td>\n",
       "      <td>0</td>\n",
       "    </tr>\n",
       "  </tbody>\n",
       "</table>\n",
       "</div>"
      ],
      "text/plain": [
       "   PassengerId  Survived\n",
       "0          892         0\n",
       "1          893         1\n",
       "2          894         0\n",
       "3          895         0\n",
       "4          896         1\n",
       "5          897         0\n",
       "6          898         1\n",
       "7          899         0\n",
       "8          900         1\n",
       "9          901         0"
      ]
     },
     "execution_count": 20,
     "metadata": {},
     "output_type": "execute_result"
    }
   ],
   "source": [
    "predictions = model.predict_classes(X_test)\n",
    "ids = test_data['PassengerId'].copy()\n",
    "output = ids.to_frame()\n",
    "output[\"Survived\"]=predictions\n",
    "output.head(10)"
   ]
  },
  {
   "cell_type": "code",
   "execution_count": 21,
   "id": "b9d76f4d",
   "metadata": {
    "execution": {
     "iopub.execute_input": "2022-02-05T03:08:35.426083Z",
     "iopub.status.busy": "2022-02-05T03:08:35.425374Z",
     "iopub.status.idle": "2022-02-05T03:08:35.433561Z",
     "shell.execute_reply": "2022-02-05T03:08:35.434123Z",
     "shell.execute_reply.started": "2022-02-05T02:57:36.434190Z"
    },
    "papermill": {
     "duration": 0.093638,
     "end_time": "2022-02-05T03:08:35.434306",
     "exception": false,
     "start_time": "2022-02-05T03:08:35.340668",
     "status": "completed"
    },
    "tags": []
   },
   "outputs": [],
   "source": [
    "output.to_csv(\"submission.csv\",index=False)"
   ]
  },
  {
   "cell_type": "code",
   "execution_count": null,
   "id": "c0ab9b4d",
   "metadata": {
    "papermill": {
     "duration": 0.08162,
     "end_time": "2022-02-05T03:08:35.597598",
     "exception": false,
     "start_time": "2022-02-05T03:08:35.515978",
     "status": "completed"
    },
    "tags": []
   },
   "outputs": [],
   "source": []
  }
 ],
 "metadata": {
  "kernelspec": {
   "display_name": "Python 3",
   "language": "python",
   "name": "python3"
  },
  "language_info": {
   "codemirror_mode": {
    "name": "ipython",
    "version": 3
   },
   "file_extension": ".py",
   "mimetype": "text/x-python",
   "name": "python",
   "nbconvert_exporter": "python",
   "pygments_lexer": "ipython3",
   "version": "3.7.10"
  },
  "papermill": {
   "default_parameters": {},
   "duration": 29.856629,
   "end_time": "2022-02-05T03:08:39.105369",
   "environment_variables": {},
   "exception": null,
   "input_path": "__notebook__.ipynb",
   "output_path": "__notebook__.ipynb",
   "parameters": {},
   "start_time": "2022-02-05T03:08:09.248740",
   "version": "2.3.3"
  }
 },
 "nbformat": 4,
 "nbformat_minor": 5
}
