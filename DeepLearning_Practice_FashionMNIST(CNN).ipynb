{
  "cells": [
    {
      "cell_type": "markdown",
      "metadata": {
        "id": "view-in-github",
        "colab_type": "text"
      },
      "source": [
        "<a href=\"https://colab.research.google.com/github/Zncl2222/DeepLearning_Practice/blob/main/DeepLearning_Practice_FashionMNIST(CNN).ipynb\" target=\"_parent\"><img src=\"https://colab.research.google.com/assets/colab-badge.svg\" alt=\"Open In Colab\"/></a>"
      ]
    },
    {
      "cell_type": "code",
      "execution_count": null,
      "metadata": {
        "id": "hNMThlgkPjBM"
      },
      "outputs": [],
      "source": [
        "from tensorflow.keras.datasets import fashion_mnist\n",
        "from tensorflow.keras.layers import Dense,Conv2D,Flatten,BatchNormalization,Dropout,MaxPool2D\n",
        "from tensorflow.keras.models import Sequential, load_model\n",
        "from tensorflow.keras.optimizers import Adam\n",
        "from tensorflow.keras.utils import to_categorical\n",
        "import numpy as np\n",
        "import matplotlib.pyplot as plt\n",
        "%matplotlib inline"
      ]
    },
    {
      "cell_type": "code",
      "execution_count": null,
      "metadata": {
        "colab": {
          "base_uri": "https://localhost:8080/"
        },
        "id": "X5yx5uTYQ5IX",
        "outputId": "2d2612df-42fa-45b9-cce0-7d3140e8a5a1"
      },
      "outputs": [
        {
          "output_type": "stream",
          "name": "stdout",
          "text": [
            "Downloading data from https://storage.googleapis.com/tensorflow/tf-keras-datasets/train-labels-idx1-ubyte.gz\n",
            "32768/29515 [=================================] - 0s 0us/step\n",
            "40960/29515 [=========================================] - 0s 0us/step\n",
            "Downloading data from https://storage.googleapis.com/tensorflow/tf-keras-datasets/train-images-idx3-ubyte.gz\n",
            "26427392/26421880 [==============================] - 0s 0us/step\n",
            "26435584/26421880 [==============================] - 0s 0us/step\n",
            "Downloading data from https://storage.googleapis.com/tensorflow/tf-keras-datasets/t10k-labels-idx1-ubyte.gz\n",
            "16384/5148 [===============================================================================================] - 0s 0us/step\n",
            "Downloading data from https://storage.googleapis.com/tensorflow/tf-keras-datasets/t10k-images-idx3-ubyte.gz\n",
            "4423680/4422102 [==============================] - 0s 0us/step\n",
            "4431872/4422102 [==============================] - 0s 0us/step\n"
          ]
        }
      ],
      "source": [
        "(train_images,train_labels),(test_images,test_labels)=fashion_mnist.load_data()"
      ]
    },
    {
      "cell_type": "code",
      "execution_count": null,
      "metadata": {
        "id": "eYUnjDfyRU4G"
      },
      "outputs": [],
      "source": [
        "train_images=train_images/255\n",
        "test_images=test_images/255\n",
        "\n",
        "train_labels=to_categorical(train_labels,10)\n",
        "test_labels=to_categorical(test_labels,10)\n"
      ]
    },
    {
      "cell_type": "code",
      "execution_count": null,
      "metadata": {
        "colab": {
          "base_uri": "https://localhost:8080/"
        },
        "id": "c49jOy9iRwjY",
        "outputId": "f1938b3f-5a56-4133-b304-ca2b97df01ba"
      },
      "outputs": [
        {
          "output_type": "stream",
          "name": "stdout",
          "text": [
            "(60000, 28, 28)\n",
            "(60000, 10)\n"
          ]
        }
      ],
      "source": [
        "print(train_images.shape)\n",
        "print(train_labels.shape)"
      ]
    },
    {
      "cell_type": "code",
      "execution_count": null,
      "metadata": {
        "id": "giSvXjrNR4zm"
      },
      "outputs": [],
      "source": [
        "model=Sequential()\n",
        "\n",
        "model.add(Conv2D(32,(3,3),activation='relu',padding='same',input_shape=(28,28,1)))\n",
        "model.add(Conv2D(32,(3,3),activation='relu',padding='same'))\n",
        "model.add(MaxPool2D(pool_size=(2,2)))\n",
        "model.add(Dropout(0.25))\n",
        "\n",
        "model.add(Conv2D(128,(3,3),activation='relu',padding='same'))\n",
        "model.add(Conv2D(64,(3,3),activation='relu',padding='same'))\n",
        "model.add(MaxPool2D(pool_size=(2,2)))\n",
        "model.add(Dropout(0.25))\n",
        "\n",
        "model.add(Conv2D(32,(3,3),activation='relu',padding='same'))\n",
        "model.add(Dropout(0.25))\n",
        "\n",
        "model.add(Flatten())\n",
        "\n",
        "model.add(Dense(512,activation='relu'))\n",
        "model.add(Dropout(0.25))\n",
        "\n",
        "model.add(Dense(10,activation='softmax'))"
      ]
    },
    {
      "cell_type": "code",
      "execution_count": null,
      "metadata": {
        "id": "fkKC_cKUU6QV"
      },
      "outputs": [],
      "source": [
        "model.compile(loss='categorical_crossentropy',optimizer=Adam(learning_rate=0.001),metrics=['acc'])"
      ]
    },
    {
      "cell_type": "code",
      "execution_count": null,
      "metadata": {
        "colab": {
          "base_uri": "https://localhost:8080/"
        },
        "id": "qox_sZOBU62a",
        "outputId": "7ffea0e1-41ab-47b5-dd25-30d4896626ac"
      },
      "outputs": [
        {
          "output_type": "stream",
          "name": "stdout",
          "text": [
            "Epoch 1/20\n",
            "375/375 [==============================] - 10s 26ms/step - loss: 0.5665 - acc: 0.7935 - val_loss: 0.3436 - val_acc: 0.8717\n",
            "Epoch 2/20\n",
            "375/375 [==============================] - 9s 25ms/step - loss: 0.3440 - acc: 0.8737 - val_loss: 0.2822 - val_acc: 0.8987\n",
            "Epoch 3/20\n",
            "375/375 [==============================] - 9s 25ms/step - loss: 0.2898 - acc: 0.8933 - val_loss: 0.2578 - val_acc: 0.9082\n",
            "Epoch 4/20\n",
            "375/375 [==============================] - 9s 25ms/step - loss: 0.2561 - acc: 0.9061 - val_loss: 0.2302 - val_acc: 0.9168\n",
            "Epoch 5/20\n",
            "375/375 [==============================] - 10s 27ms/step - loss: 0.2348 - acc: 0.9133 - val_loss: 0.2143 - val_acc: 0.9238\n",
            "Epoch 6/20\n",
            "375/375 [==============================] - 9s 25ms/step - loss: 0.2185 - acc: 0.9194 - val_loss: 0.2092 - val_acc: 0.9237\n",
            "Epoch 7/20\n",
            "375/375 [==============================] - 10s 27ms/step - loss: 0.2065 - acc: 0.9234 - val_loss: 0.1994 - val_acc: 0.9259\n",
            "Epoch 8/20\n",
            "375/375 [==============================] - 9s 25ms/step - loss: 0.1945 - acc: 0.9271 - val_loss: 0.2075 - val_acc: 0.9244\n",
            "Epoch 9/20\n",
            "375/375 [==============================] - 10s 27ms/step - loss: 0.1834 - acc: 0.9318 - val_loss: 0.1937 - val_acc: 0.9316\n",
            "Epoch 10/20\n",
            "375/375 [==============================] - 10s 26ms/step - loss: 0.1771 - acc: 0.9339 - val_loss: 0.1898 - val_acc: 0.9296\n",
            "Epoch 11/20\n",
            "375/375 [==============================] - 9s 25ms/step - loss: 0.1684 - acc: 0.9373 - val_loss: 0.1865 - val_acc: 0.9307\n",
            "Epoch 12/20\n",
            "375/375 [==============================] - 10s 26ms/step - loss: 0.1602 - acc: 0.9393 - val_loss: 0.1951 - val_acc: 0.9304\n",
            "Epoch 13/20\n",
            "375/375 [==============================] - 9s 25ms/step - loss: 0.1530 - acc: 0.9414 - val_loss: 0.1833 - val_acc: 0.9327\n",
            "Epoch 14/20\n",
            "375/375 [==============================] - 9s 25ms/step - loss: 0.1445 - acc: 0.9457 - val_loss: 0.1910 - val_acc: 0.9332\n",
            "Epoch 15/20\n",
            "375/375 [==============================] - 9s 25ms/step - loss: 0.1436 - acc: 0.9463 - val_loss: 0.1817 - val_acc: 0.9368\n",
            "Epoch 16/20\n",
            "375/375 [==============================] - 9s 25ms/step - loss: 0.1357 - acc: 0.9488 - val_loss: 0.1869 - val_acc: 0.9361\n",
            "Epoch 17/20\n",
            "375/375 [==============================] - 10s 27ms/step - loss: 0.1304 - acc: 0.9501 - val_loss: 0.1959 - val_acc: 0.9322\n",
            "Epoch 18/20\n",
            "375/375 [==============================] - 9s 25ms/step - loss: 0.1266 - acc: 0.9514 - val_loss: 0.1896 - val_acc: 0.9335\n",
            "Epoch 19/20\n",
            "375/375 [==============================] - 9s 25ms/step - loss: 0.1211 - acc: 0.9551 - val_loss: 0.1880 - val_acc: 0.9348\n",
            "Epoch 20/20\n",
            "375/375 [==============================] - 9s 25ms/step - loss: 0.1154 - acc: 0.9566 - val_loss: 0.1881 - val_acc: 0.9386\n"
          ]
        }
      ],
      "source": [
        "history=model.fit(train_images,train_labels,batch_size=128,epochs=20,validation_split=0.2)"
      ]
    },
    {
      "cell_type": "code",
      "source": [
        "plt.plot(history.history['acc'],label='train_acc',marker='o',linestyle='--',color='k',markeredgecolor='k',markerfacecolor='r')\n",
        "plt.plot(history.history['val_acc'],label='val_acc',color='b')\n",
        "\n",
        "plt.xlabel('epoch')\n",
        "plt.ylabel('acc')\n",
        "plt.legend(loc='best')\n",
        "plt.show()"
      ],
      "metadata": {
        "colab": {
          "base_uri": "https://localhost:8080/",
          "height": 279
        },
        "id": "cEW6TEoFVAJ6",
        "outputId": "1f1f79ca-baae-4d6b-c8e3-ab32efa9c68b"
      },
      "execution_count": null,
      "outputs": [
        {
          "output_type": "display_data",
          "data": {
            "image/png": "[encoded data removed]",
            "text/plain": [
              "<Figure size 432x288 with 1 Axes>"
            ]
          },
          "metadata": {
            "needs_background": "light"
          }
        }
      ]
    },
    {
      "cell_type": "code",
      "execution_count": null,
      "metadata": {
        "colab": {
          "base_uri": "https://localhost:8080/"
        },
        "id": "qAwhslLTU-ag",
        "outputId": "11fbf776-f66f-44e7-e163-453a513fd42d"
      },
      "outputs": [
        {
          "output_type": "stream",
          "name": "stdout",
          "text": [
            "313/313 [==============================] - 17s 55ms/step - loss: 0.2156 - acc: 0.9298\n",
            "loss:0.216\n",
            "acc: 0.930\n",
            "[9 2 1 1 6 1 4 6 5 7]\n",
            "[9 2 1 1 0 1 4 6 5 7]\n"
          ]
        }
      ],
      "source": [
        "test_loss,test_acc=model.evaluate(test_images,test_labels)\n",
        "print('loss:{:.3f}\\nacc: {:.3f}'.format(test_loss,test_acc))\n",
        "\n",
        "test_ans=np.argmax(test_labels[:10],axis=1)\n",
        "print(test_ans)\n",
        "\n",
        "test_predictions=model.predict(test_images[:10])\n",
        "test_predictions=np.argmax(test_predictions,axis=1)\n",
        "\n",
        "print(test_predictions)"
      ]
    },
    {
      "cell_type": "code",
      "execution_count": null,
      "metadata": {
        "id": "ryrhkCY6n36X",
        "colab": {
          "base_uri": "https://localhost:8080/"
        },
        "outputId": "97a6fd3d-b294-4122-a29a-279cc0a44107"
      },
      "outputs": [
        {
          "output_type": "stream",
          "name": "stdout",
          "text": [
            "Epoch 1/20\n",
            "375/375 [==============================] - 276s 733ms/step - loss: 0.4976 - acc: 0.8175 - val_loss: 0.3122 - val_acc: 0.8861\n",
            "Epoch 2/20\n",
            "375/375 [==============================] - 273s 727ms/step - loss: 0.2935 - acc: 0.8923 - val_loss: 0.3008 - val_acc: 0.8903\n",
            "Epoch 3/20\n",
            "375/375 [==============================] - 272s 726ms/step - loss: 0.2481 - acc: 0.9095 - val_loss: 0.2209 - val_acc: 0.9188\n",
            "Epoch 4/20\n",
            "375/375 [==============================] - 270s 721ms/step - loss: 0.2195 - acc: 0.9178 - val_loss: 0.2219 - val_acc: 0.9197\n",
            "Epoch 5/20\n",
            "375/375 [==============================] - 271s 722ms/step - loss: 0.1952 - acc: 0.9277 - val_loss: 0.1980 - val_acc: 0.9297\n",
            "Epoch 6/20\n",
            "375/375 [==============================] - 270s 720ms/step - loss: 0.1773 - acc: 0.9334 - val_loss: 0.1905 - val_acc: 0.9331\n",
            "Epoch 7/20\n",
            "375/375 [==============================] - 270s 721ms/step - loss: 0.1624 - acc: 0.9389 - val_loss: 0.1921 - val_acc: 0.9301\n",
            "Epoch 8/20\n",
            "375/375 [==============================] - 269s 718ms/step - loss: 0.1494 - acc: 0.9439 - val_loss: 0.1874 - val_acc: 0.9310\n",
            "Epoch 9/20\n",
            "375/375 [==============================] - 272s 727ms/step - loss: 0.1332 - acc: 0.9509 - val_loss: 0.1830 - val_acc: 0.9366\n",
            "Epoch 10/20\n",
            "375/375 [==============================] - 268s 716ms/step - loss: 0.1245 - acc: 0.9533 - val_loss: 0.2133 - val_acc: 0.9241\n",
            "Epoch 11/20\n",
            "375/375 [==============================] - 268s 715ms/step - loss: 0.1138 - acc: 0.9567 - val_loss: 0.2034 - val_acc: 0.9314\n",
            "Epoch 12/20\n",
            "375/375 [==============================] - 269s 718ms/step - loss: 0.1022 - acc: 0.9613 - val_loss: 0.1944 - val_acc: 0.9343\n",
            "Epoch 13/20\n",
            "375/375 [==============================] - 270s 719ms/step - loss: 0.0938 - acc: 0.9649 - val_loss: 0.2279 - val_acc: 0.9332\n",
            "Epoch 14/20\n",
            "375/375 [==============================] - 270s 720ms/step - loss: 0.0873 - acc: 0.9676 - val_loss: 0.2136 - val_acc: 0.9348\n",
            "Epoch 15/20\n",
            "375/375 [==============================] - 270s 721ms/step - loss: 0.0809 - acc: 0.9700 - val_loss: 0.2332 - val_acc: 0.9308\n",
            "Epoch 16/20\n",
            "375/375 [==============================] - 270s 720ms/step - loss: 0.0752 - acc: 0.9720 - val_loss: 0.2290 - val_acc: 0.9331\n",
            "Epoch 17/20\n",
            "375/375 [==============================] - 268s 715ms/step - loss: 0.0696 - acc: 0.9742 - val_loss: 0.2238 - val_acc: 0.9360\n",
            "Epoch 18/20\n",
            "375/375 [==============================] - 269s 717ms/step - loss: 0.0650 - acc: 0.9762 - val_loss: 0.2378 - val_acc: 0.9308\n",
            "Epoch 19/20\n",
            "375/375 [==============================] - 267s 711ms/step - loss: 0.0619 - acc: 0.9773 - val_loss: 0.2367 - val_acc: 0.9352\n",
            "Epoch 20/20\n",
            "375/375 [==============================] - 264s 705ms/step - loss: 0.0565 - acc: 0.9790 - val_loss: 0.2379 - val_acc: 0.9348\n"
          ]
        }
      ],
      "source": [
        "model2=Sequential()\n",
        "\n",
        "model2.add(Conv2D(32,(3,3),activation='relu',padding='same',input_shape=(28,28,1)))\n",
        "model2.add(Conv2D(32,(3,3),activation='relu',padding='same'))\n",
        "model2.add(MaxPool2D(pool_size=(2,2)))\n",
        "model2.add(Dropout(0.25))\n",
        "\n",
        "model2.add(Conv2D(128,(3,3),activation='relu',padding='same'))\n",
        "model2.add(Conv2D(64,(3,3),activation='relu',padding='same'))\n",
        "model2.add(MaxPool2D(pool_size=(2,2)))\n",
        "model2.add(Dropout(0.25))\n",
        "\n",
        "model2.add(Flatten())\n",
        "model2.add(Dense(512,activation='relu'))\n",
        "model2.add(Dropout(0.25))\n",
        "\n",
        "model2.add(Dense(10,activation='softmax'))\n",
        "\n",
        "model2.compile(loss='categorical_crossentropy',optimizer=Adam(learning_rate=0.001),metrics=['acc'])\n",
        "\n",
        "history2=model2.fit(train_images,train_labels,batch_size=128,epochs=20,validation_split=0.2)"
      ]
    },
    {
      "cell_type": "code",
      "source": [
        "plt.plot(history.history['acc'],label='train_acc')\n",
        "plt.plot(history.history['val_acc'],label='val_acc')\n",
        "\n",
        "plt.xlabel('epoch')\n",
        "plt.ylabel('acc')\n",
        "\n",
        "plt.legend(loc='best')\n",
        "plt.show()"
      ],
      "metadata": {
        "id": "sVeQ8c5xVHQU"
      },
      "execution_count": null,
      "outputs": []
    },
    {
      "cell_type": "code",
      "source": [
        "test_loss,test_acc2=model2.evaluate(test_images,test_labels)\n",
        "print('loss:{:.3f}\\nacc: {:.3f}'.format(test_loss,test_acc))\n",
        "\n",
        "test_ans2=np.argmax(test_labels[:10],axis=1)\n",
        "print(test_ans2)\n",
        "\n",
        "test_predictions2=model2.predict(test_images[:10])\n",
        "test_predictions2=np.argmax(test_predictions2,axis=1)\n",
        "\n",
        "print(test_predictions2)"
      ],
      "metadata": {
        "colab": {
          "base_uri": "https://localhost:8080/"
        },
        "id": "8gj3gjidqeBq",
        "outputId": "97949d46-2987-4b5e-84aa-ee0631c5d3e9"
      },
      "execution_count": null,
      "outputs": [
        {
          "output_type": "stream",
          "name": "stdout",
          "text": [
            "313/313 [==============================] - 17s 54ms/step - loss: 0.2672 - acc: 0.9301\n",
            "loss:0.267\n",
            "acc: 0.930\n",
            "[9 2 1 1 6 1 4 6 5 7]\n",
            "[9 2 1 1 0 1 4 6 5 7]\n"
          ]
        }
      ]
    },
    {
      "cell_type": "code",
      "source": [
        ""
      ],
      "metadata": {
        "id": "2ZGZ8_ZfJjz5"
      },
      "execution_count": null,
      "outputs": []
    }
  ],
  "metadata": {
    "colab": {
      "name": "DeepLearning_Practice_FashionMNIST(CNN).ipynb",
      "provenance": [],
      "authorship_tag": "ABX9TyNn5RyVHGuy7GoRhBPMfhq4",
      "include_colab_link": true
    },
    "kernelspec": {
      "display_name": "Python 3",
      "name": "python3"
    },
    "language_info": {
      "name": "python"
    },
    "accelerator": "GPU"
  },
  "nbformat": 4,
  "nbformat_minor": 0
}