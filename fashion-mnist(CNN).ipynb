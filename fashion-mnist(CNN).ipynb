{
 "cells": [
  {
   "cell_type": "code",
   "execution_count": 1,
   "id": "0a868127",
   "metadata": {
    "_cell_guid": "b1076dfc-b9ad-4769-8c92-a6c4dae69d19",
    "_uuid": "8f2839f25d086af736a60e9eeb907d3b93b6e0e5",
    "execution": {
     "iopub.execute_input": "2022-02-05T02:00:17.824628Z",
     "iopub.status.busy": "2022-02-05T02:00:17.822997Z",
     "iopub.status.idle": "2022-02-05T02:00:17.919473Z",
     "shell.execute_reply": "2022-02-05T02:00:17.918765Z",
     "shell.execute_reply.started": "2022-02-05T01:04:39.800422Z"
    },
    "papermill": {
     "duration": 0.11478,
     "end_time": "2022-02-05T02:00:17.919772",
     "exception": false,
     "start_time": "2022-02-05T02:00:17.804992",
     "status": "completed"
    },
    "tags": []
   },
   "outputs": [
    {
     "name": "stdout",
     "output_type": "stream",
     "text": [
      "/kaggle/input/fashionmnist/t10k-labels-idx1-ubyte\n",
      "/kaggle/input/fashionmnist/t10k-images-idx3-ubyte\n",
      "/kaggle/input/fashionmnist/fashion-mnist_test.csv\n",
      "/kaggle/input/fashionmnist/fashion-mnist_train.csv\n",
      "/kaggle/input/fashionmnist/train-labels-idx1-ubyte\n",
      "/kaggle/input/fashionmnist/train-images-idx3-ubyte\n"
     ]
    }
   ],
   "source": [
    "# This Python 3 environment comes with many helpful analytics libraries installed\n",
    "# It is defined by the kaggle/python Docker image: https://github.com/kaggle/docker-python\n",
    "# For example, here's several helpful packages to load\n",
    "\n",
    "import numpy as np # linear algebra\n",
    "import pandas as pd # data processing, CSV file I/O (e.g. pd.read_csv)\n",
    "\n",
    "# Input data files are available in the read-only \"../input/\" directory\n",
    "# For example, running this (by clicking run or pressing Shift+Enter) will list all files under the input directory\n",
    "\n",
    "import os\n",
    "for dirname, _, filenames in os.walk('/kaggle/input'):\n",
    "    for filename in filenames:\n",
    "        print(os.path.join(dirname, filename))\n",
    "\n",
    "# You can write up to 20GB to the current directory (/kaggle/working/) that gets preserved as output when you create a version using \"Save & Run All\" \n",
    "# You can also write temporary files to /kaggle/temp/, but they won't be saved outside of the current session"
   ]
  },
  {
   "cell_type": "code",
   "execution_count": 2,
   "id": "1b234144",
   "metadata": {
    "execution": {
     "iopub.execute_input": "2022-02-05T02:00:17.951665Z",
     "iopub.status.busy": "2022-02-05T02:00:17.950993Z",
     "iopub.status.idle": "2022-02-05T02:00:22.213091Z",
     "shell.execute_reply": "2022-02-05T02:00:22.212610Z",
     "shell.execute_reply.started": "2022-02-05T01:15:25.255196Z"
    },
    "papermill": {
     "duration": 4.278779,
     "end_time": "2022-02-05T02:00:22.213221",
     "exception": false,
     "start_time": "2022-02-05T02:00:17.934442",
     "status": "completed"
    },
    "tags": []
   },
   "outputs": [
    {
     "name": "stderr",
     "output_type": "stream",
     "text": [
      "2022-02-05 02:00:18.414260: I tensorflow/stream_executor/platform/default/dso_loader.cc:49] Successfully opened dynamic library libcudart.so.11.0\n"
     ]
    }
   ],
   "source": [
    "import numpy as np\n",
    "import pandas as pd\n",
    "import matplotlib.pyplot as plt\n",
    "import tensorflow as tf\n",
    "from tensorflow.keras.layers import Conv2D,Dense,Dropout,MaxPool2D,Flatten,BatchNormalization\n",
    "from tensorflow.keras.models import Sequential\n",
    "from tensorflow.keras.optimizers import Adam\n",
    "from tensorflow.keras.utils import to_categorical"
   ]
  },
  {
   "cell_type": "code",
   "execution_count": 3,
   "id": "c5ac639d",
   "metadata": {
    "execution": {
     "iopub.execute_input": "2022-02-05T02:00:22.243969Z",
     "iopub.status.busy": "2022-02-05T02:00:22.243399Z",
     "iopub.status.idle": "2022-02-05T02:00:22.248751Z",
     "shell.execute_reply": "2022-02-05T02:00:22.249133Z",
     "shell.execute_reply.started": "2022-02-05T00:44:08.875717Z"
    },
    "papermill": {
     "duration": 0.023142,
     "end_time": "2022-02-05T02:00:22.249259",
     "exception": false,
     "start_time": "2022-02-05T02:00:22.226117",
     "status": "completed"
    },
    "tags": []
   },
   "outputs": [],
   "source": [
    "try:\n",
    "  tpu = tf.distribute.cluster_resolver.TPUClusterResolver()\n",
    "except ValueError:\n",
    "  tpu = None\n",
    "\n",
    "# TPUStrategy for distributed training\n",
    "if tpu:\n",
    "  tf.config.experimental_connect_to_cluster(tpu)\n",
    "  tf.tpu.experimental.initialize_tpu_system(tpu)\n",
    "  strategy = tf.distribute.experimental.TPUStrategy(tpu)\n",
    "else: # default strategy that works on CPU and single GPU\n",
    "  strategy = tf.distribute.get_strategy()"
   ]
  },
  {
   "cell_type": "code",
   "execution_count": 4,
   "id": "02425180",
   "metadata": {
    "execution": {
     "iopub.execute_input": "2022-02-05T02:00:22.278661Z",
     "iopub.status.busy": "2022-02-05T02:00:22.278017Z",
     "iopub.status.idle": "2022-02-05T02:00:28.465180Z",
     "shell.execute_reply": "2022-02-05T02:00:28.466272Z",
     "shell.execute_reply.started": "2022-02-05T01:04:48.790957Z"
    },
    "papermill": {
     "duration": 6.204665,
     "end_time": "2022-02-05T02:00:28.466485",
     "exception": false,
     "start_time": "2022-02-05T02:00:22.261820",
     "status": "completed"
    },
    "tags": []
   },
   "outputs": [],
   "source": [
    "train_data=pd.read_csv(r\"../input/fashionmnist/fashion-mnist_train.csv\")\n",
    "test_data=pd.read_csv(r\"../input/fashionmnist/fashion-mnist_test.csv\")"
   ]
  },
  {
   "cell_type": "code",
   "execution_count": 5,
   "id": "394165e1",
   "metadata": {
    "execution": {
     "iopub.execute_input": "2022-02-05T02:00:28.519898Z",
     "iopub.status.busy": "2022-02-05T02:00:28.518966Z",
     "iopub.status.idle": "2022-02-05T02:00:28.522747Z",
     "shell.execute_reply": "2022-02-05T02:00:28.520676Z",
     "shell.execute_reply.started": "2022-02-05T01:04:57.165223Z"
    },
    "papermill": {
     "duration": 0.033825,
     "end_time": "2022-02-05T02:00:28.522915",
     "exception": false,
     "start_time": "2022-02-05T02:00:28.489090",
     "status": "completed"
    },
    "tags": []
   },
   "outputs": [
    {
     "name": "stdout",
     "output_type": "stream",
     "text": [
      "(60000, 785)\n",
      "(10000, 785)\n",
      "<class 'pandas.core.frame.DataFrame'>\n",
      "<class 'pandas.core.frame.DataFrame'>\n"
     ]
    }
   ],
   "source": [
    "print(train_data.shape)\n",
    "print(test_data.shape)\n",
    "print(type(train_data))\n",
    "print(type(test_data))"
   ]
  },
  {
   "cell_type": "code",
   "execution_count": 6,
   "id": "801f108a",
   "metadata": {
    "execution": {
     "iopub.execute_input": "2022-02-05T02:00:28.578778Z",
     "iopub.status.busy": "2022-02-05T02:00:28.577877Z",
     "iopub.status.idle": "2022-02-05T02:00:28.744368Z",
     "shell.execute_reply": "2022-02-05T02:00:28.745140Z",
     "shell.execute_reply.started": "2022-02-05T01:04:58.415911Z"
    },
    "papermill": {
     "duration": 0.201297,
     "end_time": "2022-02-05T02:00:28.745366",
     "exception": false,
     "start_time": "2022-02-05T02:00:28.544069",
     "status": "completed"
    },
    "tags": []
   },
   "outputs": [],
   "source": [
    "X_train=train_data.drop(['label'],axis=1)\n",
    "y_train=train_data['label']\n",
    "\n",
    "X_test=test_data.drop(['label'],axis=1)\n",
    "y_test=test_data['label']"
   ]
  },
  {
   "cell_type": "code",
   "execution_count": 7,
   "id": "966c09ba",
   "metadata": {
    "execution": {
     "iopub.execute_input": "2022-02-05T02:00:28.798938Z",
     "iopub.status.busy": "2022-02-05T02:00:28.798184Z",
     "iopub.status.idle": "2022-02-05T02:00:28.803125Z",
     "shell.execute_reply": "2022-02-05T02:00:28.803750Z",
     "shell.execute_reply.started": "2022-02-05T01:04:59.551393Z"
    },
    "papermill": {
     "duration": 0.037259,
     "end_time": "2022-02-05T02:00:28.803921",
     "exception": false,
     "start_time": "2022-02-05T02:00:28.766662",
     "status": "completed"
    },
    "tags": []
   },
   "outputs": [
    {
     "name": "stdout",
     "output_type": "stream",
     "text": [
      "[  0   0   0   0   0   0   0   0   0   0   0   0   0   0   0   0   0   0\n",
      "   0   0   0   0   0   0   0   0   0   0   0   0   0   0   0   0   0   0\n",
      "   0   0   0   0   0   0   0   0   0   0   0   0   0   0   0   0   0   0\n",
      "   0   0   0   0   0   0   0   0   0   0   0   0   0   0   0   0   0   0\n",
      "   0   0   0   0   0   0   0   0   0   0   0   0   0   0   0   0   4   0\n",
      "   0   0   0   0  62  61  21  29  23  51 136  61   0   0   0   0   0   0\n",
      "   0   0   0   0   0   0   0   0   0   0   0  88 201 228 225 255 115  62\n",
      " 137 255 235 222 255 135   0   0   0   0   0   0   0   0   0   0   0   0\n",
      "   0  47 252 234 238 224 215 215 229 108 180 207 214 224 231 249 254  45\n",
      "   0   0   0   0   0   0   0   0   1   0   0 214 222 210 213 224 225 217\n",
      " 220 254 233 219 221 217 223 221 240 254   0   0   1   0   0   0   1   0\n",
      "   0   0 128 237 207 224 224 207 216 214 210 208 211 221 208 219 213 226\n",
      " 211 237 150   0   0   0   0   0   0   2   0   0 237 222 215 207 210 212\n",
      " 213 206 214 213 214 213 210 215 214 206 199 218 255  13   0   2   0   0\n",
      "   0   4   0  85 228 210 218 200 211 208 203 215 210 209 209 210 213 211\n",
      " 210 217 206 213 231 175   0   0   0   0   0   0   0 217 224 215 206 205\n",
      " 204 217 230 222 215 224 233 228 232 228 224 207 212 215 213 229  31   0\n",
      "   4   0   1   0  21 225 212 212 203 211 225 193 139 136 195 147 156 139\n",
      " 128 162 197 223 207 220 213 232 177   0   0   0   0   0 123 226 207 211\n",
      " 209 205 228 158  90 103 186 138 100 121 147 158 183 226 208 214 209 216\n",
      " 255  13   0   1   0   0 226 219 202 208 206 205 216 184 156 150 193 170\n",
      " 164 168 188 186 200 219 216 213 213 211 233 148   0   0   0  45 227 204\n",
      " 214 211 218 222 221 230 229 221 213 224 233 226 220 219 221 224 223 217\n",
      " 210 218 213 254   0   0   0 157 226 203 207 211 209 215 205 198 207 208\n",
      " 201 201 197 203 205 210 207 213 214 214 214 213 208 234 107   0   0 235\n",
      " 213 204 211 210 209 213 202 197 204 215 217 213 212 210 206 212 203 211\n",
      " 218 215 214 208 209 222 230   0  52 255 207 200 208 213 210 210 208 207\n",
      " 202 201 209 216 216 216 216 214 212 205 215 201 228 208 214 212 218  25\n",
      " 118 217 201 206 208 213 208 205 206 210 211 202 199 207 208 209 210 207\n",
      " 210 210 245 139 119 255 202 203 236 114 171 238 212 203 220 216 217 209\n",
      " 207 205 210 211 206 204 206 209 211 215 210 206 221 242   0 224 234 230\n",
      " 181  26  39 145 201 255 157 115 250 200 207 206 207 213 216 206 205 206\n",
      " 207 206 215 207 221 238   0   0 188  85   0   0   0   0   0  31   0 129\n",
      " 253 190 207 208 208 208 209 211 211 209 209 209 212 201 226 165   0   0\n",
      "   0   0   0   0   2   0   0   0   0  89 254 199 199 192 196 198 199 201\n",
      " 202 203 204 203 203 200 222 155   0   3   3   3   2   0   0   0   1   5\n",
      "   0   0 255 218 226 232 228 224 222 220 219 219 217 221 220 212 236  95\n",
      "   0   2   0   0   0   0   0   0   0   0   0   0 155 194 168 170 171 173\n",
      " 173 179 177 175 172 171 167 161 180   0   0   1   0   1   0   0   0   0\n",
      "   0   0   0   0   0   0   0   0   0   0   0   0   0   0   0   0   0   0\n",
      "   0   0   0   0   0   0   0   0   0   0   0   0   0   0   0   0   0   0\n",
      "   0   0   0   0   0   0   0   0   0   0   0   0   0   0   0   0   0   0\n",
      "   0   0   0   0   0   0   0   0   0   0   0   0   0   0   0   0   0   0\n",
      "   0   0   0   0   0   0   0   0   0   0]\n"
     ]
    }
   ],
   "source": [
    "X_train=np.asarray(X_train)\n",
    "y_train=np.asarray(y_train)\n",
    "\n",
    "X_test=np.asarray(X_test)\n",
    "y_test=np.asarray(y_test)\n",
    "\n",
    "print(X_train[0])"
   ]
  },
  {
   "cell_type": "code",
   "execution_count": 8,
   "id": "b50cdaca",
   "metadata": {
    "execution": {
     "iopub.execute_input": "2022-02-05T02:00:28.860273Z",
     "iopub.status.busy": "2022-02-05T02:00:28.859514Z",
     "iopub.status.idle": "2022-02-05T02:00:29.920074Z",
     "shell.execute_reply": "2022-02-05T02:00:29.920485Z",
     "shell.execute_reply.started": "2022-02-05T01:05:01.207653Z"
    },
    "papermill": {
     "duration": 1.095085,
     "end_time": "2022-02-05T02:00:29.920647",
     "exception": false,
     "start_time": "2022-02-05T02:00:28.825562",
     "status": "completed"
    },
    "tags": []
   },
   "outputs": [
    {
     "data": {
      "image/png": "[encoded data removed]",
      "text/plain": [
       "<Figure size 2160x2160 with 10 Axes>"
      ]
     },
     "metadata": {
      "needs_background": "light"
     },
     "output_type": "display_data"
    },
    {
     "name": "stdout",
     "output_type": "stream",
     "text": [
      "[2 9 6 0 3 4 4 5 4 8]\n"
     ]
    }
   ],
   "source": [
    "train_images=X_train.reshape(60000,28,28,1)\n",
    "test_images=X_test.reshape(10000,28,28,1)\n",
    "\n",
    "for i in range(10):\n",
    "    plt.figure(num=1,figsize=(30,30))\n",
    "    plt.subplot(2,10,i+1)\n",
    "    plt.imshow(train_images[i],'gray')\n",
    "plt.show()\n",
    "\n",
    "print(y_train[0:10])\n"
   ]
  },
  {
   "cell_type": "code",
   "execution_count": 9,
   "id": "bb4f991a",
   "metadata": {
    "execution": {
     "iopub.execute_input": "2022-02-05T02:00:29.954223Z",
     "iopub.status.busy": "2022-02-05T02:00:29.953305Z",
     "iopub.status.idle": "2022-02-05T02:00:30.123874Z",
     "shell.execute_reply": "2022-02-05T02:00:30.123392Z",
     "shell.execute_reply.started": "2022-02-05T01:05:03.669734Z"
    },
    "papermill": {
     "duration": 0.188959,
     "end_time": "2022-02-05T02:00:30.124016",
     "exception": false,
     "start_time": "2022-02-05T02:00:29.935057",
     "status": "completed"
    },
    "tags": []
   },
   "outputs": [],
   "source": [
    "train_images=train_images/255\n",
    "test_images=test_images/255\n",
    "\n",
    "train_labels=to_categorical(y_train,10)\n",
    "test_labels=to_categorical(y_test,10)\n"
   ]
  },
  {
   "cell_type": "code",
   "execution_count": 10,
   "id": "f37abd5f",
   "metadata": {
    "execution": {
     "iopub.execute_input": "2022-02-05T02:00:30.157844Z",
     "iopub.status.busy": "2022-02-05T02:00:30.157291Z",
     "iopub.status.idle": "2022-02-05T02:00:30.161177Z",
     "shell.execute_reply": "2022-02-05T02:00:30.161559Z",
     "shell.execute_reply.started": "2022-02-05T01:05:04.943308Z"
    },
    "papermill": {
     "duration": 0.023055,
     "end_time": "2022-02-05T02:00:30.161744",
     "exception": false,
     "start_time": "2022-02-05T02:00:30.138689",
     "status": "completed"
    },
    "tags": []
   },
   "outputs": [
    {
     "name": "stdout",
     "output_type": "stream",
     "text": [
      "(60000, 28, 28, 1)\n",
      "(60000, 10)\n"
     ]
    }
   ],
   "source": [
    "print(train_images.shape)\n",
    "print(train_labels.shape)"
   ]
  },
  {
   "cell_type": "code",
   "execution_count": 11,
   "id": "52bdd6bd",
   "metadata": {
    "execution": {
     "iopub.execute_input": "2022-02-05T02:00:30.198926Z",
     "iopub.status.busy": "2022-02-05T02:00:30.198266Z",
     "iopub.status.idle": "2022-02-05T02:00:32.062929Z",
     "shell.execute_reply": "2022-02-05T02:00:32.062364Z",
     "shell.execute_reply.started": "2022-02-05T01:57:20.884189Z"
    },
    "papermill": {
     "duration": 1.886843,
     "end_time": "2022-02-05T02:00:32.063060",
     "exception": false,
     "start_time": "2022-02-05T02:00:30.176217",
     "status": "completed"
    },
    "tags": []
   },
   "outputs": [
    {
     "name": "stderr",
     "output_type": "stream",
     "text": [
      "2022-02-05 02:00:30.203282: I tensorflow/compiler/jit/xla_cpu_device.cc:41] Not creating XLA devices, tf_xla_enable_xla_devices not set\n",
      "2022-02-05 02:00:30.206886: I tensorflow/stream_executor/platform/default/dso_loader.cc:49] Successfully opened dynamic library libcuda.so.1\n",
      "2022-02-05 02:00:30.250094: I tensorflow/stream_executor/cuda/cuda_gpu_executor.cc:941] successful NUMA node read from SysFS had negative value (-1), but there must be at least one NUMA node, so returning NUMA node zero\n",
      "2022-02-05 02:00:30.250719: I tensorflow/core/common_runtime/gpu/gpu_device.cc:1720] Found device 0 with properties: \n",
      "pciBusID: 0000:00:04.0 name: Tesla P100-PCIE-16GB computeCapability: 6.0\n",
      "coreClock: 1.3285GHz coreCount: 56 deviceMemorySize: 15.90GiB deviceMemoryBandwidth: 681.88GiB/s\n",
      "2022-02-05 02:00:30.250769: I tensorflow/stream_executor/platform/default/dso_loader.cc:49] Successfully opened dynamic library libcudart.so.11.0\n",
      "2022-02-05 02:00:30.295356: I tensorflow/stream_executor/platform/default/dso_loader.cc:49] Successfully opened dynamic library libcublas.so.11\n",
      "2022-02-05 02:00:30.295437: I tensorflow/stream_executor/platform/default/dso_loader.cc:49] Successfully opened dynamic library libcublasLt.so.11\n",
      "2022-02-05 02:00:30.312594: I tensorflow/stream_executor/platform/default/dso_loader.cc:49] Successfully opened dynamic library libcufft.so.10\n",
      "2022-02-05 02:00:30.320481: I tensorflow/stream_executor/platform/default/dso_loader.cc:49] Successfully opened dynamic library libcurand.so.10\n",
      "2022-02-05 02:00:30.345744: I tensorflow/stream_executor/platform/default/dso_loader.cc:49] Successfully opened dynamic library libcusolver.so.10\n",
      "2022-02-05 02:00:30.352746: I tensorflow/stream_executor/platform/default/dso_loader.cc:49] Successfully opened dynamic library libcusparse.so.11\n",
      "2022-02-05 02:00:30.356785: I tensorflow/stream_executor/platform/default/dso_loader.cc:49] Successfully opened dynamic library libcudnn.so.8\n",
      "2022-02-05 02:00:30.356969: I tensorflow/stream_executor/cuda/cuda_gpu_executor.cc:941] successful NUMA node read from SysFS had negative value (-1), but there must be at least one NUMA node, so returning NUMA node zero\n",
      "2022-02-05 02:00:30.357653: I tensorflow/stream_executor/cuda/cuda_gpu_executor.cc:941] successful NUMA node read from SysFS had negative value (-1), but there must be at least one NUMA node, so returning NUMA node zero\n",
      "2022-02-05 02:00:30.359261: I tensorflow/core/common_runtime/gpu/gpu_device.cc:1862] Adding visible gpu devices: 0\n",
      "2022-02-05 02:00:30.360508: I tensorflow/core/platform/cpu_feature_guard.cc:142] This TensorFlow binary is optimized with oneAPI Deep Neural Network Library (oneDNN) to use the following CPU instructions in performance-critical operations:  AVX2 AVX512F FMA\n",
      "To enable them in other operations, rebuild TensorFlow with the appropriate compiler flags.\n",
      "2022-02-05 02:00:30.360716: I tensorflow/compiler/jit/xla_gpu_device.cc:99] Not creating XLA devices, tf_xla_enable_xla_devices not set\n",
      "2022-02-05 02:00:30.360873: I tensorflow/stream_executor/cuda/cuda_gpu_executor.cc:941] successful NUMA node read from SysFS had negative value (-1), but there must be at least one NUMA node, so returning NUMA node zero\n",
      "2022-02-05 02:00:30.361446: I tensorflow/core/common_runtime/gpu/gpu_device.cc:1720] Found device 0 with properties: \n",
      "pciBusID: 0000:00:04.0 name: Tesla P100-PCIE-16GB computeCapability: 6.0\n",
      "coreClock: 1.3285GHz coreCount: 56 deviceMemorySize: 15.90GiB deviceMemoryBandwidth: 681.88GiB/s\n",
      "2022-02-05 02:00:30.361485: I tensorflow/stream_executor/platform/default/dso_loader.cc:49] Successfully opened dynamic library libcudart.so.11.0\n",
      "2022-02-05 02:00:30.361506: I tensorflow/stream_executor/platform/default/dso_loader.cc:49] Successfully opened dynamic library libcublas.so.11\n",
      "2022-02-05 02:00:30.361522: I tensorflow/stream_executor/platform/default/dso_loader.cc:49] Successfully opened dynamic library libcublasLt.so.11\n",
      "2022-02-05 02:00:30.361537: I tensorflow/stream_executor/platform/default/dso_loader.cc:49] Successfully opened dynamic library libcufft.so.10\n",
      "2022-02-05 02:00:30.361578: I tensorflow/stream_executor/platform/default/dso_loader.cc:49] Successfully opened dynamic library libcurand.so.10\n",
      "2022-02-05 02:00:30.361599: I tensorflow/stream_executor/platform/default/dso_loader.cc:49] Successfully opened dynamic library libcusolver.so.10\n",
      "2022-02-05 02:00:30.361616: I tensorflow/stream_executor/platform/default/dso_loader.cc:49] Successfully opened dynamic library libcusparse.so.11\n",
      "2022-02-05 02:00:30.361646: I tensorflow/stream_executor/platform/default/dso_loader.cc:49] Successfully opened dynamic library libcudnn.so.8\n",
      "2022-02-05 02:00:30.361731: I tensorflow/stream_executor/cuda/cuda_gpu_executor.cc:941] successful NUMA node read from SysFS had negative value (-1), but there must be at least one NUMA node, so returning NUMA node zero\n",
      "2022-02-05 02:00:30.362348: I tensorflow/stream_executor/cuda/cuda_gpu_executor.cc:941] successful NUMA node read from SysFS had negative value (-1), but there must be at least one NUMA node, so returning NUMA node zero\n",
      "2022-02-05 02:00:30.362927: I tensorflow/core/common_runtime/gpu/gpu_device.cc:1862] Adding visible gpu devices: 0\n",
      "2022-02-05 02:00:30.363798: I tensorflow/stream_executor/platform/default/dso_loader.cc:49] Successfully opened dynamic library libcudart.so.11.0\n",
      "2022-02-05 02:00:31.664033: I tensorflow/core/common_runtime/gpu/gpu_device.cc:1261] Device interconnect StreamExecutor with strength 1 edge matrix:\n",
      "2022-02-05 02:00:31.664090: I tensorflow/core/common_runtime/gpu/gpu_device.cc:1267]      0 \n",
      "2022-02-05 02:00:31.664100: I tensorflow/core/common_runtime/gpu/gpu_device.cc:1280] 0:   N \n",
      "2022-02-05 02:00:31.666031: I tensorflow/stream_executor/cuda/cuda_gpu_executor.cc:941] successful NUMA node read from SysFS had negative value (-1), but there must be at least one NUMA node, so returning NUMA node zero\n",
      "2022-02-05 02:00:31.666789: I tensorflow/stream_executor/cuda/cuda_gpu_executor.cc:941] successful NUMA node read from SysFS had negative value (-1), but there must be at least one NUMA node, so returning NUMA node zero\n",
      "2022-02-05 02:00:31.667386: I tensorflow/stream_executor/cuda/cuda_gpu_executor.cc:941] successful NUMA node read from SysFS had negative value (-1), but there must be at least one NUMA node, so returning NUMA node zero\n",
      "2022-02-05 02:00:31.667985: I tensorflow/core/common_runtime/gpu/gpu_device.cc:1406] Created TensorFlow device (/job:localhost/replica:0/task:0/device:GPU:0 with 14957 MB memory) -> physical GPU (device: 0, name: Tesla P100-PCIE-16GB, pci bus id: 0000:00:04.0, compute capability: 6.0)\n"
     ]
    }
   ],
   "source": [
    "model=Sequential()\n",
    "\n",
    "model.add(Conv2D(64,(3,3),activation='relu',padding='same',input_shape=(28,28,1)))\n",
    "model.add(Conv2D(32,(3,3),activation='relu',padding='same'))\n",
    "model.add(MaxPool2D(pool_size=(2,2)))\n",
    "model.add(Dropout(0.2))\n",
    "\n",
    "model.add(Conv2D(32,(3,3),activation='relu',padding='same'))\n",
    "model.add(Conv2D(32,(3,3),activation='relu',padding='same'))\n",
    "model.add(MaxPool2D(pool_size=(2,2)))\n",
    "model.add(Dropout(0.2))\n",
    "\n",
    "\n",
    "model.add(Flatten())\n",
    "model.add(Dense(512,activation='relu'))\n",
    "model.add(Dropout(0.4))\n",
    "\n",
    "\n",
    "model.add(Dense(10,activation='softmax'))\n"
   ]
  },
  {
   "cell_type": "code",
   "execution_count": 12,
   "id": "979b3c95",
   "metadata": {
    "execution": {
     "iopub.execute_input": "2022-02-05T02:00:32.131441Z",
     "iopub.status.busy": "2022-02-05T02:00:32.130337Z",
     "iopub.status.idle": "2022-02-05T02:00:32.143706Z",
     "shell.execute_reply": "2022-02-05T02:00:32.144751Z",
     "shell.execute_reply.started": "2022-02-05T01:57:22.501091Z"
    },
    "papermill": {
     "duration": 0.053952,
     "end_time": "2022-02-05T02:00:32.144995",
     "exception": false,
     "start_time": "2022-02-05T02:00:32.091043",
     "status": "completed"
    },
    "tags": []
   },
   "outputs": [],
   "source": [
    "model.compile(loss='categorical_crossentropy',optimizer='adam',metrics=['acc'])"
   ]
  },
  {
   "cell_type": "code",
   "execution_count": 13,
   "id": "3ed2a009",
   "metadata": {
    "execution": {
     "iopub.execute_input": "2022-02-05T02:00:32.210928Z",
     "iopub.status.busy": "2022-02-05T02:00:32.209995Z",
     "iopub.status.idle": "2022-02-05T02:01:33.015783Z",
     "shell.execute_reply": "2022-02-05T02:01:33.016417Z",
     "shell.execute_reply.started": "2022-02-05T01:57:23.473118Z"
    },
    "papermill": {
     "duration": 60.841591,
     "end_time": "2022-02-05T02:01:33.016640",
     "exception": false,
     "start_time": "2022-02-05T02:00:32.175049",
     "status": "completed"
    },
    "tags": []
   },
   "outputs": [
    {
     "name": "stderr",
     "output_type": "stream",
     "text": [
      "2022-02-05 02:00:32.550653: I tensorflow/compiler/mlir/mlir_graph_optimization_pass.cc:116] None of the MLIR optimization passes are enabled (registered 2)\n",
      "2022-02-05 02:00:32.563306: I tensorflow/core/platform/profile_utils/cpu_utils.cc:112] CPU Frequency: 2000140000 Hz\n"
     ]
    },
    {
     "name": "stdout",
     "output_type": "stream",
     "text": [
      "Epoch 1/20\n"
     ]
    },
    {
     "name": "stderr",
     "output_type": "stream",
     "text": [
      "2022-02-05 02:00:33.307657: I tensorflow/stream_executor/platform/default/dso_loader.cc:49] Successfully opened dynamic library libcublas.so.11\n",
      "2022-02-05 02:00:34.035522: I tensorflow/stream_executor/platform/default/dso_loader.cc:49] Successfully opened dynamic library libcublasLt.so.11\n",
      "2022-02-05 02:00:34.047948: I tensorflow/stream_executor/platform/default/dso_loader.cc:49] Successfully opened dynamic library libcudnn.so.8\n"
     ]
    },
    {
     "name": "stdout",
     "output_type": "stream",
     "text": [
      "375/375 [==============================] - 10s 8ms/step - loss: 0.8174 - acc: 0.6970 - val_loss: 0.3479 - val_acc: 0.8759\n",
      "Epoch 2/20\n",
      "375/375 [==============================] - 3s 7ms/step - loss: 0.3520 - acc: 0.8696 - val_loss: 0.2765 - val_acc: 0.8996\n",
      "Epoch 3/20\n",
      "375/375 [==============================] - 3s 7ms/step - loss: 0.2921 - acc: 0.8921 - val_loss: 0.2575 - val_acc: 0.9068\n",
      "Epoch 4/20\n",
      "375/375 [==============================] - 3s 7ms/step - loss: 0.2529 - acc: 0.9065 - val_loss: 0.2354 - val_acc: 0.9162\n",
      "Epoch 5/20\n",
      "375/375 [==============================] - 3s 7ms/step - loss: 0.2289 - acc: 0.9155 - val_loss: 0.2197 - val_acc: 0.9216\n",
      "Epoch 6/20\n",
      "375/375 [==============================] - 3s 7ms/step - loss: 0.2080 - acc: 0.9214 - val_loss: 0.2099 - val_acc: 0.9243\n",
      "Epoch 7/20\n",
      "375/375 [==============================] - 3s 7ms/step - loss: 0.2015 - acc: 0.9241 - val_loss: 0.2076 - val_acc: 0.9275\n",
      "Epoch 8/20\n",
      "375/375 [==============================] - 3s 7ms/step - loss: 0.1820 - acc: 0.9318 - val_loss: 0.2002 - val_acc: 0.9284\n",
      "Epoch 9/20\n",
      "375/375 [==============================] - 3s 7ms/step - loss: 0.1748 - acc: 0.9342 - val_loss: 0.1982 - val_acc: 0.9288\n",
      "Epoch 10/20\n",
      "375/375 [==============================] - 3s 7ms/step - loss: 0.1587 - acc: 0.9404 - val_loss: 0.2027 - val_acc: 0.9288\n",
      "Epoch 11/20\n",
      "375/375 [==============================] - 3s 7ms/step - loss: 0.1498 - acc: 0.9446 - val_loss: 0.1947 - val_acc: 0.9314\n",
      "Epoch 12/20\n",
      "375/375 [==============================] - 3s 7ms/step - loss: 0.1444 - acc: 0.9451 - val_loss: 0.2082 - val_acc: 0.9277\n",
      "Epoch 13/20\n",
      "375/375 [==============================] - 3s 7ms/step - loss: 0.1393 - acc: 0.9478 - val_loss: 0.1998 - val_acc: 0.9307\n",
      "Epoch 14/20\n",
      "375/375 [==============================] - 3s 7ms/step - loss: 0.1248 - acc: 0.9534 - val_loss: 0.2099 - val_acc: 0.9294\n",
      "Epoch 15/20\n",
      "375/375 [==============================] - 3s 7ms/step - loss: 0.1243 - acc: 0.9522 - val_loss: 0.2074 - val_acc: 0.9318\n",
      "Epoch 16/20\n",
      "375/375 [==============================] - 3s 7ms/step - loss: 0.1112 - acc: 0.9592 - val_loss: 0.2056 - val_acc: 0.9327\n",
      "Epoch 17/20\n",
      "375/375 [==============================] - 3s 7ms/step - loss: 0.1109 - acc: 0.9575 - val_loss: 0.2055 - val_acc: 0.9327\n",
      "Epoch 18/20\n",
      "375/375 [==============================] - 3s 7ms/step - loss: 0.1014 - acc: 0.9615 - val_loss: 0.2105 - val_acc: 0.9332\n",
      "Epoch 19/20\n",
      "375/375 [==============================] - 3s 7ms/step - loss: 0.0990 - acc: 0.9618 - val_loss: 0.2220 - val_acc: 0.9343\n",
      "Epoch 20/20\n",
      "375/375 [==============================] - 3s 8ms/step - loss: 0.0969 - acc: 0.9636 - val_loss: 0.2222 - val_acc: 0.9356\n"
     ]
    }
   ],
   "source": [
    "history=model.fit(train_images,train_labels,epochs=20,batch_size=128,validation_split=0.2)"
   ]
  },
  {
   "cell_type": "code",
   "execution_count": 14,
   "id": "c4dba536",
   "metadata": {
    "execution": {
     "iopub.execute_input": "2022-02-05T02:01:33.519145Z",
     "iopub.status.busy": "2022-02-05T02:01:33.518602Z",
     "iopub.status.idle": "2022-02-05T02:01:33.753260Z",
     "shell.execute_reply": "2022-02-05T02:01:33.753644Z",
     "shell.execute_reply.started": "2022-02-05T01:58:38.406778Z"
    },
    "papermill": {
     "duration": 0.497348,
     "end_time": "2022-02-05T02:01:33.753790",
     "exception": false,
     "start_time": "2022-02-05T02:01:33.256442",
     "status": "completed"
    },
    "tags": []
   },
   "outputs": [
    {
     "data": {
      "text/plain": [
       "(array([0.775, 0.8  , 0.825, 0.85 , 0.875, 0.9  , 0.925, 0.95 , 0.975]),\n",
       " [Text(0, 0, ''),\n",
       "  Text(0, 0, ''),\n",
       "  Text(0, 0, ''),\n",
       "  Text(0, 0, ''),\n",
       "  Text(0, 0, ''),\n",
       "  Text(0, 0, ''),\n",
       "  Text(0, 0, ''),\n",
       "  Text(0, 0, ''),\n",
       "  Text(0, 0, '')])"
      ]
     },
     "execution_count": 14,
     "metadata": {},
     "output_type": "execute_result"
    },
    {
     "data": {
      "image/png": "[encoded data removed]",
      "text/plain": [
       "<Figure size 720x576 with 1 Axes>"
      ]
     },
     "metadata": {
      "needs_background": "light"
     },
     "output_type": "display_data"
    }
   ],
   "source": [
    "plt.figure(figsize=(10,8))\n",
    "plt.plot(history.history['acc'],label='train_acc')\n",
    "plt.plot(history.history['val_acc'],label='val_acc')\n",
    "plt.legend(fontsize=18)\n",
    "plt.xlabel('Epochs',fontsize=18)\n",
    "plt.ylabel('Accuracy',fontsize=18)\n",
    "plt.xticks(fontsize=16)\n",
    "plt.yticks(fontsize=16)"
   ]
  },
  {
   "cell_type": "code",
   "execution_count": 15,
   "id": "6ef799d6",
   "metadata": {
    "execution": {
     "iopub.execute_input": "2022-02-05T02:01:34.282226Z",
     "iopub.status.busy": "2022-02-05T02:01:34.270436Z",
     "iopub.status.idle": "2022-02-05T02:01:34.482654Z",
     "shell.execute_reply": "2022-02-05T02:01:34.483158Z",
     "shell.execute_reply.started": "2022-02-05T01:58:41.596826Z"
    },
    "papermill": {
     "duration": 0.485853,
     "end_time": "2022-02-05T02:01:34.483297",
     "exception": false,
     "start_time": "2022-02-05T02:01:33.997444",
     "status": "completed"
    },
    "tags": []
   },
   "outputs": [
    {
     "data": {
      "text/plain": [
       "(array([0. , 0.1, 0.2, 0.3, 0.4, 0.5, 0.6]),\n",
       " [Text(0, 0, ''),\n",
       "  Text(0, 0, ''),\n",
       "  Text(0, 0, ''),\n",
       "  Text(0, 0, ''),\n",
       "  Text(0, 0, ''),\n",
       "  Text(0, 0, ''),\n",
       "  Text(0, 0, '')])"
      ]
     },
     "execution_count": 15,
     "metadata": {},
     "output_type": "execute_result"
    },
    {
     "data": {
      "image/png": "[encoded data removed]",
      "text/plain": [
       "<Figure size 720x576 with 1 Axes>"
      ]
     },
     "metadata": {
      "needs_background": "light"
     },
     "output_type": "display_data"
    }
   ],
   "source": [
    "plt.figure(figsize=(10,8))\n",
    "plt.plot(history.history['loss'],label='train_loss')\n",
    "plt.plot(history.history['val_loss'],label='val_loss')\n",
    "plt.legend(fontsize=18)\n",
    "plt.xlabel('Epochs',fontsize=18)\n",
    "plt.ylabel('Loss',fontsize=18)\n",
    "plt.xticks(fontsize=16)\n",
    "plt.yticks(fontsize=16)"
   ]
  },
  {
   "cell_type": "code",
   "execution_count": 16,
   "id": "3fe0d454",
   "metadata": {
    "execution": {
     "iopub.execute_input": "2022-02-05T02:01:34.976923Z",
     "iopub.status.busy": "2022-02-05T02:01:34.976015Z",
     "iopub.status.idle": "2022-02-05T02:01:35.954193Z",
     "shell.execute_reply": "2022-02-05T02:01:35.954805Z",
     "shell.execute_reply.started": "2022-02-05T01:58:44.046517Z"
    },
    "papermill": {
     "duration": 1.22751,
     "end_time": "2022-02-05T02:01:35.955008",
     "exception": false,
     "start_time": "2022-02-05T02:01:34.727498",
     "status": "completed"
    },
    "tags": []
   },
   "outputs": [
    {
     "name": "stdout",
     "output_type": "stream",
     "text": [
      "313/313 [==============================] - 1s 2ms/step - loss: 0.2044 - acc: 0.9365\n",
      "loss:0.204\n",
      "acc: 0.937\n",
      "[3 4 4 6 8 5 6 3 6 4]\n",
      "[3 6 4 6 8 5 4 3 6 4]\n"
     ]
    }
   ],
   "source": [
    "test_loss,test_acc=model.evaluate(test_images,test_labels)\n",
    "print('loss:{:.3f}\\nacc: {:.3f}'.format(test_loss,test_acc))\n",
    "\n",
    "test_ans=np.argmax(test_labels[10:20],axis=1)\n",
    "print(test_ans)\n",
    "\n",
    "test_predictions=model.predict(test_images[10:20])\n",
    "test_predictions=np.argmax(test_predictions,axis=1)\n",
    "\n",
    "print(test_predictions)"
   ]
  },
  {
   "cell_type": "code",
   "execution_count": null,
   "id": "127137c9",
   "metadata": {
    "papermill": {
     "duration": 0.246407,
     "end_time": "2022-02-05T02:01:36.454396",
     "exception": false,
     "start_time": "2022-02-05T02:01:36.207989",
     "status": "completed"
    },
    "tags": []
   },
   "outputs": [],
   "source": []
  }
 ],
 "metadata": {
  "kernelspec": {
   "display_name": "Python 3",
   "language": "python",
   "name": "python3"
  },
  "language_info": {
   "codemirror_mode": {
    "name": "ipython",
    "version": 3
   },
   "file_extension": ".py",
   "mimetype": "text/x-python",
   "name": "python",
   "nbconvert_exporter": "python",
   "pygments_lexer": "ipython3",
   "version": "3.7.10"
  },
  "papermill": {
   "default_parameters": {},
   "duration": 88.660616,
   "end_time": "2022-02-05T02:01:40.033107",
   "environment_variables": {},
   "exception": null,
   "input_path": "__notebook__.ipynb",
   "output_path": "__notebook__.ipynb",
   "parameters": {},
   "start_time": "2022-02-05T02:00:11.372491",
   "version": "2.3.3"
  }
 },
 "nbformat": 4,
 "nbformat_minor": 5
}
